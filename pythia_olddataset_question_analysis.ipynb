{
  "nbformat": 4,
  "nbformat_minor": 0,
  "metadata": {
    "colab": {
      "name": "pythia_olddataset_question_analysis.ipynb",
      "provenance": [],
      "collapsed_sections": [],
      "machine_shape": "hm"
    },
    "kernelspec": {
      "name": "python3",
      "display_name": "Python 3"
    },
    "language_info": {
      "name": "python"
    },
    "accelerator": "GPU"
  },
  "cells": [
    {
      "cell_type": "code",
      "metadata": {
        "id": "pL2FE96RFTE6"
      },
      "source": [
        "# !wget https://nlp.cs.unc.edu/data/lxmert_data/vizwiz/vizwiz/valid.json\n",
        "import json\n",
        "def is_number(s):\n",
        "  if s.isnumeric() or s.isdigit():\n",
        "    return True\n",
        "  try:\n",
        "      float(s)\n",
        "      return True\n",
        "  except ValueError:\n",
        "      return False\n",
        "\n",
        "with open('pythia_result.json') as f:\n",
        "  predict_result = json.load(f)\n",
        "\n",
        "with open('valid.json') as f1:\n",
        "  val_info = json.load(f1)\n",
        "\n",
        "import collections\n",
        "\n",
        "result = {}\n",
        "for qa in val_info:\n",
        "  result[qa[\"question_id\"]] = qa\n",
        "val_info = result\n",
        "\n",
        "\n",
        "\n",
        "\n",
        "      # {\n",
        "    #     \"img_id\":\"VizWiz_val_000000028037\",\n",
        "    #     \"label\":{\n",
        "    #         \"72\":1,\n",
        "    #         \"72 degrees\":0.3\n",
        "    #     },\n",
        "    #     \"question_id\":\"VizWiz_val_000000028037.jpg\",\n",
        "    #     \"sent\":\"What temperature is the thermostat set to?\",\n",
        "    #     \"answer\":\"unanswerable\"\n",
        "    # }\n",
        "\n",
        "binary_qa = [] #3answers\n",
        "nonanswerable_qa = [] #3answers\n",
        "number_qa = []#3answers\n",
        "all_qa = []\n",
        "\n",
        "for qa in predict_result:\n",
        "  info = val_info.get(qa[\"image\"])\n",
        "  info[\"answer\"] = qa[\"answer\"]\n",
        "  all_qa.append(info)\n",
        "  labels = info[\"label\"].keys()\n",
        "  if (\"yes\" in labels and info[\"label\"][\"yes\"] >= 0.9) or (\"no\" in labels and info[\"label\"][\"no\"] >= 0.9):\n",
        "    binary_qa.append(info)\n",
        "  if \"unanswerable\" in labels and info[\"label\"][\"unanswerable\"] >= 0.9:\n",
        "    nonanswerable_qa.append(info)\n",
        "  for label in labels:\n",
        "    if is_number(label) and info[\"label\"][label] >= 0.9:\n",
        "      number_qa.append(info)\n",
        "      break\n",
        "\n"
      ],
      "execution_count": 4,
      "outputs": []
    },
    {
      "cell_type": "code",
      "metadata": {
        "colab": {
          "base_uri": "https://localhost:8080/"
        },
        "id": "WQZ2JhMYHYek",
        "outputId": "65cb5717-30a4-462c-ff62-0f8ee30d9151"
      },
      "source": [
        "print(len(all_qa))\n",
        "print(len(binary_qa))\n",
        "print(len(nonanswerable_qa))\n",
        "print(len(number_qa))\n",
        "with open('all_qa_pred_result.json', 'w') as outfile:\n",
        "    json.dump(all_qa, outfile)\n",
        "with open('binary_qa_pred_result.json', 'w') as outfile:\n",
        "    json.dump(binary_qa, outfile)\n",
        "with open('nonanswerable_qa_pred_result.json', 'w') as outfile:\n",
        "    json.dump(nonanswerable_qa, outfile)\n",
        "with open('number_qa_pred_result.json', 'w') as outfile:\n",
        "    json.dump(number_qa, outfile)"
      ],
      "execution_count": 5,
      "outputs": [
        {
          "output_type": "stream",
          "text": [
            "3173\n",
            "154\n",
            "749\n",
            "61\n"
          ],
          "name": "stdout"
        }
      ]
    },
    {
      "cell_type": "code",
      "metadata": {
        "colab": {
          "base_uri": "https://localhost:8080/"
        },
        "id": "F-qxu2RXI7Q4",
        "outputId": "fbb5f130-8f8c-4f4e-c7bd-c9ab1ea36e9c"
      },
      "source": [
        "binary_qa_pred_wrong = []\n",
        "for qa in binary_qa:\n",
        "  popular_labels = []\n",
        "  max_score = 0\n",
        "  for label,score in qa[\"label\"].items():\n",
        "    if score > max_score:\n",
        "      popular_labels = [label]\n",
        "      max_score = score\n",
        "    elif score == max_score:\n",
        "      popular_labels.append(label)\n",
        "\n",
        "  if qa[\"answer\"] not in popular_labels:\n",
        "    binary_qa_pred_wrong.append(qa)\n",
        "with open('binary_qa_pred_wrong.json', 'w') as outfile:\n",
        "    json.dump(binary_qa_pred_wrong, outfile) \n",
        "print(\"binary wrong\" + str(len(binary_qa_pred_wrong) / len(binary_qa)))\n",
        "\n",
        "\n",
        "all_qa_pred_wrong = []\n",
        "for qa in all_qa:\n",
        "  popular_labels = []\n",
        "  max_score = 0\n",
        "  for label,score in qa[\"label\"].items():\n",
        "    if score > max_score:\n",
        "      popular_labels = [label]\n",
        "      max_score = score\n",
        "    elif score == max_score:\n",
        "      popular_labels.append(label)\n",
        "\n",
        "  if qa[\"answer\"] not in popular_labels:\n",
        "    all_qa_pred_wrong.append(qa)\n",
        "with open('all_qa_pred_wrong.json', 'w') as outfile:\n",
        "    json.dump(all_qa_pred_wrong, outfile) \n",
        "\n",
        "print(\"all_qa_pred_wrong\" + str(len(all_qa_pred_wrong) / len(all_qa)))\n",
        "\n",
        "nonanswerable_qa_pred_wrong = []\n",
        "for qa in nonanswerable_qa:\n",
        "  popular_labels = []\n",
        "  max_score = 0\n",
        "  for label,score in qa[\"label\"].items():\n",
        "    if score > max_score:\n",
        "      popular_labels = [label]\n",
        "      max_score = score\n",
        "    elif score == max_score:\n",
        "      popular_labels.append(label)\n",
        "\n",
        "  if qa[\"answer\"] not in popular_labels:\n",
        "    nonanswerable_qa_pred_wrong.append(qa)\n",
        "with open('nonanswerable_qa_pred_wrong.json', 'w') as outfile:\n",
        "    json.dump(nonanswerable_qa_pred_wrong, outfile) \n",
        "\n",
        "print(\"nonanswerable_qa_pred_wrong\" + str(len(nonanswerable_qa_pred_wrong) / len(nonanswerable_qa)))\n",
        "\n",
        "\n",
        "number_qa_pred_wrong = []\n",
        "for qa in number_qa:\n",
        "  popular_labels = []\n",
        "  max_score = 0\n",
        "  for label,score in qa[\"label\"].items():\n",
        "    if score > max_score:\n",
        "      popular_labels = [label]\n",
        "      max_score = score\n",
        "    elif score == max_score:\n",
        "      popular_labels.append(label)\n",
        "\n",
        "  if qa[\"answer\"] not in popular_labels:\n",
        "    number_qa_pred_wrong.append(qa)\n",
        "with open('number_qa_pred_wrong.json', 'w') as outfile:\n",
        "    json.dump(number_qa_pred_wrong, outfile) \n",
        "print(\"number_qa_pred_wrong\" + str(len(number_qa_pred_wrong) / len(number_qa)))\n"
      ],
      "execution_count": 6,
      "outputs": [
        {
          "output_type": "stream",
          "text": [
            "binary wrong0.37662337662337664\n",
            "all_qa_pred_wrong0.5534194768358021\n",
            "nonanswerable_qa_pred_wrong0.27102803738317754\n",
            "number_qa_pred_wrong0.7868852459016393\n"
          ],
          "name": "stdout"
        }
      ]
    },
    {
      "cell_type": "code",
      "metadata": {
        "colab": {
          "base_uri": "https://localhost:8080/"
        },
        "id": "g1MRQ6lMHhZP",
        "outputId": "6e96be5f-3de3-46ee-db60-4779f24b18b2"
      },
      "source": [
        "#accuracy recalculate\n",
        "all_qa_pred_result = all_qa\n",
        "\n",
        "total_score = 0\n",
        "for qa in all_qa_pred_result:\n",
        "  if qa[\"answer\"] in qa[\"label\"].keys():\n",
        "    score = qa[\"label\"][qa[\"answer\"]]\n",
        "    if score == 0.3:\n",
        "      total_score += 1.0/3\n",
        "    elif score == 0.6:\n",
        "      total_score += 2.0/3\n",
        "    elif score >= 0.9:\n",
        "      total_score += 1.0\n",
        "print(\"acc for all is \" + str(total_score/len(all_qa_pred_result)))\n",
        "\n",
        "binary_qa_pred_result = binary_qa\n",
        "total_score = 0\n",
        "for qa in binary_qa_pred_result:\n",
        "  if qa[\"answer\"] in qa[\"label\"].keys():\n",
        "    score = qa[\"label\"][qa[\"answer\"]]\n",
        "    if score == 0.3:\n",
        "      total_score += 1.0/3\n",
        "    elif score == 0.6:\n",
        "      total_score += 2.0/3\n",
        "    elif score >= 0.9:\n",
        "      total_score += 1.0\n",
        "print(\"acc for binary is \" + str(total_score/len(binary_qa_pred_result)))\n",
        "\n",
        "nonanswerable_qa_pred_result = nonanswerable_qa\n",
        "total_score = 0\n",
        "for qa in nonanswerable_qa_pred_result:\n",
        "  if qa[\"answer\"] in qa[\"label\"].keys():\n",
        "    score = qa[\"label\"][qa[\"answer\"]]\n",
        "    if score == 0.3:\n",
        "      total_score += 1.0/3\n",
        "    elif score == 0.6:\n",
        "      total_score += 2.0/3\n",
        "    elif score >= 0.9:\n",
        "      total_score += 1.0\n",
        "print(\"acc for nonanswerable is \" + str(total_score/len(nonanswerable_qa_pred_result)))\n",
        "\n",
        "number_qa_pred_result = number_qa\n",
        "total_score = 0\n",
        "for qa in number_qa_pred_result:\n",
        "  if qa[\"answer\"] in qa[\"label\"].keys():\n",
        "    score = qa[\"label\"][qa[\"answer\"]]\n",
        "    if score == 0.3:\n",
        "      total_score += 1.0/3\n",
        "    elif score == 0.6:\n",
        "      total_score += 2.0/3\n",
        "    elif score >= 0.9:\n",
        "      total_score += 1.0\n",
        "print(\"acc for number is \" + str(total_score/len(number_qa_pred_result)))"
      ],
      "execution_count": 7,
      "outputs": [
        {
          "output_type": "stream",
          "text": [
            "acc for all is 0.5477466120390793\n",
            "acc for binary is 0.7748917748917749\n",
            "acc for nonanswerable is 0.8731642189586117\n",
            "acc for number is 0.3224043715846994\n"
          ],
          "name": "stdout"
        }
      ]
    },
    {
      "cell_type": "code",
      "metadata": {
        "colab": {
          "base_uri": "https://localhost:8080/"
        },
        "id": "f36c4syeznnN",
        "outputId": "b444cf7a-9561-41bf-d2dd-0d451906af8c"
      },
      "source": [
        "print(\"all prediction cnt: \" + str(len(all_qa_pred_result)))\n",
        "print(\"all binary qa cnt: \" + str(len(binary_qa_pred_result)))\n",
        "print(\"all nonanswerable qa cnt: \" + str(len(nonanswerable_qa_pred_result)))\n",
        "print(\"all number qa cnt: \" + str(len(number_qa_pred_result)))"
      ],
      "execution_count": 8,
      "outputs": [
        {
          "output_type": "stream",
          "text": [
            "all prediction cnt: 3173\n",
            "all binary qa cnt: 154\n",
            "all nonanswerable qa cnt: 749\n",
            "all number qa cnt: 61\n"
          ],
          "name": "stdout"
        }
      ]
    },
    {
      "cell_type": "code",
      "metadata": {
        "colab": {
          "base_uri": "https://localhost:8080/"
        },
        "id": "w8uoap06zsc4",
        "outputId": "c75d31a2-a0ae-4f1c-ec91-f31136279fb0"
      },
      "source": [
        "#edit distance\n",
        "!pip install python-Levenshtein\n",
        "from Levenshtein import distance\n",
        "\n",
        "total_dist = 0\n",
        "for qa in all_qa_pred_result:\n",
        "  answer = qa[\"answer\"]\n",
        "  three = []\n",
        "  six = []\n",
        "  nine = []\n",
        "  ones = []\n",
        "  for label,score in qa[\"label\"].items():\n",
        "    dist = distance(answer,label)\n",
        "    if score == 0.3:\n",
        "      three.append(dist)\n",
        "    elif score == 0.6:\n",
        "      six.append(dist)\n",
        "    elif score == 0.9:\n",
        "      nine.append(dist)\n",
        "    else:\n",
        "      ones.append(dist)\n",
        "  dist = sum(three) + sum(six)*2 + sum(nine)*3 +( (10-(len(three) + len(six) + len(nine)))/len(ones)*sum(ones) if len(ones) > 0 else 0)\n",
        "  total_dist += (dist/10)\n",
        "print(\"ave edit dist for all : \" + str(total_dist/len(all_qa_pred_result)))\n",
        "\n",
        "#binary\n",
        "total_dist = 0\n",
        "for qa in binary_qa_pred_result:\n",
        "  answer = qa[\"answer\"]\n",
        "  three = []\n",
        "  six = []\n",
        "  nine = []\n",
        "  ones = []\n",
        "  for label,score in qa[\"label\"].items():\n",
        "    dist = distance(answer,label)\n",
        "    if score == 0.3:\n",
        "      three.append(dist)\n",
        "    elif score == 0.6:\n",
        "      six.append(dist)\n",
        "    elif score == 0.9:\n",
        "      nine.append(dist)\n",
        "    else:\n",
        "      ones.append(dist)\n",
        "  dist = sum(three) + sum(six)*2 + sum(nine)*3 +( (10-(len(three) + len(six) + len(nine)))/len(ones)*sum(ones) if len(ones) > 0 else 0)\n",
        "  total_dist += (dist/10)\n",
        "\n",
        "print(\"ave edit dist for binary : \" + str(total_dist/len(binary_qa_pred_result)))\n",
        "\n",
        "#unanswerable\n",
        "total_dist = 0\n",
        "for qa in nonanswerable_qa_pred_result:\n",
        "  answer = qa[\"answer\"]\n",
        "  three = []\n",
        "  six = []\n",
        "  nine = []\n",
        "  ones = []\n",
        "  for label,score in qa[\"label\"].items():\n",
        "    dist = distance(answer,label)\n",
        "    if score == 0.3:\n",
        "      three.append(dist)\n",
        "    elif score == 0.6:\n",
        "      six.append(dist)\n",
        "    elif score == 0.9:\n",
        "      nine.append(dist)\n",
        "    else:\n",
        "      ones.append(dist)\n",
        "  dist = sum(three) + sum(six)*2 + sum(nine)*3 +( (10-(len(three) + len(six) + len(nine)))/len(ones)*sum(ones) if len(ones) > 0 else 0)\n",
        "  total_dist += (dist/10)\n",
        "print(\"ave edit dist for nonanswerable : \" + str(total_dist/len(nonanswerable_qa_pred_result)))\n",
        "\n",
        "#number\n",
        "total_dist = 0\n",
        "for qa in number_qa_pred_result:\n",
        "  answer = qa[\"answer\"]\n",
        "  three = []\n",
        "  six = []\n",
        "  nine = []\n",
        "  ones = []\n",
        "  for label,score in qa[\"label\"].items():\n",
        "    dist = distance(answer,label)\n",
        "    if score == 0.3:\n",
        "      three.append(dist)\n",
        "    elif score == 0.6:\n",
        "      six.append(dist)\n",
        "    elif score == 0.9:\n",
        "      nine.append(dist)\n",
        "    else:\n",
        "      ones.append(dist)\n",
        "  dist = sum(three) + sum(six)*2 + sum(nine)*3 +( (10-(len(three) + len(six) + len(nine)))/len(ones)*sum(ones) if len(ones) > 0 else 0)\n",
        "  total_dist += (dist/10)\n",
        "\n",
        "print(\"ave edit dist for number : \" + str(total_dist/len(number_qa_pred_result)))"
      ],
      "execution_count": 9,
      "outputs": [
        {
          "output_type": "stream",
          "text": [
            "Collecting python-Levenshtein\n",
            "\u001b[?25l  Downloading https://files.pythonhosted.org/packages/2a/dc/97f2b63ef0fa1fd78dcb7195aca577804f6b2b51e712516cc0e902a9a201/python-Levenshtein-0.12.2.tar.gz (50kB)\n",
            "\r\u001b[K     |██████▌                         | 10kB 14.7MB/s eta 0:00:01\r\u001b[K     |█████████████                   | 20kB 19.7MB/s eta 0:00:01\r\u001b[K     |███████████████████▌            | 30kB 20.8MB/s eta 0:00:01\r\u001b[K     |██████████████████████████      | 40kB 16.5MB/s eta 0:00:01\r\u001b[K     |████████████████████████████████| 51kB 4.3MB/s \n",
            "\u001b[?25hRequirement already satisfied: setuptools in /usr/local/lib/python3.7/dist-packages (from python-Levenshtein) (54.2.0)\n",
            "Building wheels for collected packages: python-Levenshtein\n",
            "  Building wheel for python-Levenshtein (setup.py) ... \u001b[?25l\u001b[?25hdone\n",
            "  Created wheel for python-Levenshtein: filename=python_Levenshtein-0.12.2-cp37-cp37m-linux_x86_64.whl size=149816 sha256=f2bb0d76720899aa47e6fdb4dc28ae68d074ef00d898d0812decc5b68b75dc1c\n",
            "  Stored in directory: /root/.cache/pip/wheels/b3/26/73/4b48503bac73f01cf18e52cd250947049a7f339e940c5df8fc\n",
            "Successfully built python-Levenshtein\n",
            "Installing collected packages: python-Levenshtein\n",
            "Successfully installed python-Levenshtein-0.12.2\n",
            "ave edit dist for all : 8.045792625275753\n",
            "ave edit dist for binary : 5.270779220779224\n",
            "ave edit dist for nonanswerable : 5.499465954606134\n",
            "ave edit dist for number : 7.7672131147540995\n"
          ],
          "name": "stdout"
        }
      ]
    },
    {
      "cell_type": "code",
      "metadata": {
        "colab": {
          "base_uri": "https://localhost:8080/",
          "height": 451
        },
        "id": "qqooT6y0zvrc",
        "outputId": "b602b669-d0b1-44c5-85d4-3d9254300037"
      },
      "source": [
        "#details for binary qa\n",
        "binary_qa_wrong_cnt = len(binary_qa_pred_wrong)\n",
        "print(\"total number of binary qa predicted wrong is : \" + str(binary_qa_wrong_cnt))\n",
        "\n",
        "\n",
        "\n",
        "#wrong answer vote distribution\n",
        "d = {}\n",
        "cnt = []\n",
        "for qa in binary_qa_pred_wrong:\n",
        "  if qa[\"answer\"] in qa[\"label\"].keys():\n",
        "    score = qa[\"label\"][qa[\"answer\"]]\n",
        "    num_votes = 1 if score == 0.3 else 2 if score == 0.6 else 3 if score == 0.9 else 4\n",
        "    d[num_votes] = d.get(num_votes,0)+1\n",
        "    cnt.append(num_votes)\n",
        "  else:\n",
        "    d[0] = d.get(0,0)+1\n",
        "    cnt.append(0)\n",
        "print(\"number of workers vote for the wrong answer distribution: \" + str(d))\n",
        "\n",
        "import matplotlib.pyplot as plt\n",
        "import numpy as np\n",
        "plt.hist(cnt)\n",
        "bars = ('0','1','2','3')\n",
        "x_pos = np.arange(len(bars))\n",
        "plt.title('Wrong Answer Vote Count Distribution for LSTM+CNN')\n",
        "plt.xlabel('Number of Votes for the Wrong Answer')\n",
        "plt.ylabel('Number of Questions')\n",
        "plt.xticks(x_pos, bars)\n",
        "plt.show()\n",
        "\n",
        "\n",
        "#yes no swap\n",
        "yes_no_swap_cnt = 0\n",
        "ave_score_for_wrong_ans = 0\n",
        "for qa in binary_qa_pred_wrong:\n",
        "  if qa[\"answer\"] in [\"yes\",\"no\"]:\n",
        "    yes_no_swap_cnt += 1\n",
        "    ave_score_for_wrong_ans += qa[\"label\"][qa[\"answer\"]] if qa[\"answer\"] in qa[\"label\"].keys() else 0\n",
        "print(\"yes/no predicted opposite percentage: \" + str(yes_no_swap_cnt/binary_qa_wrong_cnt))\n",
        "\n",
        "#unanswerable_cnt\n",
        "unanswerable_cnt = 0\n",
        "for qa in binary_qa_pred_wrong:\n",
        "  if qa[\"answer\"] == \"unanswerable\":\n",
        "    unanswerable_cnt += 1\n",
        "print(\"percentage of answer equals to unanswerable : \" + str(unanswerable_cnt/binary_qa_wrong_cnt))\n",
        "\n",
        "#question starts with can you see / can you tell\n",
        "can_you_see_cnt = 0\n",
        "for qa in binary_qa_pred_wrong:\n",
        "  if qa[\"sent\"].lower().startswith(\"can you see\"):\n",
        "    can_you_see_cnt += 1\n",
        "can_you_tell_cnt = 0\n",
        "for qa in binary_qa_pred_wrong:\n",
        "  if qa[\"sent\"].lower().startswith(\"can you tell\"):\n",
        "    can_you_tell_cnt += 1\n",
        "can_you_cnt = 0\n",
        "for qa in binary_qa_pred_wrong:\n",
        "  if qa[\"sent\"].lower().startswith(\"can you\"):\n",
        "    can_you_cnt += 1\n",
        "print(\"percentage of questions starts with can you : \" + str(can_you_cnt/binary_qa_wrong_cnt))\n",
        "\n",
        "#question contains but: \"I know this is suntan lotion, but I was wondering which factor it is, if you can see, please.\"\n",
        "but_cnt = 0\n",
        "for qa in binary_qa_pred_wrong:\n",
        "  if \"but\" in qa[\"sent\"].lower():\n",
        "    but_cnt += 1\n",
        "print(\"percentage of questions contains but : \" + str(but_cnt/binary_qa_wrong_cnt))\n",
        "\n",
        "#question length analysis\n",
        "question_length = {}\n",
        "max_len = 0\n",
        "ave_len = 0\n",
        "min_len = 1000000\n",
        "for qa in binary_qa_pred_wrong:\n",
        "  q_len = len(qa[\"sent\"])\n",
        "  question_length[q_len] = question_length.get(q_len,0) + 1\n",
        "  max_len = max(max_len,q_len)\n",
        "  ave_len += q_len\n",
        "  min_len = min(min_len,q_len)\n",
        "print(\"question length distribution: \" + str(question_length))\n",
        "ave_len /=len(binary_qa_pred_wrong)\n",
        "print(\"max len: {}, min len: {}, ave len: {}\".format(max_len,min_len,ave_len))\n"
      ],
      "execution_count": 10,
      "outputs": [
        {
          "output_type": "stream",
          "text": [
            "total number of binary qa predicted wrong is : 58\n",
            "number of workers vote for the wrong answer distribution: {2: 9, 0: 21, 1: 16, 3: 12}\n"
          ],
          "name": "stdout"
        },
        {
          "output_type": "display_data",
          "data": {
            "image/png": "[encoded data removed]",
            "text/plain": [
              "<Figure size 432x288 with 1 Axes>"
            ]
          },
          "metadata": {
            "tags": [],
            "needs_background": "light"
          }
        },
        {
          "output_type": "stream",
          "text": [
            "yes/no predicted opposite percentage: 0.5344827586206896\n",
            "percentage of answer equals to unanswerable : 0.29310344827586204\n",
            "percentage of questions starts with can you : 0.1724137931034483\n",
            "percentage of questions contains but : 0.034482758620689655\n",
            "question length distribution: {36: 2, 16: 2, 28: 2, 56: 1, 69: 1, 32: 2, 74: 2, 92: 1, 42: 2, 109: 1, 33: 2, 40: 1, 41: 2, 157: 1, 13: 3, 26: 2, 35: 1, 29: 1, 23: 4, 14: 1, 55: 2, 31: 1, 46: 2, 20: 1, 45: 1, 30: 1, 66: 1, 15: 1, 12: 1, 51: 1, 160: 1, 37: 1, 71: 1, 19: 1, 22: 1, 85: 1, 27: 1, 34: 1, 25: 1, 50: 1, 49: 1, 123: 1}\n",
            "max len: 160, min len: 12, ave len: 44.172413793103445\n"
          ],
          "name": "stdout"
        }
      ]
    },
    {
      "cell_type": "code",
      "metadata": {
        "colab": {
          "base_uri": "https://localhost:8080/",
          "height": 451
        },
        "id": "TXwhEDBQzyyH",
        "outputId": "a85f2348-af61-49a4-e15e-ec50904a3573"
      },
      "source": [
        "def is_number(s):\n",
        "  if s.isnumeric() or s.isdigit():\n",
        "    return True\n",
        "  try:\n",
        "      float(s)\n",
        "      return True\n",
        "  except ValueError:\n",
        "      return False\n",
        "\n",
        "#details for number_qa\n",
        "number_qa_wrong_cnt = len(number_qa_pred_wrong)\n",
        "print(\"total number of number qa predicted wrong is : \" + str(number_qa_wrong_cnt))\n",
        "\n",
        "\n",
        "d = {}\n",
        "cnt = []\n",
        "for qa in number_qa_pred_wrong:\n",
        "  if qa[\"answer\"] in qa[\"label\"].keys():\n",
        "    score = qa[\"label\"][qa[\"answer\"]]\n",
        "    num_votes = 1 if score == 0.3 else 2 if score == 0.6 else 3 if score == 0.9 else 4\n",
        "    d[num_votes] = d.get(num_votes,0)+1\n",
        "    cnt.append(num_votes)\n",
        "  else:\n",
        "    d[0] = d.get(0,0)+1\n",
        "    cnt.append(0)\n",
        "print(\"number of workers vote for the wrong answer distribution: \" + str(d))\n",
        "\n",
        "plt.hist(cnt)\n",
        "bars = ('0','1','2','3')\n",
        "x_pos = np.arange(len(bars))\n",
        "plt.title('Wrong Answer Vote Count Distribution')\n",
        "plt.xlabel('Number of Votes for the Wrong Answer')\n",
        "plt.ylabel('Number of Questions')\n",
        "plt.xticks(x_pos, bars)\n",
        "plt.show()\n",
        "\n",
        "#answer not number cnt\n",
        "ans_not_num_cnt = 0\n",
        "for qa in number_qa_pred_wrong:\n",
        "  if not is_number(qa[\"answer\"]):\n",
        "    ans_not_num_cnt += 1\n",
        "print(\"percentage of answers not number: \" + str(ans_not_num_cnt/number_qa_wrong_cnt))\n",
        "\n",
        "#unanswerable_cnt\n",
        "unanswerable_cnt = 0\n",
        "for qa in number_qa_pred_wrong:\n",
        "  if qa[\"answer\"] == \"unanswerable\":\n",
        "    unanswerable_cnt += 1\n",
        "print(\"percentage of answer equals to unanswerable : \" + str(unanswerable_cnt/number_qa_wrong_cnt))\n",
        "\n",
        "max_len = 0\n",
        "ave_len = 0\n",
        "min_len = 1000000\n",
        "#question length analysis\n",
        "question_length = {}\n",
        "for qa in number_qa_pred_wrong:\n",
        "  q_len = len(qa[\"sent\"])\n",
        "  max_len = max(max_len,q_len)\n",
        "  ave_len += q_len\n",
        "  min_len = min(min_len,q_len)\n",
        "  question_length[q_len] = question_length.get(q_len,0) + 1\n",
        "print(\"question length distribution: \" + str(question_length))\n",
        "ave_len /=len(number_qa_pred_wrong)\n",
        "print(\"max len: {}, min len: {}, ave len: {}\".format(max_len,min_len,ave_len))\n",
        "\n",
        "#question contains but: \"I know this is suntan lotion, but I was wondering which factor it is, if you can see, please.\"\n",
        "but_cnt = 0\n",
        "for qa in number_qa_pred_wrong:\n",
        "  if \"but\" in qa[\"sent\"].lower():\n",
        "    but_cnt += 1\n",
        "print(\"percentage of questions contains but : \" + str(but_cnt/number_qa_wrong_cnt))\n",
        "\n",
        "can_you_cnt = 0\n",
        "for qa in number_qa_pred_wrong:\n",
        "  if qa[\"sent\"].lower().startswith(\"can you\"):\n",
        "    can_you_cnt += 1\n",
        "print(\"percentage of questions starts with can you : \" + str(can_you_cnt/number_qa_wrong_cnt))\n"
      ],
      "execution_count": 11,
      "outputs": [
        {
          "output_type": "stream",
          "text": [
            "total number of number qa predicted wrong is : 48\n",
            "number of workers vote for the wrong answer distribution: {0: 36, 1: 6, 3: 2, 2: 4}\n"
          ],
          "name": "stdout"
        },
        {
          "output_type": "display_data",
          "data": {
            "image/png": "[encoded data removed]",
            "text/plain": [
              "<Figure size 432x288 with 1 Axes>"
            ]
          },
          "metadata": {
            "tags": [],
            "needs_background": "light"
          }
        },
        {
          "output_type": "stream",
          "text": [
            "percentage of answers not number: 0.6875\n",
            "percentage of answer equals to unanswerable : 0.4166666666666667\n",
            "question length distribution: {25: 2, 19: 1, 31: 3, 9: 1, 41: 2, 47: 1, 42: 2, 29: 1, 17: 2, 45: 1, 52: 1, 46: 2, 26: 2, 40: 3, 28: 1, 37: 3, 20: 1, 93: 1, 34: 1, 27: 2, 53: 1, 38: 1, 89: 1, 23: 1, 43: 1, 36: 1, 39: 1, 129: 1, 59: 1, 69: 1, 62: 1, 44: 2, 21: 1, 18: 1}\n",
            "max len: 129, min len: 9, ave len: 39.895833333333336\n",
            "percentage of questions contains but : 0.0625\n",
            "percentage of questions starts with can you : 0.10416666666666667\n"
          ],
          "name": "stdout"
        }
      ]
    },
    {
      "cell_type": "code",
      "metadata": {
        "colab": {
          "base_uri": "https://localhost:8080/",
          "height": 451
        },
        "id": "X17sj02hz1Bk",
        "outputId": "54fb5b03-27f8-486b-8036-38c3b16bcf5a"
      },
      "source": [
        "#details for unanswerable\n",
        "nonanswerable_qa_wrong_cnt = len(nonanswerable_qa_pred_wrong)\n",
        "print(\"total number of unanswerable qa predicted wrong is : \" + str(nonanswerable_qa_wrong_cnt))\n",
        "\n",
        "#wrong answer vote distribution\n",
        "d = {}\n",
        "cnt = []\n",
        "for qa in nonanswerable_qa_pred_wrong:\n",
        "  if qa[\"answer\"] in qa[\"label\"].keys():\n",
        "    score = qa[\"label\"][qa[\"answer\"]]\n",
        "    num_votes = 1 if score == 0.3 else 2 if score == 0.6 else 3 if score == 0.9 else 4\n",
        "    d[num_votes] = d.get(num_votes,0)+1\n",
        "    cnt.append(num_votes)\n",
        "  else:\n",
        "    d[0] = d.get(0,0)+1\n",
        "    cnt.append(0)\n",
        "print(\"number of workers vote for the wrong answer distribution: \" + str(d))\n",
        "\n",
        "plt.hist(cnt)\n",
        "bars = ('0','1','2','3')\n",
        "x_pos = np.arange(len(bars))\n",
        "plt.title('Wrong Answer Vote Count Distribution for LSTM+CNN')\n",
        "plt.xlabel('Number of Votes for the Wrong Answer')\n",
        "plt.ylabel('Number of Questions')\n",
        "plt.xticks(x_pos, bars)\n",
        "plt.show()\n",
        "\n",
        "#binary\n",
        "binary_answer_cnt = 0\n",
        "for qa in nonanswerable_qa_pred_wrong:\n",
        "  if qa[\"answer\"] in [\"yes\",\"no\"]:\n",
        "    binary_answer_cnt += 1\n",
        "print(\"output answer is binary percentage: \" + str(binary_answer_cnt/nonanswerable_qa_wrong_cnt))\n",
        "\n",
        "#number\n",
        "number_answer_cnt = 0\n",
        "for qa in nonanswerable_qa_pred_wrong:\n",
        "  if is_number(qa[\"answer\"]):\n",
        "    number_answer_cnt += 1\n",
        "print(\"output answer is number percentage: \" + str(number_answer_cnt/nonanswerable_qa_wrong_cnt))\n",
        "\n",
        "\n",
        "#question length analysis\n",
        "max_len = 0\n",
        "ave_len = 0\n",
        "min_len = 1000000\n",
        "question_length = {}\n",
        "for qa in nonanswerable_qa_pred_wrong:\n",
        "  q_len = len(qa[\"sent\"])\n",
        "  max_len = max(max_len,q_len)\n",
        "  ave_len += q_len\n",
        "  min_len = min(min_len,q_len)\n",
        "  question_length[q_len] = question_length.get(q_len,0) + 1\n",
        "print(\"question length distribution: \" + str(question_length))\n",
        "ave_len /=len(number_qa_pred_wrong)\n",
        "print(\"max len: {}, min len: {}, ave len: {}\".format(max_len,min_len,ave_len))\n",
        "\n",
        "#question contains but: \"I know this is suntan lotion, but I was wondering which factor it is, if you can see, please.\"\n",
        "but_cnt = 0\n",
        "for qa in nonanswerable_qa_pred_wrong:\n",
        "  if \"but\" in qa[\"sent\"].lower():\n",
        "    but_cnt += 1\n",
        "print(\"percentage of questions contains but : \" + str(but_cnt/nonanswerable_qa_wrong_cnt))\n",
        "\n",
        "\n",
        "can_you_cnt = 0\n",
        "for qa in nonanswerable_qa_pred_wrong:\n",
        "  if qa[\"sent\"].lower().startswith(\"can you\"):\n",
        "    can_you_cnt += 1\n",
        "print(\"percentage of questions starts with can you : \" + str(can_you_cnt/nonanswerable_qa_wrong_cnt))"
      ],
      "execution_count": 12,
      "outputs": [
        {
          "output_type": "stream",
          "text": [
            "total number of unanswerable qa predicted wrong is : 203\n",
            "number of workers vote for the wrong answer distribution: {1: 45, 3: 63, 2: 45, 0: 50}\n"
          ],
          "name": "stdout"
        },
        {
          "output_type": "display_data",
          "data": {
            "image/png": "[encoded data removed]",
            "text/plain": [
              "<Figure size 432x288 with 1 Axes>"
            ]
          },
          "metadata": {
            "tags": [],
            "needs_background": "light"
          }
        },
        {
          "output_type": "stream",
          "text": [
            "output answer is binary percentage: 0.11822660098522167\n",
            "output answer is number percentage: 0.009852216748768473\n",
            "question length distribution: {32: 8, 26: 5, 24: 7, 29: 5, 25: 7, 36: 8, 15: 3, 23: 4, 48: 1, 16: 4, 34: 4, 13: 25, 56: 3, 11: 4, 28: 7, 37: 2, 94: 1, 187: 1, 12: 1, 30: 3, 51: 2, 92: 1, 21: 9, 31: 6, 27: 5, 17: 4, 19: 8, 41: 2, 67: 4, 114: 1, 38: 1, 20: 10, 33: 1, 42: 3, 43: 2, 168: 1, 35: 1, 46: 3, 45: 2, 39: 3, 66: 1, 40: 3, 206: 1, 61: 2, 18: 5, 59: 1, 62: 1, 50: 3, 129: 1, 85: 2, 93: 1, 106: 1, 72: 1, 97: 1, 22: 1, 49: 1, 58: 1, 44: 1, 104: 1, 87: 1, 9: 1}\n",
            "max len: 206, min len: 9, ave len: 147.3125\n",
            "percentage of questions contains but : 0.009852216748768473\n",
            "percentage of questions starts with can you : 0.059113300492610835\n"
          ],
          "name": "stdout"
        }
      ]
    },
    {
      "cell_type": "code",
      "metadata": {
        "colab": {
          "base_uri": "https://localhost:8080/",
          "height": 296
        },
        "id": "kubGqD5F5hOh",
        "outputId": "257d020e-c497-4904-886d-4ef076f68939"
      },
      "source": [
        "import matplotlib.pyplot as plt\n",
        "import numpy as np\n",
        "# lstm binary\n",
        "# {1: 34, 0: 65, 3: 17, 2: 13}\n",
        "# pythia binary\n",
        "# {2: 9, 0: 21, 1: 16, 3: 12}\n",
        "# lxmert binary\n",
        "# {1: 12, 0: 32, 3: 10, 2: 6}\n",
        "\n",
        "x=np.arange(3)\n",
        "zero = [65,21,32]\n",
        "one = [34,16,12]\n",
        "two = [13,9,6]\n",
        "three = [17,12,10]\n",
        "width = 0.2\n",
        "\n",
        "plt.bar(x-0.2, zero, width)\n",
        "plt.bar(x,one, width)\n",
        "plt.bar(x+0.2, two, width)\n",
        "plt.bar(x+0.4, three, width)\n",
        "\n",
        "plt.xticks(x, ['LXMERT', 'PYTHIA', 'LSTM+CNN'])\n",
        "plt.xlabel(\"Models\")\n",
        "plt.ylabel(\"Number of Questions with Votes on Wrong Answer\")\n",
        "plt.legend([\"Zero votes\", \"One votes\", \"Two votes\",\"Three votes\"])\n",
        "plt.title('Wrong Answer Vote Count Distribution for Each Model')\n",
        "plt.show()\n"
      ],
      "execution_count": 17,
      "outputs": [
        {
          "output_type": "display_data",
          "data": {
            "image/png": "[encoded data removed]",
            "text/plain": [
              "<Figure size 432x288 with 1 Axes>"
            ]
          },
          "metadata": {
            "tags": [],
            "needs_background": "light"
          }
        }
      ]
    },
    {
      "cell_type": "code",
      "metadata": {
        "colab": {
          "base_uri": "https://localhost:8080/",
          "height": 296
        },
        "id": "O1rh9HBl9Mu8",
        "outputId": "3589663f-aae5-4a0e-8dda-09915e9c2cb7"
      },
      "source": [
        "import matplotlib.pyplot as plt\n",
        "import numpy as np\n",
        "# lstm binary\n",
        "# {0: 149, 3: 96, 2: 30, 1: 43}\n",
        "# pythia binary\n",
        "# {1: 45, 3: 63, 2: 45, 0: 50}\n",
        "# lxmert binary\n",
        "#  {0: 61, 3: 70, 1: 40, 2: 39}\n",
        "\n",
        "x=np.arange(3)\n",
        "zero = [149,50,61]\n",
        "one = [43,45,40]\n",
        "two = [30,45,39]\n",
        "three = [96,63,70]\n",
        "width = 0.2\n",
        "\n",
        "plt.bar(x-0.2, zero, width)\n",
        "plt.bar(x,one, width)\n",
        "plt.bar(x+0.2, two, width)\n",
        "plt.bar(x+0.4, three, width)\n",
        "\n",
        "plt.xticks(x, ['LXMERT', 'PYTHIA', 'LSTM+CNN'])\n",
        "plt.xlabel(\"Models\")\n",
        "plt.ylabel(\"Number of Questions with Votes on Wrong Answer\")\n",
        "plt.legend([\"Zero votes\", \"One votes\", \"Two votes\",\"Three votes\"])\n",
        "plt.title('Wrong Answer Vote Count Distribution for Each Model')\n",
        "plt.show()\n"
      ],
      "execution_count": 18,
      "outputs": [
        {
          "output_type": "display_data",
          "data": {
            "image/png": "[encoded data removed]",
            "text/plain": [
              "<Figure size 432x288 with 1 Axes>"
            ]
          },
          "metadata": {
            "tags": [],
            "needs_background": "light"
          }
        }
      ]
    }
  ]
}