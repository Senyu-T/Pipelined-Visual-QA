{
  "nbformat": 4,
  "nbformat_minor": 0,
  "metadata": {
    "colab": {
      "name": "lxmert_newdata_question_analysis.ipynb",
      "provenance": []
    },
    "kernelspec": {
      "name": "python3",
      "display_name": "Python 3"
    },
    "language_info": {
      "name": "python"
    }
  },
  "cells": [
    {
      "cell_type": "code",
      "metadata": {
        "colab": {
          "base_uri": "https://localhost:8080/"
        },
        "id": "d2KfuDuZPXCv",
        "outputId": "ee0bfc9e-1d13-4b9c-f385-1ec78c39dec6"
      },
      "source": [
        "from google.colab import drive\n",
        "drive.mount(\"/content/drive\")"
      ],
      "execution_count": 1,
      "outputs": [
        {
          "output_type": "stream",
          "text": [
            "Mounted at /content/drive\n"
          ],
          "name": "stdout"
        }
      ]
    },
    {
      "cell_type": "code",
      "metadata": {
        "id": "8DnOS1EJPeu4"
      },
      "source": [
        "import os\n",
        "os.chdir(\"/content/drive/My Drive/lxmert\")"
      ],
      "execution_count": 2,
      "outputs": []
    },
    {
      "cell_type": "code",
      "metadata": {
        "colab": {
          "base_uri": "https://localhost:8080/",
          "height": 402
        },
        "id": "ZWXe1_pVn4Mf",
        "outputId": "859ac025-9d46-4933-b3c3-0090d6d41142"
      },
      "source": [
        "#training dataset distribution analysis / answer analysis\n",
        "import json\n",
        "def is_number(s):\n",
        "  if s.isnumeric() or s.isdigit():\n",
        "    return True\n",
        "  try:\n",
        "      float(s)\n",
        "      return True\n",
        "  except ValueError:\n",
        "      return False\n",
        "\n",
        "with open('data/vqa/train.json') as f1:\n",
        "  train_info = json.load(f1)\n",
        "\n",
        "binary_qa = [] #3answers\n",
        "nonanswerable_qa = [] #3answers\n",
        "number_qa = []#3answers\n",
        "color_qa = [] #3answers\n",
        "direction_qa = [] #3answers\n",
        "animal_qa = [] #3answers\n",
        "fruit_qa = [] #3answers\n",
        "other_qa = []\n",
        "\n",
        "\n",
        "colors = ['absolute zero', 'acid green', 'aero', 'aero blue', 'african violet', 'air superiority blue', 'alabaster', 'alice blue', 'alizarin', 'alloy orange', 'almond', 'amaranth', 'amaranth deep purple', 'amaranth pink', 'amaranth purple', 'amaranth red', 'amazon', 'amber', 'Amber ', 'SAE/ECE', 'amethyst', 'android green', 'antique brass', 'antique bronze', 'antique fuchsia', 'antique ruby', 'antique white', 'Ao ', 'English', 'apple green', 'apricot', 'aqua', 'aquamarine', 'arctic lime', 'army green', 'artichoke', 'arylide yellow', 'ash grey', 'asparagus', 'atomic tangerine', 'auburn', 'aureolin', 'avocado', 'azure', 'Azure ', 'X11/web color', 'baby blue', 'baby blue eyes', 'baby pink', 'baby powder', 'baker-miller pink', 'banana mania', 'banana yellow', 'barbie pink', 'barn red', 'battleship grey', 'beau blue', 'beaver', 'beige', \"b'dazzled blue\", 'big dip o’ruby', 'big foot feet', 'bisque', 'bistre', 'bistre brown', 'bitter lemon', 'bittersweet', 'bittersweet shimmer', 'black', 'black bean', 'black coral', 'black leather jacket', 'black olive', 'black shadows', 'blanched almond', 'blast-off bronze', 'bleu de france', 'blizzard blue', 'blood red', 'blue', 'Blue ', 'Crayola', 'Blue ', 'Munsell', 'Blue ', 'NCS', 'Blue ', 'Pantone', 'Blue ', 'pigment', 'blue bell', 'blue-gray', 'blue-green', 'blue jeans', 'blue sapphire', 'blue-violet', 'blue yonder', 'blueberry', 'blush', 'bole', 'bone', 'booger buster', 'bottle green', 'brick red', 'bright green', 'bright lilac', 'bright maroon', 'bright navy blue', 'bright pink', 'bright turquoise', 'Bright yellow ', 'Crayola', 'brilliant rose', 'brink pink', 'british racing green', 'bronze', 'brown', 'Brown ', 'web', 'brown sugar', 'brunswick green', 'bud green', 'buff', 'burgundy', 'burlywood', 'burnished brown', 'burnt orange', 'burnt sienna', 'burnt umber', 'byzantine', 'byzantium', 'cadet', 'cadet blue', 'cadet grey', 'cadmium green', 'cadmium orange', 'cadmium red', 'cadmium yellow', 'café au lait', 'café noir', 'calypso', 'cambridge blue', 'camel', 'cameo pink', 'canary yellow', 'candy apple red', 'candy pink', 'caput mortuum', 'cardinal', 'caribbean green', 'carmine', 'carnation pink', 'carnelian', 'carolina blue', 'carrot orange', 'castleton green', 'catawba', 'cedar chest', 'celadon', 'celadon green', 'celeste', 'cerise', 'cerulean', 'cerulean blue', 'cerulean frost', 'Cerulean ', 'Crayola', 'champagne', 'champagne pink', 'charcoal', 'charleston green', 'charm pink', 'Chartreuse ', 'traditional', 'Chartreuse ', 'web', 'cherry blossom pink', 'chestnut', 'china pink', 'china rose', 'chinese red', 'chinese violet', 'Chocolate ', 'traditional', 'Chocolate ', 'web', 'cinereous', 'cinnamon satin', 'citrine', 'citron', 'claret', 'cobalt blue', 'cocoa brown', 'coconut', 'coffee', 'columbia blue', 'congo pink', 'cool grey', 'copper', 'copper penny', 'copper red', 'copper rose', 'coquelicot', 'coral', 'coral pink', 'cordovan', 'cornell red', 'Cornflower blue ', 'web', 'Cornflower blue ', 'Crayola', 'cornsilk', 'cosmic cobalt', 'cosmic latte', 'coyote brown', 'cotton candy', 'cream', 'crimson', 'Crimson ', 'UA', 'cultured', 'cyan', 'cyber grape', 'cyber yellow', 'cyclamen', 'dandelion', 'dark blue', 'dark blue-gray', 'dark brown', 'dark byzantium', 'dark cyan', 'dark electric blue', 'dark fuchsia', 'dark goldenrod', 'Dark gray ', 'X11', 'dark green', 'Dark green ', 'X11', 'dark jungle green', 'dark khaki', 'dark lava', 'dark liver', 'dark magenta', 'dark midnight blue', 'dark moss green', 'dark olive green', 'dark orange', 'dark orchid', 'dark pastel green', 'dark purple', 'dark raspberry', 'dark red', 'dark salmon', 'dark sea green', 'dark sienna', 'dark sky blue', 'dark slate blue', 'dark slate gray', 'dark spring green', 'dark tan', 'dark turquoise', 'dark vanilla', 'dark violet', 'dartmouth green', \"davy's grey\", 'deep cerise', 'deep champagne', 'deep chestnut', 'deep fuchsia', 'deep jungle green', 'deep lemon', 'deep mauve', 'deep pink', 'deep sky blue', 'deep space sparkle', 'deep taupe', 'denim', 'denim blue', 'desert', 'desert sand', 'diamond', 'dim gray', 'dingy dungeon', 'dirt', 'dodger blue', 'dogwood rose', 'duke blue', 'dutch white', 'earth yellow', 'ebony', 'ecru', 'eerie black', 'eggplant', 'eggshell', 'egyptian blue', 'electric blue', 'electric crimson', 'electric indigo', 'electric lime', 'electric purple', 'electric violet', 'emerald', 'eminence', 'english lavender', 'english red', 'english vermillion', 'english violet', 'eton blue', 'eucalyptus', 'fallow', 'falu red', 'fandango', 'fandango pink', 'fashion fuchsia', 'fawn', 'feldgrau', 'fern green', 'field drab', 'fiery rose', 'firebrick', 'fire engine red', 'fire opal', 'flame', 'flax', 'flirt', 'floral white', 'fluorescent blue', 'Forest green ', 'Crayola', 'Forest green ', 'traditional', 'Forest green ', 'web', 'french beige', 'french bistre', 'french blue', 'french fuchsia', 'french lilac', 'french lime', 'french mauve', 'french pink', 'french raspberry', 'french rose', 'french sky blue', 'french violet', 'frostbite', 'fuchsia', 'Fuchsia ', 'Crayola', 'fuchsia purple', 'fuchsia rose', 'fulvous', 'fuzzy wuzzy', 'gainsboro', 'gamboge', 'garnet', 'generic viridian', 'ghost white', 'glaucous', 'glossy grape', 'go green', 'gold', 'Gold ', 'metallic', 'Gold (web) ', 'Golden', 'Gold ', 'Crayola', 'gold fusion', 'golden brown', 'golden poppy', 'golden yellow', 'goldenrod', 'granite gray', 'granny smith apple', 'Gray ', 'web', 'Gray ', 'X11', 'green', 'Green ', 'Crayola', 'Green ', 'HTML/CSS color', 'Green ', 'Munsell', 'Green ', 'NCS', 'Green ', 'Pantone', 'Green ', 'pigment', 'Green ', 'RYB', 'green-blue', 'Green-blue ', 'Crayola', 'green-cyan', 'green lizard', 'green sheen', 'green-yellow', 'Green-yellow ', 'Crayola', 'grullo', 'gunmetal', 'han blue', 'han purple', 'hansa yellow', 'harlequin', 'harvest gold', 'heat wave', 'heliotrope', 'heliotrope gray', 'hollywood cerise', 'honeydew', 'honolulu blue', \"hooker's green\", 'hot fuchsia', 'hot magenta', 'hot pink', 'hunter green', 'iceberg', 'icterine', 'illuminating emerald', 'imperial red', 'inchworm', 'independence', 'india green', 'indian red', 'indian yellow', 'indigo', 'indigo dye', 'International orange ', 'aerospace', 'International orange ', 'engineering', 'International orange ', 'Golden Gate Bridge', 'iris', 'irresistible', 'isabelline', 'italian sky blue', 'ivory', 'jade', 'japanese carmine', 'japanese violet', 'jasmine', 'jazzberry jam', 'jet', 'jonquil', 'june bud', 'jungle green', 'kelly green', 'keppel', 'key lime', 'Khaki (web) ', 'Khaki', 'Khaki (X11) ', 'Light khaki', 'kobe', 'kobi', 'kobicha', 'kombu green', 'ksu purple', 'la salle green', 'languid lavender', 'lanzones', 'lapis lazuli', 'laser lemon', 'laurel green', 'lava', 'Lavender ', 'floral', 'Lavender ', 'web', 'lavender blue', 'lavender blush', 'lavender gray', 'lavender indigo', 'lavender magenta', 'lavender mist', 'lavender pink', 'lavender purple', 'lavender rose', 'lawn green', 'lemon', 'lemon chiffon', 'lemon curry', 'lemon glacier', 'lemon iced tea', 'lemon lime', 'lemon lime', 'lemon meringue', 'lemon yellow', 'Lemon yellow ', 'Crayola', 'lenurple', 'liberty', 'licorice', 'light apricot', 'light blue', 'light brown', 'light carmine pink', 'light chocolate cosmos', 'light cobalt blue', 'light coral', 'light cornflower blue', 'light crimson', 'light cyan', 'light deep pink', 'light french beige', 'light fuchsia pink', 'light gold', 'light goldenrod', 'light goldenrod yellow', 'light gray', 'light grayish magenta', 'light green', 'light hot pink', 'light khaki', 'light medium orchid', 'light moss green', 'light mustard', 'light orange', 'light orchid', 'light pastel purple', 'light periwinkle', 'light pink', 'light red', 'light red ochre', 'light salmon', 'light salmon pink', 'light sea green', 'light silver', 'light sky blue', 'light slate gray', 'light steel blue', 'light taupe', 'light thulian pink', 'light turquoise', 'light violet', 'light yellow', 'lilac', 'lilac luster', 'Lime ', 'color wheel', 'Lime (web) ', 'X11 green', 'lime green', 'limerick', 'lincoln green', 'linen', 'lion', 'liseran purple', 'little boy blue', 'little girl pink', 'liver', 'Liver ', 'dogs', 'Liver ', 'organ', 'liver chestnut', 'livid', 'lotion', 'lotion blue', 'lotion pink', 'lumber', 'lust', 'maastricht blue', 'macaroni and cheese', 'madder lake', 'magenta', 'Magenta ', 'Pantone', 'mahogany', 'maize', 'Maize ', 'Crayola', 'majorelle blue', 'malachite', 'manatee', 'mandarin', 'mango', 'mango green', 'mango tango', 'mantis', 'mardi gras', 'marigold', 'Maroon ', 'Crayola', 'Maroon ', 'HTML/CSS', 'Maroon ', 'X11', 'mauve', 'mauve taupe', 'mauvelous', 'maximum blue', 'maximum blue green', 'maximum blue purple', 'maximum green', 'maximum green yellow', 'maximum orange', 'maximum purple', 'maximum pink', 'maximum red', 'maximum red purple', 'maximum violet', 'maximum yellow', 'maximum yellow red', 'may green', 'maya blue', 'meat brown', 'medium aquamarine', 'medium blue', 'medium candy apple red', 'medium carmine', 'medium champagne', 'medium electric blue', 'medium green', 'medium jungle green', 'medium lavender magenta', 'medium orange', 'medium orchid', 'medium persian blue', 'medium pink', 'medium purple', 'medium red', 'medium red-violet', 'medium ruby', 'medium sea green', 'medium sky blue', 'medium slate blue', 'medium spring bud', 'medium spring green', 'medium taupe', 'medium turquoise', 'medium tuscan red', 'medium vermilion', 'medium violet', 'medium violet-red', 'medium yellow', 'mellow apricot', 'mellow yellow', 'melon', 'Melon ', 'Crayola', 'menthol', 'metallic blue', 'metallic bronze', 'metallic brown', 'metallic gold', 'metallic green', 'metallic orange', 'metallic pink', 'metallic red', 'metallic seaweed', 'metallic silver', 'metallic sunburst', 'metallic violet', 'metallic yellow', 'mexican pink', 'microsoft blue', 'microsoft edge blue', 'microsoft green', 'microsoft red', 'microsoft yellow', 'middle blue', 'middle blue green', 'middle blue purple', 'middle grey', 'middle green', 'middle green yellow', 'middle purple', 'middle red', 'middle red purple', 'middle yellow', 'middle yellow red', 'midnight', 'midnight blue', 'midnight blue', 'Midnight green ', 'eagle green', 'mikado yellow', 'milk', 'milk chocolate', 'mimi pink', 'mindaro', 'ming', 'minion yellow', 'mint', 'mint cream', 'mint green', 'misty moss', 'misty rose', 'moccasin', 'mocha', 'mode beige', 'moonstone', 'moonstone blue', 'mordant red 19', 'morning blue', 'moss green', 'mountain meadow', 'mountbatten pink', 'msu green', 'mud', 'mughal green', 'mulberry', 'Mulberry ', 'Crayola', \"mummy's tomb\", 'mustard', 'mustard brown', 'mustard green', 'mustard yellow', 'myrtle green', 'mystic', 'mystic maroon', 'mystic red', 'nadeshiko pink', 'napier green', 'naples yellow', 'navajo white', 'navy blue', 'Navy blue ', 'Crayola', 'navy purple', 'neon blue', 'neon brown', 'neon carrot', 'neon cyan', 'neon fuchsia', 'neon gold', 'neon gray', 'neon dark green', 'neon green', 'neon green', 'neon pink', 'neon purple', 'neon red', 'neon scarlet', 'neon silver', 'neon tangerine', 'neon yellow', 'new car', 'new york pink', 'nickel', 'nintendo red', 'non-photo blue', 'nyanza', 'ocean blue', 'ocean boat blue', 'ocean green', 'ochre', 'office green', 'ogre odor', 'old burgundy', 'old gold', 'old heliotrope', 'old lace', 'old lavender', 'old mauve', 'old moss green', 'old rose', 'old silver', 'olive', 'Olive drab ', '#3', 'olive drab #7', 'olive green', 'olivine', 'onyx', 'opal', 'opera mauve', 'orange', 'Orange ', 'color wheel', 'Orange ', 'Crayola', 'Orange ', 'Pantone', 'Orange ', 'RYB', 'Orange ', 'web', 'orange iced tea', 'orange peel', 'orange-red', 'Orange-red ', 'Crayola', 'orange soda', 'orange soda', 'orange-yellow', 'Orange-yellow ', 'Crayola', 'orchid', 'orchid pink', 'Orchid ', 'Crayola', 'orioles orange', 'otter brown', 'outer space', 'Outer space ', 'Crayola', 'outrageous orange', 'oxblood', 'oxford blue', 'oxley', 'ou crimson red', 'pacific blue', 'pakistan green', 'palatinate blue', 'palatinate purple', 'pale aqua', 'pale blue', 'pale brown', 'pale carmine', 'pale cerulean', 'pale chestnut', 'pale copper', 'pale cornflower blue', 'pale cyan', 'pale gold', 'pale goldenrod', 'pale green', 'pale lavender', 'pale magenta', 'pale magenta-pink', 'pale pink', 'pale plum', 'pale red-violet', 'pale robin egg blue', 'pale silver', 'pale spring bud', 'pale taupe', 'pale turquoise', 'pale violet', 'pale violet-red', 'palm leaf', 'pansy purple', 'paolo veronese green', 'papaya whip', 'paradise pink', 'parchment', 'paris green', 'parrot pink', 'pastel blue', 'pastel brown', 'pastel gray', 'pastel green', 'pastel magenta', 'pastel orange', 'pastel pink', 'pastel purple', 'pastel red', 'pastel violet', 'pastel yellow', 'patriarch', \"payne's grey\", 'peach', 'Peach ', 'Crayola', 'peach-orange', 'peach puff', 'peach-yellow', 'pear', 'pearl', 'pearl aqua', 'pearly purple', 'peridot', 'periwinkle', 'Periwinkle ', 'Crayola', 'permanent geranium lake', 'persian blue', 'persian green', 'persian indigo', 'persian orange', 'persian pink', 'persian plum', 'persian red', 'persian rose', 'persimmon', 'peru', 'petal', 'pewter blue', 'philippine blue', 'philippine bronze', 'philippine brown', 'philippine gold', 'philippine golden yellow', 'philippine gray', 'philippine green', 'philippine indigo', 'philippine orange', 'philippine pink', 'philippine red', 'philippine silver', 'philippine sky blue', 'philippine violet', 'philippine yellow', 'phlox', 'phthalo blue', 'phthalo green', 'picton blue', 'pictorial carmine', 'piggy pink', 'pine green', 'pine tree', 'pineapple', 'pink', 'Pink ', 'Pantone', 'Pink Diamond ', 'Ace Hardware Color', 'Pink Diamond ', 'Independent Retailers Colors', 'pink flamingo', 'pink lace', 'pink lavender', 'pink-orange', 'pink pearl', 'pink raspberry', 'pink sherbet', 'pistachio', 'pixie powder', 'platinum', 'plum', 'Plum ', 'web', 'plump purple', 'poison purple', 'police blue', 'polished pine', 'pomp and power', 'popstar', 'portland orange', 'powder blue', 'prilly blue', 'prilly pink', 'prilly red', 'princess perfume', 'princeton orange', 'prune', 'prussian blue', 'psychedelic purple', 'puce', 'puce red', 'Pullman Brown ', 'UPS Brown', 'pullman green', 'pumpkin', 'Purple ', 'HTML', 'Purple ', 'Munsell', 'Purple ', 'X11', 'purple heart', 'purple mountain majesty', 'purple navy', 'purple pizzazz', 'purple plum', 'purple taupe', 'purpureus', 'quartz', 'queen blue', 'queen pink', 'quick silver', 'quinacridone magenta', 'quincy', 'rackley', 'radical red', 'raisin black', 'rajah', 'raspberry', 'raspberry glace', 'raspberry pink', 'raspberry rose', 'raw sienna', 'raw umber', 'razzle dazzle rose', 'razzmatazz', 'razzmic berry', 'rebecca purple', 'red', 'Red ', 'Crayola', 'Red ', 'Munsell', 'Red ', 'NCS', 'Red ', 'Pantone', 'Red ', 'pigment', 'Red ', 'RYB', 'red-brown', 'red cola', 'red devil', 'red-orange', 'Red-orange ', 'Crayola', 'Red-orange ', 'Color wheel', 'red-purple', 'red rum', 'red salsa', 'red strawberry', 'red-violet', 'Red-violet ', 'Crayola', 'Red-violet ', 'Color wheel', 'redwood', 'registration black', 'resolution blue', 'rhythm', 'rich brilliant lavender', 'rich carmine', 'rich electric blue', 'rich lavender', 'rich lilac', 'rich maroon', 'rifle green', 'ripe mango', 'roast coffee', 'robin egg blue', 'rocket metallic', 'roman silver', 'root beer', 'rose', 'rose bonbon', 'rose dust', 'rose ebony', 'rose garnet', 'rose gold', 'rose madder', 'rose pink', 'rose quartz', 'rose quartz pink', 'rose red', 'rose taupe', 'rose vale', 'rosewood', 'rosy brown', 'royal azure', 'royal blue', 'royal blue', 'royal brown', 'royal fuchsia', 'royal green', 'royal orange', 'royal pink', 'royal red', 'royal red', 'royal purple', 'royal yellow', 'ruber', 'rubine red', 'ruby', 'ruby red', 'rufous', 'rum', 'russet', 'russian green', 'russian violet', 'rust', 'rusty red', 'sacramento state green', 'saddle brown', 'safety orange', 'Safety orange ', 'blaze orange', 'safety yellow', 'saffron', 'sage', \"st. patrick's blue\", 'salem', 'salmon', 'salmon rose', 'salmon pink', 'samsung blue', 'sand', 'sand dune', 'sandstorm', 'sandy brown', 'sandy tan', 'sandy taupe', 'sap green', 'sapphire', 'sapphire blue', 'sasquatch socks', 'satin sheen gold', 'scarlet', 'Scarlet ', 'Crayola', 'schauss pink', 'school bus yellow', \"screamin' green\", 'sea blue', 'sea foam green', 'sea green', 'Sea green ', 'Crayola', 'sea serpent', 'seal brown', 'seashell', 'selective yellow', 'sepia', 'shadow', 'shadow blue', 'shampoo', 'shamrock green', 'shandy', 'sheen green', 'shimmering blush', 'shiny shamrock', 'shocking pink', 'Shocking pink ', 'Crayola', 'sienna', 'silver', 'Silver ', 'Crayola', 'Silver ', 'Metallic', 'silver chalice', 'silver foil', 'silver lake blue', 'silver pink', 'silver sand', 'sinopia', 'sizzling red', 'sizzling sunrise', 'skobeloff', 'sky blue', 'Sky blue ', 'Crayola', 'sky magenta', 'slate blue', 'slate gray', 'slimy green', 'Smalt ', 'Dark powder blue', 'smashed pumpkin', 'smitten', 'smoke', 'smokey topaz', 'smoky black', 'snow', 'soap', 'solid pink', 'sonic silver', 'spartan crimson', 'space cadet', 'spanish bistre', 'spanish blue', 'spanish carmine', 'spanish crimson', 'spanish gray', 'spanish green', 'spanish orange', 'spanish pink', 'spanish purple', 'spanish red', 'spanish sky blue', 'spanish violet', 'spanish viridian', 'spanish yellow', 'spicy mix', 'spiro disco ball', 'spring bud', 'spring frost', 'spring green', 'Spring green ', 'Crayola', 'star command blue', 'steel blue', 'steel pink', 'steel teal', 'stil de grain yellow', 'straw', 'strawberry', 'stop red', 'strawberry iced tea', 'strawberry red', 'sugar plum', 'sunburnt cyclops', 'sunglow', 'sunny', 'sunray', 'sunset', 'sunset orange', 'super pink', 'sweet brown', 'taffy', 'tan', 'Tan ', 'Crayola', 'tangelo', 'tangerine', 'tangerine yellow', 'tango pink', 'tart orange', 'taupe', 'taupe gray', 'tea green', 'tea rose', 'tea rose', 'teal', 'teal blue', 'teal deer', 'teal green', 'telemagenta', 'temptress', 'Tenné ', 'tawny', 'terra cotta', 'thistle', 'Thistle ', 'Crayola', 'thulian pink', 'tickle me pink', 'tiffany blue', \"tiger's eye\", 'timberwolf', 'titanium', 'titanium yellow', 'tomato', 'tomato sauce', 'toolbox', 'tooth', 'topaz', 'tractor red', 'trolley grey', 'tropical rain forest', 'tropical violet', 'true blue', 'tufts blue', 'tulip', 'tumbleweed', 'turkish rose', 'turquoise', 'turquoise blue', 'turquoise green', 'turquoise surf', 'turtle green', 'tuscan', 'tuscan brown', 'tuscan red', 'tuscan tan', 'tuscany', 'twilight lavender', 'twitter blue', 'tyrian purple', 'ube', 'ultramarine', 'ultramarine blue', 'Ultramarine blue ', \"Caran d'Ache\", 'ultra pink', 'ultra red', 'umber', 'unbleached silk', 'united nations blue', 'unmellow yellow', 'up maroon', 'upsdell red', 'urobilin', 'vampire black', 'van dyke brown', 'vanilla', 'vanilla ice', 'vegas gold', 'venetian red', 'verdigris', 'vermilion', 'vermilion', 'veronica', 'verse green', 'very light azure', 'very light blue', 'very light malachite green', 'very light tangelo', 'very pale orange', 'very pale yellow', 'vine green', 'violet', 'Violet ', \"Caran d'Ache\", 'Violet ', 'color wheel', 'Violet ', 'crayola', 'Violet ', 'RYB', 'Violet ', 'web', 'violet-blue', 'Violet-blue ', 'Crayola', 'violet-red', 'violin brown', 'viridian', 'viridian green', 'vista blue', 'vivid amber', 'vivid auburn', 'vivid burgundy', 'vivid cerise', 'vivid cerulean', 'vivid crimson', 'vivid gamboge', 'vivid lime green', 'vivid malachite', 'vivid mulberry', 'vivid orange', 'vivid orange peel', 'vivid orchid', 'vivid raspberry', 'vivid red', 'vivid red-tangelo', 'vivid sky blue', 'vivid tangelo', 'vivid tangerine', 'vivid vermilion', 'vivid violet', 'vivid yellow', 'water', 'watermelon', 'watermelon red', 'watermelon yellow', 'waterspout', 'weldon blue', 'wenge', 'wheat', 'white', 'white chocolate', 'white coffee', 'white smoke', 'wild orchid', 'wild strawberry', 'wild watermelon', 'willpower orange', 'windsor tan', 'wine', 'wine dregs', 'wine red', 'winter sky', 'winter wizard', 'wintergreen dream', 'wisteria', 'wood brown', 'xanadu', 'yellow', 'Yellow ', 'Crayola', 'Yellow ', 'Munsell', 'Yellow ', 'NCS', 'Yellow ', 'Pantone', 'Yellow ', 'process', 'Yellow ', 'RYB', 'yellow-green', 'Yellow-green ', 'Crayola', 'yellow orange', 'Yellow Orange ', 'Color Wheel', 'yellow rose', 'yellow sunshine', 'yinmn blue', 'zaffre', 'zebra white', 'zinnwaldite', 'zomp']\n",
        "directions = ['above', 'after', 'around', 'before', 'beginning', 'behind', 'below', 'beside', 'between', 'bottom', 'down', 'front', 'in', 'inside', 'left', 'middle', 'near', 'next to', 'off', 'on', 'out', 'outside', 'over', 'right', 'through', 'top', 'under', 'up', 'upside down']\n",
        "animals = ['aardvark', 'abyssinian', 'adelie penguin', 'affenpinscher', 'afghan hound', 'african bullfrog', 'african bush elephant', 'african civet', 'african clawed frog', 'african forest elephant', 'african palm civet', 'african penguin', 'african tree toad', 'african wild dog', 'ainu', 'airedale terrier', 'airedoodle', 'akbash', 'akita', 'alaskan malamute', 'alaskan shepherd', 'albacore tuna', 'albatross', 'aldabra giant tortoise', 'alligator', 'alligator gar', 'alpaca', 'alpine dachsbracke', 'amazon river dolphin (pink dolphin)', 'american alsatian', 'american bulldog', 'american cocker spaniel', 'american coonhound', 'american eskimo dog', 'american foxhound', 'american hairless terrier', 'american pit bull terrier', 'american staffordshire terrier', 'american water spaniel', 'amur leopard', 'anatolian shepherd dog', 'anchovies', 'angelfish', 'ant', 'anteater', 'antelope', 'appenzeller dog', 'arapaima', 'arctic fox', 'arctic hare', 'arctic wolf', 'armadillo', 'asian elephant', 'asian giant hornet', 'asian palm civet', 'asiatic black bear', 'aurochs', 'aussiedoodle', 'aussiedor', 'australian cattle dog', 'australian kelpie dog', 'australian labradoodle', 'australian mist', 'australian shepherd', 'australian terrier', 'avocet', 'axolotl', 'aye aye', 'baboon', 'bactrian camel', 'badger', 'baiji', 'balinese', 'banded palm civet', 'bandicoot', 'banjo catfish', 'barb', 'barn owl', 'barnacle', 'barracuda', 'barramundi fish', 'basenji dog', 'basking shark', 'bassador', 'basset fauve de bretagne', 'basset hound', 'bassetoodle', 'bat', 'bavarian mountain hound', 'beagador', 'beagle', 'beagle shepherd', 'beago', 'bear', 'bearded collie', 'bearded dragon', 'beaver', 'bedlington terrier', 'beetle', 'beluga sturgeon', 'bengal tiger', 'bernedoodle', 'bernese mountain dog', 'bernese shepherd', 'bichir', 'bichon frise', 'bichpoo', 'biewer terrier', 'binturong', 'bird', 'birds of paradise', 'birman', 'bison', 'black marlin', 'black rhinoceros', 'black russian terrier', 'black widow spider', 'blobfish', 'bloodhound', 'blue jay', 'blue lacy dog', 'blue whale', 'bluefin tuna', 'bluetick coonhound', 'bobcat', 'boglen terrier', 'bolognese dog', 'bombay', 'bongo', 'bonito fish', 'bonobo', 'booby', 'borador', 'border collie', 'border terrier', 'bordoodle', 'borkie', 'bornean orang-utan', 'borneo elephant', 'boston terrier', 'bottlenose dolphin', 'bowfin', 'bowhead whale', 'boxador', 'boxer dog', 'boxerdoodle', 'boykin spaniel', 'brazilian terrier', 'british timber', 'brown bear', 'budgerigar', 'buffalo', 'bull shark', 'bull terrier', 'bulldog', 'bullfrog', 'bullmastiff', 'bumblebee', 'burmese', 'burrowing frog', 'butterfly', 'butterfly fish', 'caiman', 'caiman lizard', 'cairn terrier', 'camel', 'camel spider', 'canaan dog', 'canadian eskimo dog', 'capybara', 'caracal', 'carolina dog', 'carp', 'cassowary', 'cat', 'caterpillar', 'catfish', 'cavador', 'cavalier king charles spaniel', 'cavapoo', 'centipede', 'cesky fousek', 'cesky terrier', 'chameleon', 'chamois', 'cheagle', 'cheetah', 'chesapeake bay retriever', 'chicken', 'chihuahua', 'chimaera', 'chimpanzee', 'chinchilla', 'chinese crested dog', 'chinese paddlefish', 'chinook', 'chinstrap penguin', 'chipmunk', 'chipoo', 'chorkie', 'chow chow', 'chow shepherd', 'cicada', 'cichlid', 'clouded leopard', 'clownfish', 'clumber spaniel', 'coati', 'cockapoo', 'cockatoo', 'cockroach', 'codfish', 'coelacanth', 'collared peccary', 'collie', 'colossal squid', 'common buzzard', 'common frog', 'common loon', 'common toad', 'cooper’s hawk', 'coral', 'corgidor', 'corgipoo', 'corkie', 'cotton-top tamarin', 'cougar', 'cow', 'coyote', 'crab', 'crab-eating macaque', 'crane', 'crested penguin', 'crocodile', 'cross river gorilla', 'curly coated retriever', 'cuscus', 'cuttlefish', 'dachsador', 'dachshund', 'dalmadoodle', 'dalmador', 'dalmatian', 'darwin’s frog', 'deer', 'desert locust', 'desert rain frog', 'desert tortoise', 'deutsche bracke', 'dhole', 'dingo', 'discus', 'doberman pinscher', 'dodo', 'dog', 'dogo argentino', 'dogue de bordeaux', 'dolphin', 'donkey', 'dorkie', 'dormouse', 'double doodle', 'doxiepoo', 'dragonfish', 'dragonfly', 'drever', 'drum fish', 'duck', 'dugong', 'dunker', 'dusky dolphin', 'dwarf crocodile', 'eagle', 'earwig', 'eastern gorilla', 'eastern lowland gorilla', 'echidna', 'edible frog', 'eel', 'egyptian mau', 'electric eel', 'elephant', 'elephant seal', 'elephant shrew', 'emperor penguin', 'emperor tamarin', 'emu', 'english cocker spaniel', 'english shepherd', 'english springer spaniel', 'entlebucher mountain dog', 'epagneul pont audemer', 'ermine', 'eskimo dog', 'eskipoo', 'estrela mountain dog', 'falcon', 'false killer whale', 'fangtooth', 'fennec fox', 'ferret', 'field spaniel', 'fin whale', 'finnish spitz', 'fire-bellied toad', 'fish', 'fishing cat', 'flamingo', 'flat-coated retriever', 'florida gar', 'flounder', 'fluke fish (summer flounder)', 'fly', 'flying squirrel', 'fossa', 'fox', 'fox terrier', 'french bulldog', 'frigatebird', 'frilled lizard', 'frilled shark', 'frog', 'fur seal', 'galapagos penguin', 'galapagos tortoise', 'gar', 'gecko', 'gentoo penguin', 'geoffroys tamarin', 'gerberian shepsky', 'gerbil', 'german pinscher', 'german shepherd guide', 'german sheppit', 'german sheprador', 'gharial', 'giant african land snail', 'giant clam', 'giant panda bear', 'giant schnauzer', 'giant schnoodle', 'gibbon', 'gila monster', 'giraffe', 'glass frog', 'glass lizard', 'glechon', 'glen of imaal terrier', 'glow worm', 'goat', 'goblin shark', 'goldador', 'golden lion tamarin', 'golden masked owl', 'golden oriole', 'golden retriever', 'golden shepherd', 'golden-crowned flying fox', 'goldendoodle', 'goliath frog', 'goose', 'gopher', 'gorilla', 'gouldian finch', 'grasshopper', 'gray tree frog', 'great dane', 'great danoodle', 'great pyrenees', 'great white shark', 'greater swiss mountain dog', 'green anole', 'green bee-eater', 'green frog', 'green tree frog', 'greenland dog', 'grey mouse lemur', 'grey reef shark', 'grey seal', 'greyhound', 'griffonshire', 'grizzly bear', 'grouse', 'guinea fowl', 'guinea pig', 'guppy', 'hagfish', 'hammerhead shark', 'hamster', 'hare', 'harpy eagle', 'harrier', 'havanese', 'havapoo', 'havashire', 'hawaiian crow', 'hedgehog', 'hercules beetle', 'hermit crab', 'heron', 'herring', 'highland cattle', 'himalayan', 'hippopotamus', 'honduran white bat', 'honey badger', 'honey bee', 'hoopoe', 'horn shark', 'hornbill', 'horned frog', 'horse', 'horseshoe crab', 'house finch', 'howler monkey', 'human', 'humboldt penguin', 'hummingbird', 'humpback whale', 'huskador', 'huskydoodle', 'hyena', 'ibis', 'ibizan hound', 'iguana', 'immortal jellyfish', 'impala', 'indian elephant', 'indian palm squirrel', 'indian rhinoceros', 'indian star tortoise', 'indochinese tiger', 'indri', 'insects', 'irish doodle', 'irish setter', 'irish terrier', 'irish wolfhound', 'italian greyhound', 'jack russell', 'jackal', 'jaguar', 'japanese chin', 'japanese macaque', 'japanese terrier', 'javan rhinoceros', 'javanese', 'jellyfish', 'jerboa', 'kakapo', 'kangaroo', 'keel-billed toucan', 'keeshond', 'kerry blue terrier', 'killer whale', 'king cobra', 'king crab', 'king penguin', 'kingfisher', 'kinkajou', 'kiwi', 'koala', 'komodo dragon', 'krill', 'kudu', 'labmaraner', 'labradane', 'labradoodle', 'labrador retriever', 'labraheeler', 'ladybug', 'lakeland terrier', 'lamprey', 'leaf-tailed gecko', 'lemming', 'lemur', 'leopard', 'leopard cat', 'leopard frog', 'leopard seal', 'leopard tortoise', 'lhasapoo', 'liger', 'lion', 'lionfish', 'little penguin', 'lizard', 'llama', 'loach', 'lobster', 'locust', 'long-eared owl', 'longnose gar', 'lungfish', 'lynx', 'macaroni penguin', 'macaw', 'magellanic penguin', 'magpie', 'maine coon', 'malayan civet', 'malayan tiger', 'maltese', 'maltipoo', 'manatee', 'manchester terrier', 'mandrill', 'maned wolf', 'manta ray', 'marine toad', 'markhor', 'marmot', 'marsh frog', 'masked palm civet', 'mastador', 'mastiff', 'mayfly', 'meagle', 'meerkat', 'megalodon', 'mexican free-tailed bat', 'milkfish', 'millipede', 'mini labradoodle', 'miniature bull terrier', 'mink', 'minke whale', 'mole', 'molly', 'monarch butterfly', 'mongoose', 'mongrel', 'monitor lizard', 'monkey', 'monkfish', 'monte iberia eleuth', 'moorhen', 'moose', 'moray eel', 'moth', 'mountain gorilla', 'mountain lion', 'mourning dove', 'mouse', 'mule', 'muskox', 'muskrat', 'narwhal', 'neanderthal', 'neapolitan mastiff', 'newfoundland', 'newfypoo', 'newt', 'nightingale', 'norfolk terrier', 'north american black bear', 'northern inuit dog', 'norwegian forest', 'norwich terrier', 'numbat', 'nurse shark', 'ocelot', 'octopus', 'okapi', 'old english sheepdog', 'olm', 'opossum', 'orang-utan', 'ostrich', 'otter', 'oyster', 'paddlefish', 'pademelon', 'pangolin', 'panther', 'parrot', 'parson russell terrier', 'patas monkey', 'patterdale terrier', 'peacock', 'peekapoo', 'pekingese', 'pelican', 'penguin', 'pere davids deer', 'peregrine falcon', 'persian', 'petit basset griffon vendéen', 'pheasant', 'pied tamarin', 'pig', 'pigeon', 'pika', 'pike fish', 'pileated woodpecker', 'pink fairy armadillo', 'piranha', 'pitador', 'platypus', 'pointer', 'poison dart frog', 'polar bear', 'pomapoo', 'pomeranian', 'pond skater', 'poochon', 'poodle', 'poogle', 'pool frog', 'porcupine', 'porpoise', 'possum', 'prawn', 'proboscis monkey', 'pufferfish', 'puffin', 'pug', 'pugapoo', 'pugshire', 'puma', 'purple emperor butterfly', 'purple finch', 'puss moth', 'pygmy hippopotamus', 'pygmy marmoset', 'pyrador', 'pyredoodle', 'quail', 'quetzal', 'quokka', 'quoll', 'rabbit', 'raccoon', 'raccoon dog', 'radiated tortoise', 'ragdoll', 'rat', 'rat terrier', 'rattlesnake', 'red finch', 'red fox', 'red knee tarantula', 'red panda', 'red wolf', 'red-handed tamarin', 'reindeer', 'rhinoceros', 'river turtle', 'robin', 'rock hyrax', 'rockfish', 'rockhopper penguin', 'roseate spoonbill', 'rottweiler', 'royal penguin', 'russell terrier', 'russian blue', 'saarloos wolfdog', 'saber-toothed tiger', 'sable', 'saiga', 'saint berdoodle', 'saint bernard', 'saint shepherd', 'salamander', 'salmon', 'samoyed', 'sand lizard', 'saola', 'sardines', 'sawfish', 'schnoodle', 'scimitar-horned oryx', 'scorpion', 'scorpion fish', 'scottish terrier', 'sea dragon', 'sea lion', 'sea otter', 'sea slug', 'sea squirt', 'sea turtle', 'sea urchin', 'seahorse', 'seal', 'sealyham terrier', 'serval', 'shark', 'sheep', 'sheepadoodle', 'shepadoodle', 'shepkita', 'shepweiler', 'shiba inu', 'shih poo', 'shih tzu', 'shrimp', 'siamese', 'siamese fighting fish', 'siberian', 'siberian husky', 'siberian tiger', 'siberpoo', 'silky terrier', 'silver dollar', 'skate fish', 'skipjack tuna', 'skunk', 'skye terrier', 'sloth', 'slow worm', 'smooth fox terrier', 'snail', 'snake', 'snapping turtle', 'snowshoe', 'snowshoe hare', 'snowy owl', 'somali', 'south china tiger', 'spadefoot toad', 'spanador', 'sparrow', 'spectacled bear', 'sperm whale', 'spider monkey', 'spiny dogfish', 'spixs macaw', 'sponge', 'spotted gar', 'springador', 'springerdoodle', 'squid', 'squirrel', 'squirrel monkey', 'sri lankan elephant', 'staffordshire bull terrier', 'stag beetle', 'starfish', 'steller’s sea cow', 'stick insect', 'stingray', 'stoat', 'striped rocket frog', 'sturgeon', 'sucker fish', 'sugar glider', 'sumatran elephant', 'sumatran orang-utan', 'sumatran rhinoceros', 'sumatran tiger', 'sun bear', 'swai fish', 'swan', 'swedish vallhund', 'taco terrier', 'tamaskan', 'tang', 'tapanuli orang-utan', 'tapir', 'tarpon', 'tarsier', 'tasmanian devil', 'tawny owl', 'teddy roosevelt terrier', 'tenterfield terrier', 'termite', 'terrier', 'tetra', 'thorny devil', 'tibetan mastiff', 'tibetan terrier', 'tiffany', 'tiger', 'tiger salamander', 'tiger shark', 'toadfish', 'tortoise', 'toucan', 'toy fox terrier', 'toy poodle', 'tree frog', 'tropicbird', 'tuatara', 'tuna', 'turkey', 'turkish angora', 'uakari', 'uguisu', 'umbrellabird', 'utonagan', 'vampire bat', 'vampire squid', 'vaquita', 'vervet monkey', 'vulture', 'wallaby', 'walleye fish', 'walrus', 'wandering albatross', 'warthog', 'wasp', 'water buffalo', 'water dragon', 'water vole', 'weasel', 'weimardoodle', 'welsh corgi', 'welsh terrier', 'west highland terrier', 'western gorilla', 'western lowland gorilla', 'westiepoo', 'whale shark', 'wheaten terrier', 'whippet', 'white rhinoceros', 'white tiger', 'white-faced capuchin', 'whoodle', 'whooping crane', 'wild boar', 'wildebeest', 'wire fox terrier', 'wolf', 'wolf eel', 'wolf spider', 'wolffish', 'wolverine', 'wombat', 'wood frog', 'woodlouse', 'woodpecker', 'woolly mammoth', 'woolly monkey', 'wrasse', 'wyoming toad', 'x-ray tetra', 'xerus', 'yak', 'yellow-eyed penguin', 'yellowfin tuna', 'yorkie poo', 'yorkshire terrier', 'zebra', 'zebra shark', 'zebu', 'zonkey', 'zorse']\n",
        "fruits = ['abiu', 'açaí', 'acerola', 'ackee', 'african cucumber', 'apple', 'apricot', 'avocado', 'banana', 'bilberry', 'blackberry', 'blackcurrant', 'black sapote', 'blueberry', 'boysenberry', 'breadfruit', \"Buddha's hand \", 'fingered citron', 'cactus pear', 'canistel', 'cempedak', 'crab apple', 'currant', 'cherry', 'Cherimoya ', 'Custard Apple', 'chico fruit', 'cloudberry', 'coco de mer', 'coconut', 'cranberry', 'damson', 'date', 'Dragonfruit ', 'or Pitaya', 'durian', 'egg fruit', 'elderberry', 'feijoa', 'fig', 'goji berry', 'gooseberry', 'grape', 'Grewia asiatica ', 'phalsa or falsa', 'raisin', 'grapefruit', 'guava', 'hala fruit', 'honeyberry', 'huckleberry', 'jabuticaba', 'jackfruit', 'jambul', 'japanese plum', 'jostaberry', 'jujube', 'juniper berry', 'kaffir lime', 'Kiwano ', 'horned melon', 'kiwifruit', 'kumquat', 'lemon', 'lime', 'loganberry', 'loquat', 'longan', 'lulo', 'lychee', 'magellan barberry', 'mamey apple', 'mamey sapote', 'mango', 'mangosteen', 'marionberry', 'melon', 'cantaloupe', 'galia melon', 'honeydew', 'mouse melon', 'watermelon', 'miracle fruit', 'monstera deliciosa', 'mulberry', 'nance', 'nectarine', 'orange', 'blood orange', 'clementine', 'mandarine', 'tangerine', 'papaya', 'passionfruit', 'peach', 'pear', 'persimmon', 'plantain', 'plum', 'Prune ', 'dried plum', 'pineapple', 'pineberry', 'Plumcot ', 'or Pluot', 'pomegranate', 'pomelo', 'purple mangosteen', 'quince', 'raspberry', 'salmonberry', 'Rambutan ', 'or Mamin Chino', 'redcurrant', 'rose apple', 'salal berry', 'salak', 'satsuma', 'shine muscat or vitis vinifera', 'sloe or hawthorn berry', 'soursop', 'star apple', 'star fruit', 'strawberry', 'surinam cherry', 'tamarillo', 'tamarind', 'tangelo', 'tayberry', 'tomato', 'ugli fruit', 'white currant', 'white sapote', 'yuzu', 'bell pepper', 'chile pepper', 'corn kernel', 'cucumber', 'eggplant', 'jalapeño', 'olive', 'pea', 'pumpkin', 'squash', 'tomato', 'zucchini']\n",
        "for qa in train_info:\n",
        "  other = True\n",
        "  labels = qa[\"label\"].keys()\n",
        "  if (\"yes\" in labels and qa[\"label\"][\"yes\"] >= 0.9) or (\"no\" in labels and qa[\"label\"][\"no\"] >= 0.9):\n",
        "    other = False\n",
        "    binary_qa.append(qa)\n",
        "  if \"unanswerable\" in labels and qa[\"label\"][\"unanswerable\"] >= 0.9 or (\"unsuitable\" in labels and qa[\"label\"][\"unsuitable\"] >= 0.9) or (\"unsuitable image\" in labels and qa[\"label\"][\"unsuitable image\"] >= 0.9):\n",
        "    other = False\n",
        "    nonanswerable_qa.append(qa)\n",
        "  for label in labels:\n",
        "    if label in colors and qa[\"label\"][label] >= 0.9:\n",
        "      other = False\n",
        "      color_qa.append(qa)\n",
        "      break\n",
        "  for label in labels:\n",
        "    if is_number(label) and qa[\"label\"][label] >= 0.9:\n",
        "      other = False\n",
        "      number_qa.append(qa)\n",
        "      break\n",
        "  for label in labels:\n",
        "     if label in directions and qa[\"label\"][label] >= 0.9:\n",
        "      direction_qa.append(qa)\n",
        "      break  \n",
        "  for label in labels:\n",
        "    if label in animals and qa[\"label\"][label] >= 0.9:\n",
        "      animal_qa.append(qa)\n",
        "      break  \n",
        "  for label in labels:\n",
        "    if label in fruits and qa[\"label\"][label] >= 0.9:\n",
        "      fruit_qa.append(qa)\n",
        "      break\n",
        "  if other:\n",
        "    other_qa.append(qa)\n",
        "print(\"percentage of nonanswerable_qa :\" + str(len(nonanswerable_qa) / len(train_info)))\n",
        "print(\"percentage of number_qa :\" + str(len(number_qa) / len(train_info)))\n",
        "print(\"percentage of binary_qa :\" + str(len(binary_qa) / len(train_info)))\n",
        "print(\"percentage of color_qa :\" + str(len(color_qa) / len(train_info)))\n",
        "print(\"percentage of direction_qa :\" + str(len(direction_qa) / len(train_info)))\n",
        "print(\"percentage of animal_qa :\" + str(len(animal_qa) / len(train_info)))\n",
        "print(\"percentage of fruit_qa :\" + str(len(fruit_qa) / len(train_info)))\n",
        "print(\"percentage of other_qa :\" + str(len(other_qa) / len(train_info)))\n",
        "\n",
        "percentages = [len(nonanswerable_qa) / len(train_info)*100, len(number_qa) / len(train_info)*100,len(binary_qa) / len(train_info)*100, len(color_qa) / len(train_info)*100, len(other_qa) / len(train_info)*100]\n",
        "import matplotlib.pyplot as plt\n",
        "import numpy as np\n",
        "labels = 'nonanswerable','number','binary','color','others'\n",
        "sizes = percentages\n",
        "explode = (0.1, 0, 0, 0,0)  # only \"explode\" the 2nd slice (i.e. 'Hogs')\n",
        "\n",
        "fig1, ax1 = plt.subplots()\n",
        "ax1.pie(sizes, explode = explode, labels=labels, autopct='%1.1f%%',\n",
        "        shadow=True, startangle=90)\n",
        "ax1.axis('equal')  # Equal aspect ratio ensures that pie is drawn as a circle.\n",
        "plt.title('Percentage of Training Questions in Each Category')\n",
        "\n",
        "plt.show()\n",
        "\n",
        "# plt.hist(percentages)\n",
        "# bars = ('nonanswerable','number','binary','color','others')\n",
        "# x_pos = np.arange(len(bars))\n",
        "# plt.title('Percentage of Training Questions in Each Category')\n",
        "# plt.xlabel('Question Type')\n",
        "# plt.ylabel('Percentage of Questions')\n",
        "# plt.xticks(x_pos, bars)\n",
        "# plt.show()"
      ],
      "execution_count": null,
      "outputs": [
        {
          "output_type": "stream",
          "text": [
            "percentage of nonanswerable_qa :0.34955903133070215\n",
            "percentage of number_qa :0.020367392681381866\n",
            "percentage of binary_qa :0.06003021000828339\n",
            "percentage of color_qa :0.08853481459825562\n",
            "percentage of direction_qa :0.0037031623057057934\n",
            "percentage of animal_qa :0.01140184183598889\n",
            "percentage of fruit_qa :0.008137211908590363\n",
            "percentage of other_qa :0.5072357842420698\n"
          ],
          "name": "stdout"
        },
        {
          "output_type": "display_data",
          "data": {
            "image/png": "[encoded data removed]",
            "text/plain": [
              "<Figure size 432x288 with 1 Axes>"
            ]
          },
          "metadata": {
            "tags": []
          }
        }
      ]
    },
    {
      "cell_type": "code",
      "metadata": {
        "colab": {
          "base_uri": "https://localhost:8080/"
        },
        "id": "JW-l7I8Zw_bQ",
        "outputId": "b15b2851-ae2c-4111-f96f-02b852e6a2e0"
      },
      "source": [
        "from collections import Counter\n",
        "answers_with_three_vote = []\n",
        "for qa in train_info:\n",
        "  for label,score in qa['label'].items():\n",
        "    if score >= 0.9:\n",
        "      answers_with_three_vote.append(label)\n",
        "counter = Counter(answers_with_three_vote)\n",
        "print(counter.most_common(20))"
      ],
      "execution_count": null,
      "outputs": [
        {
          "output_type": "stream",
          "text": [
            "[('unanswerable', 4742), ('unsuitable', 3861), ('no', 721), ('yes', 582), ('white', 338), ('grey', 325), ('black', 259), ('blue', 238), ('red', 148), ('pink', 110), ('brown', 110), ('unsuitable image', 104), ('green', 93), ('keyboard', 92), ('purple', 78), ('phone', 70), ('dog', 69), ('soup', 66), ('laptop', 62), ('nothing', 59)]\n"
          ],
          "name": "stdout"
        }
      ]
    },
    {
      "cell_type": "code",
      "metadata": {
        "colab": {
          "base_uri": "https://localhost:8080/"
        },
        "id": "x35UCw2Dy6Hl",
        "outputId": "f7dc1d7e-84fb-4f8c-83a7-b9f406602b26"
      },
      "source": [
        "#answer dist for question that starts with what is\n",
        "answers_ques_what_is = []\n",
        "for qa in train_info:\n",
        "  sent = qa['sent'].lower()\n",
        "  if sent.startswith(\"what is\") or sent.startswith(\"what's\"):\n",
        "    for label,score in qa['label'].items():\n",
        "      if score >= 0.9:\n",
        "        answers_ques_what_is.append(label)\n",
        "print(Counter(answers_ques_what_is))"
      ],
      "execution_count": null,
      "outputs": [
        {
          "output_type": "stream",
          "text": [
            "Counter({'unanswerable': 1466, 'unsuitable': 1428, 'keyboard': 81, 'phone': 67, 'soup': 58, 'dog': 55, 'remote': 52, 'laptop': 52, 'remote control': 48, 'lotion': 47, 'wine': 45, 'cell phone': 44, 'coffee': 32, 'tv': 29, 'beer': 29, 'cup': 29, 'chair': 29, 'water bottle': 28, 'unsuitable image': 28, 'pen': 27, 'cereal': 26, 'shampoo': 25, 'corn': 25, 'mouse': 25, 'telephone': 25, 'computer mouse': 23, 'cat': 22, 'hand sanitizer': 22, 'beans': 21, 'computer': 20, 'fan': 20, 'green beans': 20, 'iphone': 19, 'coca cola': 18, 'black': 18, 'nothing': 18, 'shoe': 17, 'can': 17, 'door': 17, 'hand': 17, 'money': 16, 'soda': 16, 'white': 16, 'watch': 16, 'water': 15, 'blue': 15, 'bottle': 15, 'pepsi': 15, 'cream mushroom soup': 15, 'car': 15, 'table': 15, 'book': 15, 'candy': 14, 'box': 14, 'tomato sauce': 13, 'tablet': 13, 'tea': 13, 'macaroni cheese': 13, 'foot': 12, 'headphones': 12, 'milk': 12, 'blanket': 12, 'plant': 12, 'red': 11, 'peanut butter': 11, 'speaker': 11, 'diet coke': 11, 'chicken': 11, 'food': 11, 'computer screen': 11, 'microsoft corporation': 10, 'pudding': 10, 'flowers': 10, 'black beans': 10, 'window': 10, 'coke': 10, 'pasta': 10, 'gum': 10, 'body lotion': 10, 'desk': 10, 'shoes': 9, 'television': 9, 'bed': 9, 'cookies': 9, 'rug': 9, 'peaches': 9, 'toothpaste': 9, 'living room': 9, 'orange juice': 9, 'grey': 9, 'shirt': 9, 'pizza': 9, 'coffee cup': 9, 'cd': 9, 'salad dressing': 9, 'mustard': 8, 'tv remote': 8, 'soap': 8, 'crackers': 8, '10': 8, 'chicken broth': 8, 'green': 8, 'glass': 8, 'meatloaf': 8, 'clock': 8, 'tuna': 8, 'chicken noodle soup': 8, 'light': 8, 'cigarettes': 8, 'baked beans': 8, 'cake mix': 8, 'calculator': 8, 'chips': 8, 'ceiling fan': 8, 'carpet': 8, 'lamp': 8, 'brown': 8, 'dollar bill': 8, 'flower': 8, 'purse': 8, 'kidney beans': 7, 'ketchup': 7, 'ipad': 7, 'popcorn': 7, '1 dollar bill': 7, 'spinach': 7, 'diced tomatoes': 7, 'corned beef': 7, 'sky': 7, 'ibuprofen': 7, 'coffee mug': 7, 'sprite': 7, 'wallet': 7, 'hat': 7, 'glasses': 7, 'spaghetti meatballs': 7, 'perfume': 7, 'savoury beef rissoles': 7, 'body wash': 7, 'mug': 6, '20 dollar bill': 6, 'finger': 6, 'juice': 6, 'paper': 6, 'heater': 6, '5 dollar bill': 6, 'stove': 6, 'apple': 6, 'broccoli': 6, 'cake': 6, 'hamburger helper': 6, 'apple juice': 6, 'computer keyboard': 6, 'sunglasses': 6, 'camera': 6, 'windex': 6, 'pinto beans': 6, 'chicken pot pie': 6, 'chili': 6, 'vitamins': 6, 'rice': 6, 'vegetables': 6, 'wall': 6, 'orange': 6, 'peas': 6, 'cottage pie': 6, 'chicken dijon': 6, 'brownie mix': 6, 'porcupines in tomato sauce': 6, 'keys': 6, 'grass': 6, 'jar': 5, 'coffee pot': 5, 'sugar': 5, 'snack pack pudding': 5, 'granola bars': 5, 'medicine': 5, 'toy': 5, 'grandpas teeth': 5, 'hair': 5, 'big print address book': 5, 'aug 13 2012': 5, 'painting': 5, 'dish soap': 5, 'tomatoes': 5, 'mints': 5, 'ground beef': 5, 'pillow': 5, 'tissue': 5, 'oatmeal': 5, 'carrots': 5, 'muffin mix': 5, 'low': 5, 'kleenex': 5, 'trash can': 5, 'fireplace': 5, 'laundry detergent': 5, 'dvd': 5, '75': 5, 'stapler': 5, 'sauce': 5, 'wood': 5, 'soy sauce': 5, 'ceiling': 5, 'peanuts': 5, 'bud light': 5, 'charger': 5, 'chili beans': 5, 'kitchen': 5, 'beef broth': 5, 'yellow': 5, 'bush': 5, 'mouthwash': 4, 'tissues': 4, 'conditioner': 4, 'cross': 4, 'backpack': 4, 'radio': 4, 'potatoes': 4, 'monitor': 4, 'drink': 4, 'floor': 4, 'nutrition facts': 4, '5': 4, 'lighter': 4, 'august 13 2012': 4, 'vending machine': 4, 'couch': 4, 'magnifying glass': 4, 'air freshener': 4, 'crumbed fillet fish': 4, 'refrigerator': 4, 'bird': 4, 'olives': 4, 'tomato soup': 4, 'potato chips': 4, 'dr pepper': 4, 'woman': 4, 'banana': 4, 'bottled water': 4, 'tissue box': 4, 'sliced peaches': 4, 'imodium': 4, 'nasal spray': 4, 'ipod': 4, 'microsoft': 4, 'ravioli': 4, 'roast beef': 4, 'traditional roast beef': 4, 'eye drops': 4, 'pot pie': 4, 'meat': 4, 'stewed tomatoes': 4, 'watermelon': 4, 'refried beans': 4, 'pepper': 4, 'nuts': 4, 'pancake mix': 4, 'cheese': 4, 'tool': 4, 'lasagna': 4, 'statue': 4, 'mashed potatoes': 4, 'puzzle': 4, 'salisbury steak': 4, 'horse': 4, '20': 4, 'beef': 4, 'diet pepsi': 4, 'tylenol': 4, 'raisins': 4, 'cannellini beans': 4, 'fork': 4, 'mac cheese': 4, 'ring': 4, 'guitar': 4, 'computer monitor': 4, 'teddy bear': 4, 'granola bar': 4, 'sweet peas': 4, 'steering wheel': 4, 'basil': 3, 'light red kidney beans': 3, 'apple pie': 3, 'coffee maker': 3, 'pill bottle': 3, 'mixed nuts': 3, 'shaving cream': 3, 'scissors': 3, 'clear': 3, 'bedroom': 3, 'toilet paper': 3, 'deodorant': 3, 'picture': 3, 'beef stroganoff': 3, 'dresser': 3, 'fish': 3, 'baby shampoo': 3, 'sink': 3, 'flour': 3, 'manwich': 3, 'mucinex': 3, 'yogurt': 3, 'lip balm': 3, 'salsa': 3, 'paprika': 3, 'lemon butter shrimp': 3, 'clouds': 3, 'salt': 3, 'mushrooms': 3, 'chopped spinach': 3, 'video game': 3, 'buttons': 3, 'alarm clock': 3, 'rum': 3, '1 dollar': 3, 'bag chips': 3, 'vase': 3, 'whiskey': 3, 'tape': 3, 'cabinet': 3, 'spaghetti sauce': 3, 'conditioning shampoo': 3, 'curtain': 3, 'frozen dinner': 3, 'santa': 3, 'chocolate': 3, 'legs': 3, 'moon': 3, 'razor': 3, 'mrs dash': 3, 'vacuum': 3, 'bracelet': 3, 'projector': 3, '72': 3, 'cheez': 3, 'christmas tree': 3, 'mountain dew': 3, 'pickles': 3, 'capri sun': 3, 'orange soda': 3, 'king spades': 3, 'cream chicken soup': 3, 'calendar': 3, 'chicken wings': 3, 'lasagne': 3, 'special lasagne': 3, 'beef ravioli': 3, 'sierra mist': 3, 'piano keys': 3, 'curtains': 3, 'benadryl': 3, 'card': 3, 'pencil': 3, 'microwave': 3, 'root beer': 3, 'installing windows': 3, 'stuffed animal': 3, 'coke 0': 3, 'quilt': 3, 'whole kernel corn': 3, 'toothbrush': 3, 'ranch dressing': 3, 'fruit': 3, 'startup repair': 3, 'leaves': 3, '4': 3, 'lager': 3, 'truck': 3, 'umbrella': 3, 'garlic powder': 3, 'cookie dough': 3, 'silver': 3, 'up': 3, 'coin': 3, 'sunscreen': 3, 'treadmill': 3, 'hand soap': 3, 'shower gel': 3, 'hippie chips': 3, 'towel': 3, 'sandal': 3, 'salad': 3, 'speakers': 3, '0': 3, 'hot pockets': 3, 'peanut butter crackers': 3, 'mixed vegetables': 3, 'bread crumbs': 3, 'cut green beans': 3, 'red kidney beans': 3, 'peas carrots': 3, 'butter': 3, 'potato soup': 3, 'baked chicken mushroom sauce': 3, 'menu': 3, 'meatballs': 3, 'hot dogs': 3, 'bottle water': 3, 'peach': 3, 'altoids': 3, 'daring': 3, 'precious memories': 3, 'flashlight': 3, 'gatorade': 3, 'glass water': 3, 'cellphone': 3, 'arm': 3, '978 0 13 265811 9': 3, '79': 3, 'bag': 3, 'ashtray': 3, 'tums': 3, 'basil leaves': 2, 'clorox': 2, 'battery': 2, 'melatonin': 2, 'anti diarrheal': 2, 'ice cream maker': 2, 'cream corn': 2, 'cream style corn': 2, 'fate': 2, 'pear': 2, 'paper cup': 2, 'shepherds pie': 2, 'tuna helper': 2, 'yes': 2, 'pasta sauce': 2, 'entertainment center': 2, 'carling lager': 2, 'spray bottle': 2, 'stove top stuffing': 2, 'soda can': 2, 'hawaiian punch': 2, 'wine glass': 2, 'sage': 2, 'ground sage': 2, 'french onion soup': 2, 'laptop computer': 2, 'underwear': 2, 'pepsi max': 2, 'pineapple': 2, 'bathroom': 2, '360': 2, 'cloudy': 2, 'billie holiday': 2, 'tikka masala cooking sauce': 2, 'bug': 2, '38.5': 2, 'ocean': 2, 'shelf': 2, '74': 2, '28': 2, 'shrimp': 2, 'darth vader': 2, 'driveway': 2, 'pork chops': 2, 'can mushrooms': 2, 'sun': 2, 'seasoning': 2, 'granola': 2, 'police': 2, 'ball': 2, 'bird cage': 2, 'tabasco': 2, 'apple cinnamon': 2, 'energy drink': 2, 'oreos': 2, 'pliers': 2, 'cheerios': 2, 'gift card': 2, 'french fries': 2, 'sweet potato fries': 2, 'greens': 2, 'storage bags': 2, 'spaghetti bologna': 2, 'railroads': 2, 'healthy choice': 2, 'stereo': 2, 'neosporin': 2, 'high': 2, 'furniture polish': 2, 'tape dispenser': 2, 'tide pods': 2, 'jamaican jerk marinade': 2, 'purple': 2, 'fire': 2, 'digital voice recorder': 2, 'voice recorder': 2, '01': 2, 'turkey tetrazzini': 2, 'coupon': 2, 'hair clip': 2, '148 75': 2, 'bottle cap': 2, 'jeans': 2, 'pasta alfredo': 2, 'cupcake': 2, 'chocolate bar': 2, 'french toast': 2, 'cinnamon swirl french toast': 2, 'gummy vitamins': 2, 'white bean chicken chili': 2, 'tree': 2, 'half half cream': 2, 'jazz collection': 2, 'bbq sauce': 2, 'toilet': 2, '77': 2, 'blackberry': 2, 'fingers': 2, 'grill': 2, 'pepperoni pizza': 2, 'dog shampoo': 2, 'fish tank': 2, '56': 2, 'pizza rolls': 2, 'hot sauce': 2, 'newspaper': 2, 'pac man': 2, 'dietary supplement': 2, 'crab cakes': 2, 'whisky': 2, 'tan': 2, 'honey soy chicken': 2, 'dayquil': 2, 'evaporated milk': 2, 'fruit cocktail': 2, 'phone cord': 2, 'taco seasoning': 2, 'lemon': 2, 'beef pot roast': 2, 'muffins': 2, 'cds': 2, 'baby wipes': 2, 'receipt': 2, 'beer bread mix': 2, 'vanilla': 2, 'rocking horse': 2, 'cat food': 2, 'green white': 2, 'stroganoff': 2, 'table chair': 2, 'crushed red pepper': 2, 'mayo': 2, 'roses': 2, 'full house': 2, 'corn muffins': 2, '69': 2, 'stir fry sauce': 2, 'chicken satay sauce': 2, 'wheat thins': 2, 'tortilla chips': 2, '78 1': 2, 'lysol': 2, 'sleeping': 2, 'coca cola 0': 2, 'faithful elephants': 2, 'inhaler': 2, 'sausage': 2, 'leg': 2, 'roast chicken': 2, 'sweetcorn': 2, '1 dollar singapore': 2, 'wood glue': 2, 'fishing in air': 2, 'tomato basil soup': 2, 'spaghettios': 2, 'spaghetti os': 2, '04669861010001': 2, 'sauerkraut': 2, 'check': 2, 'bullet casing': 2, 'diet mountain dew': 2, 'dental floss': 2, 'beets': 2, 'styrofoam cup': 2, 'trashcan': 2, 'nat king cole': 2, 'pepper sauce': 2, 'jeffrey': 2, 'pledge': 2, 'sea salt': 2, 'roasted garlic powder': 2, '1 2 cup': 2, 'ginger': 2, 'red white': 2, 'drawing': 2, 'gold': 2, 'leaf': 2, '7 up': 2, 'fire extinguisher': 2, '2': 2, 'shadow': 2, 'coconut': 2, 'garlic bread': 2, 'american flag': 2, 'pretzels': 2, 'motion sickness tabs': 2, 'may 04 2013': 2, 'doll': 2, 'preparing 10%': 2, 'heineken': 2, 'heineken beer': 2, 'cabernet sauvignon': 2, 'sliced beets': 2, 'lean pockets': 2, '350': 2, 'seasoned steak bites': 2, 'cheesecake': 2, 'sock': 2, 'jiffy corn muffin mix': 2, 'computer tower': 2, 'first aid kit': 2, 'off': 2, 'flash drive': 2, 't shirt': 2, 'progresso': 2, 'pepto bismol': 2, 'regular': 2, 'half half': 2, 'cane': 2, '300': 2, 'spider': 2, 'spanish rice': 2, 'ernest tubb': 2, 'potato sticks': 2, 'wipes': 2, '73.5': 2, '409 cleaner': 2, 'screen': 2, 'vacuum cleaner': 2, 'sausages onion gravy': 2, 'ritz crackers': 2, 'cabinets': 2, 'triscuits': 2, 'triscuit': 2, 'paper towels': 2, 'bee': 2, 'curried sausages': 2, '325': 2, 'teriyaki sauce': 2, 'lean cuisine french bread cheese pizza': 2, '1': 2, 'parking lot': 2, 'braised chicken almonds': 2, 'egg noodles': 2, 'glue': 2, 'cleaner': 2, 'tide': 2, 'house': 2, 'pomegranate': 2, 'salmon': 2, 'brush': 2, 'smiley face': 2, 'chapstick': 2, 'white green': 2, '450': 2, 'dressing': 2, 'cheddar broccoli rice': 2, 'batteries': 2, 'chili powder': 2, 'baby powder': 2, 'lip gloss': 2, 'beef meatballs': 2, 'nail polish': 2, 'cashews': 2, 'country club mix': 2, 'thermometer': 2, 'thermostat': 2, 'cookie': 2, 'febreze': 2, 'floral': 2, 'sliced carrots': 2, 'alcohol': 2, 'mcdonalds cup': 2, '73218': 2, 'cranberry sauce': 2, 'beef chuck steak': 2, 'candle': 2, 'dog food': 2, 'doritos': 2, 'knee': 2, 'lean beef steak': 2, 'pink': 2, 'sunflower seeds': 2, 'm&ms': 2, 'chef boyardee spaghetti meatballs': 2, 'gumbo': 2, '3d glasses': 2, 'rice roni': 2, 'counter': 2, 'bell': 2, 'container': 2, 'pot roast': 2, 'orange drink mix': 2, 'tv stand': 2, 'coconut milk': 2, 'cord': 2, 'vanilla instant pudding': 2, 'hair brush': 2, 'tamale bake': 2, 'clothes': 2, 'dog toy': 2, 'campbells soup': 2, 'chicken stock': 2, 'napkins': 2, 'sloppy joe sauce': 2, 'potato cheddar soup mix': 2, 'advil': 2, 'tylenol extra strength': 2, 'cinnamon': 2, 'magazine': 2, 'bananas': 2, 'spot shot': 2, 'printer': 2, 'pie': 2, 'packers': 2, 'syrup': 2, 'disinfecting wipes': 2, 'taylor swift': 2, 'envelope': 2, 'detergent': 2, 'chicken breast': 2, 'dual force': 2, 'heres sam cooke': 2, 'baked turkey': 2, 'bear': 2, 'devils food cake mix': 2, 'special k cereal': 2, 'apple logo': 2, 'cap': 2, 'cookie mix': 2, 'headset': 2, 'ice cream': 2, 'cut leaf spinach': 2, 'aleve': 2, 'rigatoni': 2, 'clive cussler dirk cussler': 2, 'login screen': 2, 't36m': 1, 'solar garden light': 1, 'mouthrinse': 1, 'grand theft auto': 1, 'grand theft auto vice city': 1, 'brides maids': 1, 'bridesmaids': 1, 'eq02713': 1, 'apple pie spice': 1, 'sweet sour chicken': 1, 'hulk toy': 1, 'sirloin steaks': 1, 'wands upside down': 1, 'winnie pooh': 1, 'yellow coffee mug': 1, 'dandruff': 1, 'mailbox': 1, 'domino sugar': 1, 'bath salts': 1, 'folic acid': 1, 'no picture': 1, 'gourmet cookie dough': 1, 'fiber': 1, 'color conditioning treatment': 1, 'hot chocolate': 1, 'cappuccino': 1, 'flip flop': 1, 'magnesium': 1, 'oct 10': 1, 'mushroom pasta sauce': 1, 'drying rack': 1, 'strawberry': 1, 'feb 08 13': 1, 'saxa': 1, 'stuffing': 1, 'moisturizing conditioner': 1, 'christmas story': 1, 'extra virgin olive oil': 1, 'olive oil': 1, 'cross necklace': 1, 'pimentos': 1, 'chopper': 1, 'shea body butter': 1, 'diet snapple': 1, 'this app rocks': 1, 'disc repair kit': 1, 'cookie cutters': 1, 'financial planners bible': 1, 'beef dinner': 1, 'old spice deodorant': 1, 'club crackers': 1, 'train set': 1, 'click finish': 1, 'sun block': 1, 'fiber 1 cereal': 1, 'triple antibiotic ointment': 1, 'window wash': 1, 'display': 1, 'salisbury steaks': 1, 'bakewell tart': 1, 'roasted sweet potato chunks': 1, 'onion sea salt': 1, 'burgers': 1, 'brownie pan': 1, 'songs south': 1, 'red yo yo': 1, 'campbells tomato soup': 1, 'cleaning pockets': 1, 'organizer': 1, 'can black beans': 1, 'build kitchen': 1, 'bench': 1, 'jamaican jerk sauce': 1, 'jerk sauce': 1, 'toms': 1, 'kids activity book': 1, 'bathroom sink': 1, 'cut broccoli': 1, 'hershey strawberry syrup': 1, 'strawberry syrup': 1, 'starbucks cup': 1, 'baby food': 1, 'pumpkin apple': 1, 'acai deep conditioning masque': 1, 'playstation controller': 1, 'plate spoon': 1, 'baked beans sausage': 1, 'baked beans sausages': 1, 'teddy grahams': 1, 'meatball soup': 1, 'marshmallow creme': 1, 'jet puffed marshmallow creme': 1, 'sofa': 1, 'backyard brawling': 1, 'hippocrene handy dictionary japanese': 1, 'scar': 1, 'fat free yogurt': 1, 'coconut sponge': 1, 'coconut sponge cake': 1, 'lima beans': 1, 'black pepper': 1, 'chick peas': 1, 'pill': 1, 'spaghetti bolognese': 1, 'paprika soothing body gel': 1, 'camcorder': 1, 'coffee creamer': 1, 'creamer': 1, 'cream celery': 1, 'green bay packers': 1, 'scuderia ferrari': 1, 'cans': 1, 'spot shot carpet cleaner': 1, '6182714091': 1, 'capn crunch': 1, 'silly socks': 1, 'monkey doorhanger': 1, 'cola': 1, 'b cola': 1, 'pound cake': 1, 'pound cake mix': 1, '28 degrees': 1, 'scalloped potatoes': 1, 'red robin seasoning': 1, 'french dressing': 1, 'she wore yellow ribbon': 1, '6 cheese tortellini': 1, 'golden sugar': 1, 'golden sugar scrub': 1, 'shrimp scampi': 1, 'mary kay': 1, 'eagle': 1, 'green tea': 1, 'decaf green tea': 1, 'forks over knives cookbook': 1, 'cookbook': 1, 'sewing machine': 1, 't': 1, 'soccer ball': 1, 'bird in cage': 1, '5 dollars': 1, 'bill baileys remarkable guide to orchestra': 1, 'apple sauce': 1, 'unsweetened apple sauce': 1, 'tomato paste': 1, 'sleeping pills': 1, 'sleep aid': 1, 'vodka': 1, 'smirnoff vodka': 1, 'sweetener': 1, 'au gratin potatoes': 1, 'monster energy drink': 1, 'vegetarian beans': 1, 'gumballs': 1, 'math book': 1, 'coffee filters': 1, 'phone case': 1, 'sign': 1, 'blueberry muffin mix': 1, 'heavenly crisp candy bar': 1, 'candy bar': 1, 'tie': 1, 'turkey mince': 1, 'ovaltine': 1, 'traditional refried beans': 1, 'oreo cookies': 1, 'bug zapper': 1, 'silver yes': 1, 'grey yes': 1, 'sugar cookie mix': 1, 'linguine': 1, 'end table': 1, 'malibu heat': 1, 'favorite nursery rhymes': 1, 'ice breakers': 1, 'bread maker': 1, 'axe': 1, 'beef jerky': 1, 'jerky': 1, 'yogurt mini pretzels': 1, 'triple berry blend': 1, 'raw stuffed chicken breasts': 1, 'goblet': 1, 'instant oatmeal': 1, '1:27': 1, 'bake fill cake pan': 1, 'cake pan': 1, 'fries': 1, '4368': 1, 'dark roast': 1, 'cheese sticks': 1, 'stockpot steamer set': 1, 'fly swatter': 1, 'brad dutz railroads': 1, 'caffeine free herb tea': 1, 'herb tea': 1, 'basketball': 1, 'nutty chocolate granola bars': 1, 'black white': 1, 'bactroban': 1, 'bactroban cream': 1, 'condom lube': 1, 'gun oil': 1, 'aladdin natural eatery': 1, 'cadbury bourn vita': 1, 'bourn vita': 1, 'settings': 1, 'passport': 1, 'republic singapore passport': 1, 'stove top chicken stuffing': 1, 'dog treats': 1, 'giant tree tomato': 1, 'grilled onions mushrooms': 1, 'eye wash': 1, 'table chairs': 1, 'misty cigarettes': 1, 'classical music for reading': 1, '73': 1, 'bar code': 1, 'nerf toy': 1, 'can pepsi': 1, 'vegemite': 1, '1 line': 1, 'futuro': 1, 'playpen': 1, 'baby rattle': 1, 'rattle': 1, 'itunes card': 1, 'mezzoforte': 1, 'dec 22 2013': 1, 'cuckoo clock': 1, 'bandages': 1, 'chocolate bunny': 1, 'vanity': 1, 'frequent client card': 1, 'sliced jalapenos': 1, 'jun 08 11': 1, 'chicken fried rice': 1, 'bose': 1, 'oxydol': 1, 'army 2': 1, 'country sausage biscuits': 1, 'beef gravy': 1, 'mar 21 12': 1, 'march 21 2012': 1, 'tennessee ernie ford': 1, 'chicken breasts': 1, 'mnr8pyp3v': 1, 'fire alarm': 1, 'mango nectar': 1, 'anew eye treatment': 1, 'snickers': 1, 'malt liquor': 1, 'nintendo': 1, 'picture frame': 1, 'hot fries': 1, 'jesus loves you rest us think youre asshole': 1, 'jesus loves you': 1, 'ear training': 1, '3:45': 1, '3:46': 1, 'casual vacancy': 1, 'ear plugs': 1, 'earplugs': 1, 'revitalizing oil': 1, 'guar gum': 1, 'tambourine': 1, 'animal unleashed': 1, 'accordian': 1, 'juice pack air': 1, 'pif paf powder': 1, 'modus operandi india pale ale': 1, '78': 1, 'kahlua': 1, '148 over 75': 1, 'water mint sake': 1, 'sake': 1, 'canned food': 1, 'lime rita': 1, 'olivias opposites': 1, 'puppies': 1, 'key': 1, 'drinking chocolate': 1, 'hot shot ant roach spray': 1, '021 08454': 1, 'crown': 1, 'black pepper cracked': 1, 'mozzarella cheese': 1, 'spit': 1, 'leather': 1, 'antibacterial counter spray': 1, 'tv show': 1, 'pasta salad': 1, 'toaster': 1, 'instant coffee': 1, 'curry yellow paste': 1, 'st norbert college': 1, 'beige': 1, 'visit to hill station': 1, 'barbeque sauce': 1, 'tile floor': 1, 'restaurant': 1, '115 cm': 1, 'snow': 1, 'sunkist': 1, 'blue shorts': 1, 'sprite 0': 1, 'screen cleaner': 1, 'mommys big guy': 1, 'celeste': 1, 'glass cleaner': 1, 'milk chocolate': 1, 'colgate toothpaste': 1, 'healthy pet': 1, 'hair gel': 1, 'rihanna': 1, 'bengay': 1, 'black white plaid': 1, 'condom': 1, 'shopping cart': 1, 'cart': 1, 'fire place': 1, '14 classic easter songs': 1, 'margarita': 1, 'map': 1, 'pen paper': 1, '2 cups coffee': 1, 'wooden train set': 1, 'freedom': 1, 'hair rollers': 1, 'toilet paper dispenser': 1, 'crab apple jam': 1, 'soda bottle': 1, 'virgin mary': 1, 'joint muscle pain relieving cream': 1, 'black red': 1, 'honey mustard': 1, 'bloodstone papers': 1, 'songs that won war': 1, 'jelly beans': 1, 'rolling papers': 1, 'papers': 1, 'wikki stix': 1, 'delay': 1, 'verizon': 1, '633': 1, 'deputy wardens reflection on prison work': 1, 'window blinds': 1, 'hot cocoa': 1, 'choco hot': 1, 'er': 1, 'tennis ball': 1, 'pac man game': 1, 'twizzlers': 1, 'stainless steel wipes': 1, 'pringles': 1, 'lean pocket': 1, 'jbl speakers': 1, '40': 1, 'iphone 4 case keyboard': 1, 'usa': 1, 'dell mouse': 1, 'breaded irish chicken goujons': 1, 'reindeer': 1, 'old bay seasoning': 1, 'mineral oil': 1, 'ford': 1, 'dunhill': 1, 'everyday maths for grown ups': 1, 'toaster strudel': 1, 'mcdonalds': 1, 'garth nix': 1, 'songs life': 1, 'muscle soothe': 1, 'ibuprofen tablets': 1, 'currency': 1, '106': 1, 'wps': 1, 'parsley': 1, 'creme de cassis': 1, 'ash tray': 1, 'pevison': 1, 'pevision': 1, 'black cherry': 1, 'taco seasoning mix': 1, 'peppermint bark': 1, 'brown shoe': 1, 'liquid plum': 1, 'healthy choice beef pot roast': 1, 'you had plan you accepted challenge you took risk': 1, 'just dance 3': 1, 'talking bingo': 1, 'ferlin husky': 1, 'chad morgan': 1, 'mini muffins': 1, 'medical equipment': 1, 'takis': 1, 'can sardines': 1, 'sardines': 1, 'braillele': 1, 'crushed chillies': 1, 'oxibooster': 1, 'era oxibooster': 1, 'walkie talkie': 1, 'emergency roadside kit': 1, 'bombmaker': 1, 'protein powder': 1, 'chandelier': 1, 'victor reader': 1, 'strathmore': 1, 'sippy cup': 1, '10 21 15': 1, 'figurines': 1, 'hi energy': 1, 'red label wine': 1, 'cran strawberry juice': 1, 'spades': 1, 'weed killer': 1, 'spectracide': 1, '8': 1, 'grocery ad': 1, 'photo ink': 1, 'iced latte': 1, 'worcestershire sauce': 1, 'country teardrops': 1, 'trophy': 1, 'purell hand sanitizer': 1, 'doorway': 1, 'penetrex': 1, 'ipod nano': 1, 'always': 1, 'bowl': 1, 'whole wheat flour': 1, 'sailboat': 1, 'boat': 1, 'tallahassee panama city': 1, 'chile verde': 1, 'curry powder': 1, 'indian curry powder': 1, 'middle finger': 1, 'nowa anemia': 1, 'grape juice': 1, 'welchs grape juice': 1, 'file cabinet': 1, 'flute': 1, 'hallway': 1, 'toshiba': 1, 'lake': 1, 'john denver': 1, 'unplugged in ussr': 1, 'piano': 1, '16 nov 2011': 1, 'sneetches other stories': 1, 'liquid': 1, 'portable speaker': 1, 'blue sky': 1, 'glass tumblers': 1, 'orange black': 1, '053 435 31 81': 1, 'celery flakes': 1, '37978': 1, 'building': 1, 'egg whites': 1, 'cannoli': 1, 'nail polish remover': 1, 'roasted chicken rice': 1, 'cafe espresso': 1, 'alfredo pasta sides': 1, 'wii': 1, 'grilled cheese tossed salad italian dressing pineapple tidbits': 1, 'stir fry': 1, '1865': 1, 'nap time story time': 1, 'sherry': 1, 'coconut date roll': 1, 'clover organic farms': 1, 'germ x': 1, 'etch sketch': 1, 'toaster oven': 1, 'bunnies': 1, 'aquafina water': 1, 'ipad bootcamp workshop': 1, 'funny you dont look christian': 1, 'dog on rug': 1, 'classic stir fry sauce': 1, 'pencil eraser': 1, 'bbq tapioca chips': 1, 'bingo': 1, 'traffic light': 1, 'healthy choice beef merlot': 1, 'crumbled fillet fish': 1, 'mini pins': 1, 'bite size tortilla chips': 1, 'dots candy': 1, 'law order': 1, 'law order: special victims': 1, 'sandals': 1, 'zucker': 1, 'wiener zucker staubzucker': 1, 'junk': 1, 'junk mail': 1, 'niacin': 1, 'lysol spray': 1, 'allergy relief': 1, 'pokemon cards': 1, 'tropical mix': 1, 'tortellini': 1, 'gummy bears': 1, 'cinnamon bears': 1, 'stationary set': 1, 'monthly reminder clock': 1, 'fried shrimp': 1, '24': 1, '74.5': 1, 'vaseline': 1, 'pants': 1, 'king clubs': 1, 'blueberry lowfat yogurt': 1, 'blueberry yogurt': 1, 'turnovers': 1, 'psoriasis gel': 1, 'trader joes multigrain baking pancake mix': 1, 'optrex eye wash': 1, 'optrex': 1, 'fried onions': 1, 'kool aid': 1, 'steak kidney': 1, 'pot': 1, 'post': 1, 'no label': 1, 'chef boyardee mini ravioli': 1, 'space heater': 1, 'pepcid': 1, 'pepcid ac': 1, 'tomato': 1, 'citron scalp care shampoo': 1, 'crayons': 1, 'goolsbys country sausage': 1, 'tequila': 1, 'cream style sweet corn': 1, 'sweet corn': 1, 'trix cereal': 1, 'pasta bake': 1, 'fifty shades grey': 1, 'dvd writer': 1, 'kindle touch': 1, 'blueberry quick bread mix': 1, 'blueberry bread mix': 1, 'esc': 1, 'cumberland pie': 1, 'pitcher beer': 1, 'borax': 1, 'menorah': 1, 'cough drops': 1, 'honey lemon cough drops': 1, 'gingerbread house': 1, '788741': 1, 'office': 1, 'gospel christmas': 1, 'roasted garlic': 1, 'light vegetable soup': 1, 'bakery cafe': 1, '39 clues': 1, 'christmas wishes': 1, 'dogs': 1, 'miracle soap for face skin hair': 1, 'windows resetting your pc 94%': 1, 'no box': 1, 'dasani water bottle': 1, 'mixed fruit': 1, 'scratch remover': 1, 'phone charger': 1, 'barbacoa': 1, 'dog frisbee': 1, 'zhu zhu princess': 1, 'electric razor': 1, 'lemon drops': 1, 'lemon drops sanded': 1, 'lifesavers gummies': 1, 'scripture soul theology': 1, '45058': 1, 'clown statue': 1, 'clown': 1, 'gatorade bottle': 1, 'jamaican jerk dip': 1, 'jerk dip': 1, 'hair product': 1, 'iphone box': 1, 'brown purse': 1, 'cherry drink': 1, '26.702': 1, 'nutter butter': 1, 'nutter butter cookies': 1, 'chicken marsala': 1, 'lean cuisine chicken marsala': 1, 'diet mtn dew': 1, 'lighthouse': 1, 'ketchup bottle': 1, 'can beans': 1, 'window cleaner': 1, 'food scale': 1, 'mobile broadband mini wifi': 1, 'teacup': 1, 'floss': 1, 'pipe': 1, 'pickled sliced beets': 1, 'oregano': 1, 'garbage can': 1, 'dvd player': 1, 'chicken breast filet': 1, 'pepsi can': 1, 'set 3 gift boxes': 1, 'gift boxes': 1, 'static': 1, 'jivin jarvis': 1, 'cardboard box': 1, 'beer orange': 1, 'heineken orange': 1, 'chicken egg noodles': 1, 'kudos': 1, 'scotch bonnet pepper sauce': 1, 'cell phone screen': 1, '1482': 1, 'honey bun': 1, 'stouffer salisbury steak': 1, 'member information enclosed': 1, 'garden broccoli soup': 1, 'cassette tape': 1, 'student planner': 1, 'student planner 2011 2012': 1, '10 mg': 1, '10mg': 1, 'math problems': 1, 'lodge logic': 1, 'bags': 1, 'costco card': 1, 'dell': 1, 'heartburn relief': 1, 'glasses case': 1, 'superman': 1, 'e&j': 1, 'herbal hormone balance': 1, 'index entry id 2188': 1, 'rotisserie chicken seasoning': 1, 'windex crystal rain': 1, '3:06': 1, 'empty dr pepper bottle': 1, 'light switch': 1, 'factory': 1, 'popular mechanics': 1, 'legends grand ole opry': 1, 'pure apple juice': 1, 'eye allergy relief': 1, 'chocolate chip cookie dough': 1, 'fabric softer': 1, 'fabric softener': 1, 'pizza box': 1, 'pager': 1, 'ipad 2': 1, 'cologne': 1, 'armani code': 1, 'brad dutz': 1, 'last supper': 1, 'louisiana hot sauce': 1, 'chicken nugget': 1, 'bread': 1, 'guacamole mix': 1, 'blueberry muffins': 1, 'number 4': 1, 'chicken bites': 1, 'plate': 1, 'triceratops': 1, 'doorknob': 1, 'door knob': 1, 'kettle corn': 1, 'software': 1, 'binder clip': 1, 'paper clip': 1, 'bulletin magazine': 1, 'ziti': 1, 'hut': 1, 'omega 3 6 9': 1, 'benadryll': 1, 'comb': 1, 'laundry basket': 1, 'spaghetti sauce mix': 1, 'yellow cake mix': 1, '$16.99': 1, 'difference ability': 1, 'frappuccino': 1, 'starbucks frappuccino': 1, 'kirkland': 1, 'lamb vindaloo': 1, 'dog toys': 1, 'chocolate vanilla swirl': 1, 'barbecue sauce': 1, 'milk magnesia': 1, 'milk chocolate peanuts': 1, 'top middle': 1, 'clear reader': 1, 'natures miracle': 1, 'highchair': 1, 'patio': 1, 'sliced stewed tomatoes': 1, '97 69': 1, 'decussis': 1, 'reach for sky': 1, 'pepper shaker': 1, 'secrets': 1, 'donuts': 1, 'rosso di montalcino': 1, 'sprite 0 cranberry': 1, 'sprite cranberry 0': 1, 'baseball nao': 1, 'nao baseball': 1, 'windows failed to start': 1, 'braille': 1, 'baby doll': 1, 'sunny paris seasoning': 1, 'scale': 1, 'jack daniels pulled chicken': 1, 'smoker box': 1, 'knights newcastle': 1, 'knights newcastle community alliance': 1, 'black glove': 1, 'glove': 1, 'sausage pizza': 1, 'action figure': 1, 'tyrrells wines': 1, 'just basics': 1, 'dell computer keyboard': 1, 'moisturizing lotion': 1, 'yellow black': 1, 'raspberry shower gel': 1, 'sugar snap peas': 1, '301': 1, 'street fighter': 1, 'allergy medicine': 1, 'mawson': 1, 'binoculars': 1, '375': 1, '111 over 72': 1, '111 72': 1, 'lactose free whole milk': 1, 'passion fruit juice': 1, 'white lion': 1, 'lion': 1, 'kinect adventures': 1, 'tooth': 1, 'saltines': 1, 'dawn dish soap': 1, 'canned corn': 1, 'paint brush': 1, 'paintbrush': 1, 'logitech mouse': 1, 'coffee table': 1, 'snacks': 1, 'kitkat': 1, 'body spray': 1, 'reconstructing socialist perspective': 1, 'body butter': 1, 'coconut body butter': 1, 'nominations': 1, 'maxwell house coffee': 1, 'crunchy peanut butter': 1, 'tylenol arthritis': 1, 'birdcage': 1, 'doow': 1, 'pineapple tea': 1, 'foot cream': 1, 'biscuits': 1, 'thermal face scrub': 1, 'another country': 1, 'chicken enchiladas': 1, 'fine fine school': 1, 'barbeque': 1, 'usb 2.0 flash drive': 1, 'spicy thai chili seasoned tuna medley crackers': 1, 'spaghetti popcorn chicken': 1, 'tonx': 1, 'yellow chair': 1, 'rice krispie treats': 1, 'guide to assistance dog laws': 1, 'july 08 2011': 1, '1 08 11': 1, 'personalize': 1, 'keychain': 1, 'key chain': 1, 'bible': 1, 'needle nose pliers': 1, 'dec032011': 1, 'wheat bran': 1, 'unprocessed wheat bran': 1, '7 layer burrito': 1, 'chocolate malt balls': 1, 'fillet steaks': 1, 'marie callenders cherry pie': 1, 'relish': 1, 'g': 1, 'special k cinnamon': 1, 'walking cane': 1, 'jaffa cakes': 1, 'bookcase': 1, 'salt shaker': 1, 'twister game': 1, 'twister': 1, 'giant gum drops': 1, 'dog shampoo conditioner': 1, 'headlamp': 1, '8 bulb led headlamp': 1, 'fire extinguisher red': 1, 'red fire extinguisher': 1, 'lemonade': 1, 'country time lemonade': 1, 'spider net': 1, 'mini spaghetti': 1, 'pre formed cookie dough': 1, 'bacon bits': 1, 'sprayer': 1, 'big red gum': 1, 'nescafe tasters choice': 1, 'vitamin d': 1, 'cool': 1, 'white shoe': 1, 'pumpkin pie spices': 1, 'tea bags': 1, 'laptop charger': 1, 'citrus spray wipe': 1, 'fettuccine alfredo': 1, '409': 1, 'spanakopita': 1, '2010 iowa state football': 1, 'afterwards': 1, 'hand wipes': 1, 'light in window': 1, 'loft': 1, 'original': 1, 'dirty bowl': 1, 'closet': 1, 'rec': 1, 'ant roach killer': 1, 'bath gel': 1, 'parmesan tilapia': 1, 'dishwashing liquid': 1, 'christmas carol': 1, 'white line': 1, 'wet wipes': 1, 'blue electric razor': 1, 'football': 1, '16 1 2': 1, 'kikkoman stir fry sauce': 1, 'deck': 1, '120': 1, 'snoopy': 1, 'starbucks coffee cup': 1, 'grandpa teeth': 1, 'ihop': 1, 'tennessee ernie': 1, 'soap dispenser': 1, 'wayne newton dynasty collection': 1, 'milk stout': 1, 'cats': 1, 'room upstairs': 1, 'dry erase marker': 1, 'christmas card': 1, 'bullet': 1, 'fish oil': 1, 'hamburger helper stroganoff': 1, 'tai pei': 1, 'string': 1, 'yarn': 1, 'hunts pasta sauce': 1, 'hunts pasta sauce traditional': 1, 'wall climbing car': 1, 'pure citrus': 1, 'johnstrabe': 1, 'harvest salad': 1, 'lysol wipes': 1, 'mudslide': 1, 'duqint': 1, 'rolling cart': 1, 'wooden bear family dress up puzzle': 1, 'blue lighter': 1, '304': 1, 'minced beef hotpot': 1, 'japanese': 1, 'cookie dough ice cream': 1, 'beef rissoles': 1, 'china cabinet': 1, 'cleaning solution': 1, 'maxi pad': 1, 'ink cartridge': 1, 'printer ink': 1, 'lemon garlic seasoned vegetable blend': 1, 'slider storage bags': 1, 'ground cumin': 1, 'no salt added tomatoes': 1, 'triple sec': 1, 'spring roll sauce': 1, 'spreadable butter': 1, 'strongbow': 1, 'raspberry oat streusel bars': 1, 'marlboro cigarettes': 1, 'meat lasagna': 1, 'risk management': 1, 'skiprop declination': 1, 'dietary supplements': 1, 'ramen noodles': 1, 'noodles': 1, 'distance tracker': 1, 'digital distance tracker': 1, 'apples oranges kiwi': 1, 'bean bacon': 1, 'bean bacon soup': 1, 'florida gators': 1, 'squirt mop': 1, 'decoration': 1, 'chicken enchilada': 1, 'squash': 1, 'dole': 1, 'golden crisp cereal': 1, 'wash': 1, 'sliced pears': 1, 'cards': 1, 'playing cards': 1, 'hdd: pm st9250315as': 1, 'beach': 1, 'propane tank': 1, 'fruit slices': 1, 'speaker box': 1, 'lactaid': 1, 'oven': 1, 'collins german dictionary grammar': 1, 'strawberry jam': 1, 'strawberry spread': 1, 'anallogi': 1, 'vegetable juice': 1, 'vegetable juice cocktail': 1, 'qs': 1, 'tortillas': 1, 'semi sweet baking chocolate squares': 1, 'fresh mint toothpaste': 1, 'bag balm': 1, 'enchilada sauce': 1, 'cheese balls': 1, 'palmolive': 1, 'kingston trio sing folk classics': 1, 'kingston trio': 1, 'swingline': 1, 'keep off': 1, 'aug 29': 1, 'pumpkin': 1, 'lice': 1, 'massager': 1, 'canned pumpkin': 1, 'aveeno daily moisturizing lotion': 1, 'crystallized ginger': 1, 'broth': 1, 'dvds': 1, '10 euros': 1, 'zipper': 1, 'hot pocket': 1, 'candles': 1, 'hazelnut coffee': 1, 'aquarium': 1, 'feet': 1, 'swinging': 1, 'onions': 1, 'frozen broccoli': 1, 'chap stick': 1, 'daddys big guy': 1, 'm': 1, 'comic book': 1, 'microwave popcorn': 1, 'purified drinking water': 1, 'dime': 1, 'hats': 1, 'lucky mint': 1, 'disco ball': 1, 'a1429': 1, 'apple product': 1, 'sheet': 1, 'celestine vision': 1, 'elephant': 1, 'cat litter box': 1, 'lysol disinfecting wipes': 1, 'honey roasted chipotle peanuts': 1, 'cheesy curls': 1, 'folding chair': 1, 'coaster': 1, 'mincemeat': 1, 'triple chunk brownie mix': 1, 'rum cream': 1, 'pibb xtra': 1, 'restaurant booth': 1, 'lawnmower': 1, 'macaroni': 1, '100 pounds': 1, 'mildew remover': 1, 'bborax': 1, '7 professional': 1, 'picante sauce': 1, 'canned peaches': 1, '34821': 1, 'cranberry kiss lip gloss': 1, 'roasted turkey breast': 1, 'roasted turkey breast dinner': 1, 'harp lager': 1, 'white kidney beans': 1, 'iron': 1, 'bubble bath': 1, 'crystal': 1, 'ready rice': 1, 'banana bread mix': 1, 'chemistry': 1, 'dark': 1, 'trunk': 1, 'not medicine': 1, 'prediction': 1, 'intermediate 2 biology': 1, 'talking alarm clock': 1, '119 82': 1, '119 over 82': 1, 'filet mignon': 1, 'rice meat': 1, 'technology review': 1, 'technology': 1, 'noodle soup': 1, 'birds': 1, 'birds on branch': 1, 'then my poor meatball rolled out door': 1, 'peanut butter gourmet cookie dough': 1, 'peanut butter cookie dough': 1, 'chocolate chip granola bar': 1, 'all day relief': 1, 'chunky soup': 1, 'naturliches mineralwasser': 1, 'tissue paper': 1, 'lilt': 1, 'butter crunch cashews': 1, 'ed hardy': 1, 'jif chocolate flavored hazelnut spread': 1, '0 7818 0354 3': 1, 'sesame seeds': 1, 'sesame seeds brown': 1, 'powdered boric acid': 1, 'roasted turkey bacon cheese': 1, 'iron man 2': 1, 'crispy fries': 1, 'mexican chili bean soup': 1, 'grapes': 1, 'chamomile tea': 1, 'drum': 1, 'djembe': 1, 'xtfrbh': 1, 'flag': 1, 'lightbulb': 1, '640mg': 1, 'fryer': 1, 'deep fryer': 1, 'looking at computer screen': 1, 'cream celery soup': 1, 'soft cheese': 1, '10 pounds': 1, 'miracle whip': 1, 'radiator': 1, 'cayenne pepper': 1, 'turkey sausage patties': 1, 'fully cooked turkey sausage patties': 1, 'panadol': 1, 'cheetos': 1, 'evolution in action': 1, 'chickpeas': 1, 'garnet': 1, '101 dalmatians': 1, 'pure cane sugar': 1, 'glass milk': 1, 'messianic': 1, 'alpha bits cereal': 1, 'alpha bits': 1, 'pot lid': 1, 'country sausage': 1, 'cold relief': 1, 'mold mildew remover': 1, 'detto': 1, 'diet dr pepper': 1, 'raisin bran': 1, 'baby formula': 1, 'gain plus': 1, 'silverware set': 1, 'silverware': 1, 'best johnny carson': 1, 'best johnny carson friends': 1, 'raid': 1, 'rock': 1, 'acetaminophen': 1, 'peppercorn ranch dressing': 1, 'peppercorn ranch dressing dip': 1, 'rotini': 1, 'white pepper': 1, 'piano keyboard': 1, 'lacoste': 1, 'vegetable crisps': 1, 'honey': 1, 'earth dvd': 1, 'seeds': 1, 'whole kernel sweet corn': 1, 'bone': 1, 'recorder': 1, 'k cup': 1, 'miller beer': 1, 'empty': 1, 'cotton ball': 1, 'minute maid orange juice': 1, 'handbook personality psychology': 1, 'wagner takes train': 1, 'steno notebook': 1, 'doritos nacho cheese': 1, 'fruity cheerios': 1, 'hydrogen peroxide': 1, 'macbook air': 1, 'cranberries': 1, 'cranberry': 1, 'memo book': 1, 'teriyaki chicken': 1, 'el pum remix': 1, 'spearmint starlights': 1, 'cream chicken': 1, 'halloween': 1, 'tangled': 1, '7.98': 1, '$7.98': 1, 'stairs': 1, 'anchor': 1, 'red blue': 1, 'organic black beans': 1, 'fitness assessment appointment card': 1, 'lean beef': 1, 'magnum tonic wine': 1, 'tonic wine': 1, 'steak': 1, 'pikachu': 1, 'shout': 1, 'hairbrush': 1, 'egyptian': 1, 'chili seed mix': 1, 'mucinex dm': 1, 'vicks vaporub': 1, 'sandicast': 1, 'gentle skin cleanser': 1, 'story cubes': 1, 'boxcar children': 1, 'carb stopper': 1, 'carb stopper extreme': 1, 'fiber 1': 1, 'dukes hazzard dvd': 1, 'button': 1, 'scooby doo pasta': 1, 'lasagna meat sauce': 1, 'trail mix': 1, 'trail mix bar': 1, '20 euro': 1, 'butter cashew nuts': 1, 'pillows': 1, 'jambalaya': 1, 'no': 1, 'microwave pasta cooker': 1, 'waffle': 1, 'waffles': 1, 'road': 1, 'white yellow': 1, '5229': 1, 'sweet n low': 1, 'peanut butter cheerios': 1, 'febreeze': 1, 'la victoria enchilada sauce': 1, 'portable charger': 1, 'great grains': 1, 'magic dreams': 1, 'black dog': 1, 'exotic coconut body lotion': 1, 'vitamin water': 1, 'beverage': 1, 'biscuit baking mix': 1, 'liquid organics natural': 1, 'heart shaped ring': 1, '80': 1, 'man in black': 1, 'puzzles': 1, 'can cannellini beans': 1, 'grapefruit': 1, 'notebook': 1, 'hole punch': 1, 'nutmeg': 1, 'ground nutmeg': 1, 'skippy creamy peanut butter': 1, 'cheetah print': 1, 'cardboard': 1, 'white kidney cannellini beans': 1, 'dog bone': 1, 'shredded mango': 1, 'toilet tissue': 1, 'frosted flakes cereal': 1, 'jiffy muffin mix': 1, 'lemon lime gatorade': 1, 'minced garlic': 1, 'snuggle fabric softener': 1, 'nutella': 1, 'creamy garlic shells': 1, 'milky way': 1, 'cement block': 1, 'amplifier': 1, 'christmas': 1, 'fennel': 1, 'onion': 1, 'betty boop': 1, 'woodbridge': 1, 'woodbridge chardonnay': 1, 'comp': 1, 'stuffed bunny': 1, 'cornmeal': 1, 'mp mini': 1, 'beef ramen noodles': 1, 'pool': 1, 'pirates caribbean at worlds end': 1, 'honey cornbread': 1, 'chicken soup': 1, 'spam': 1, 'people on bus': 1, 'breath mints': 1, 'spray 9': 1, 'beef noodle soup': 1, 'caramel topping': 1, 'knob creek straight bourbon whiskey': 1, 'toyota logo': 1, 'diet sierra mist': 1, 'fire starter': 1, 'coca cola can': 1, 'boneless beef short ribs': 1, 'hmaa': 1, 'fegv4yf': 1, 'fire blanket': 1, 'roasted sweet potatoes': 1, 'tuna pasta bake': 1, 'overlooks inquiry': 1, 'v8 juice': 1, 'trauma center new blood': 1, 'white flour': 1, 'spice cake': 1, 'spice cake mix': 1, 'salted edamame': 1, 'earl grey tea': 1, 'flowers in vase': 1, 'plaid blanket': 1, 'facial cleanser': 1, 'beats headphones': 1, 'oats': 1, '18': 1, 'nba live 10': 1, 'pita chips': 1, 'garlic pepper': 1, 'meat packs': 1, 'meat packs garlic': 1, 'cheese bits crackers': 1, 'pills': 1, 'chewing tobacco': 1, 'jukebox hits': 1, 'porcupines': 1, 'spatulas': 1, 'spatula': 1, 'fashion': 1, 'pots': 1, 'logo': 1, 'hershey bar': 1, 'sparkling berry bliss': 1, 'lasagna skillet dinner': 1, 'deakin': 1, 'love letters': 1, 'clock stapler': 1, 'oxi clean': 1, 'music cd': 1, 'chicken broccoli pasta': 1, 'clothing': 1, 'budweiser': 1, 'lock': 1, 'lock key': 1, 'fisherman pie': 1, 'safe': 1, 'food processor': 1, 'marshmallow pebbles': 1, 'spaghetti carbonara': 1, 'bus': 1, 'pascual toso': 1, 'pork skins': 1, 'lactose free milk': 1, 'spaghetti rings': 1, 'jergens': 1, 'plastic spoons': 1, 'excedrin': 1, 'soy yogurt': 1, 'air conditioner': 1, 'tamil': 1, 'magicool': 1, 'cauliflower': 1, 'rubber duck': 1, 'canola oil': 1, 'sheet music': 1, 'mushroom soup': 1, 'wolf': 1, 'pgx daily': 1, 'bridey 2003 2013': 1, 'tenderloin pieces': 1, 'omeprazole magnesium': 1, '14 2013': 1, 'pasta roni shells white cheddar': 1, 'shells white cheddar': 1, 'cowboy statue': 1, 'quarter': 1, 'marinade': 1, 'trader joes peanut butter filled pretzels': 1, 'peanut butter filled pretzels': 1, 'stouffer macaroni cheese': 1, 'natural lemon decaffeinated iced tea': 1, 'sleeve': 1, 'fish fillets': 1, 'crumbed fish fillets': 1, '65': 1, 'brat kartoffeln': 1, 'j2o': 1, 'no farting sign': 1, 'fruit mix': 1, 'chunky chicken dumpling': 1, 'bug spray': 1, 'empty bottle': 1, 'bio oil': 1, 'light blue': 1, 'mall perks battlefield mall': 1, 'book shelf': 1, '$10 gift card': 1, 'baron saint jean rouge': 1, 'smuckers peanut butter': 1, 'elevator button': 1, '30362': 1, 'soup mix': 1, 'rennie peppermint': 1, 'rennie': 1, 'cold sore treatment': 1, 'books': 1, 'measuring cups': 1, 'calcium pills': 1, 'suitcase': 1, 'c portable charger': 1, 'cream cheese': 1, '3': 1, 'advil pm': 1, 'flannel hood': 1, 'triple berry muffin mix': 1, '425': 1, 'celery salt': 1, 'toc': 1, 'vegetable cup': 1, 'coca cola cherry 0': 1, 'pole': 1, 'envelopes': 1, '390mg': 1, 'blindfold': 1, 'can coca cola': 1, 'jalapeno poppers': 1, 'powdered sugar': 1, 'homestyle meatloaf': 1, 'wow hits 2006': 1, 'iodine': 1, 'iodides tincture': 1, 'no bake gingerbread houses for kids': 1, 'almond butter': 1, 'garlic press': 1, 'stool': 1, 'moist towelettes': 1, 'antibacterial moist towelettes': 1, '4 white fish portions': 1, '50 euro bill': 1, '50 euro': 1, 'scotch tape': 1, '12 hour slow cooker recipes': 1, 'cottage cheese': 1, 'burritos': 1, 'box teabags': 1, 'savory beef rissoles': 1, 'encryption key needed': 1, 'butter cream cheese': 1, 'almond flour': 1, 'apricot scrub': 1, 'household cleaner': 1, 'prime': 1, 'teas tea': 1, 'grilled chicken sausage gumbo soup': 1, 'creamed spinach': 1, 'fire roasted vegetable blend': 1, 'form': 1, 'spaghetti bolognaise': 1, 'lemon pepper marinade': 1, 'lawry lemon pepper marinade': 1, 'blue white': 1, 'faucet': 1, 'sink faucet': 1, 'cajun night before christmas': 1, 'campbells chicken noodle soup': 1, 'grey pink': 1, 'nghwevel sure': 1, 'dell warranty support information': 1, 'violin case': 1, 'violin': 1, 'green mountain coffee': 1, 'lipo flavonoid': 1, 'water cooler': 1, 'adult diapers': 1, 'negro impact on western civilization': 1, 'jesus': 1, 'pug': 1, '230': 1, 'coffee fool': 1, 'popcorn topping': 1, 'usher after shave': 1, 'coke coke 0 diet coke': 1, 'coca cola coca cola 0 diet coke': 1, 'pantene shampoo': 1, 'celtic favorite': 1, 'celtic favorites': 1, 'econ': 1, 'womans world magazine': 1, 'coach purse': 1, '100 dollar bill': 1, 'california raisins': 1, 'cod liver oil': 1, 'attlyoc prisoner': 1, 'ice skate': 1, 'diamonds': 1, 'boots': 1, 'space ship': 1, 'ham': 1, 'dominos coupons': 1, 'dell computer': 1, 'cinnamon raisin bread': 1, '85': 1, 'spaghetti': 1, 'fish breading batter mix': 1, 'dr seuss sleep book': 1, 'sleep book': 1, 'updating': 1, 'champagne': 1, 'kelly clarkson stronger': 1, 'stronger': 1, 'hydrocortisone': 1, 'mirror': 1, 'camera lens': 1, 'bushs baked beans': 1, 'shampoo conditioner': 1, 'frog': 1, 'nad6': 1, 'mighty mints': 1, 'plate food': 1, 'fax machine': 1, 'downtowner': 1, 'cords': 1, 'floor cleaner': 1, 'desk calendar': 1, 'magnet balls': 1, 'nail clipper': 1, 'nail clippers': 1, 'lasagna sauce': 1, 'toy car': 1, 'model car': 1, 'microphone': 1, 'smoker bag': 1, 'engraver': 1, 'german chocolate': 1, 'for pout plumping perfection': 1, 'latte spilimbergo': 1, 'canned chicken': 1, 'listerine 0': 1, 'corn kernels': 1, 'bathroom cleaner': 1, 'car polish': 1, 'nu finish car polish': 1, 'tandoori naan': 1, 'beans wieners': 1, 'whole chestnuts': 1, 'chestnuts': 1, 'cilantro': 1, 'cold medicine': 1, 'pain relief': 1, 'listerine': 1, 'listerine mouthwash': 1, 'barcode': 1, 'arm hammer': 1, 'mustard seeds': 1, 'swiss army knife': 1, 'club mix': 1, 'sunkist grape soda': 1, 'pork': 1, 'ornament': 1, 'christmas tree ornament': 1, 'pillsbury dough boy': 1, 'master commander yes': 1, 'pencils': 1, 'marker': 1, 'textbook': 1, 'vegetarian potsticker dumplings': 1, 'dumplings': 1, 'kids sunscreen': 1, 'minced steak onion pie': 1, 'keypad': 1, 'econazole': 1, 'mozzarella sticks': 1, 'pretty little liars': 1, 'australian beef': 1, 'spaghettios sliced franks': 1, 'cranberry juice': 1, 'united states america': 1, 'meat tenderizer': 1, 'johnsons baby shampoo': 1, 'tums smoothies': 1, 'fedders': 1, 'vicks vapor rub': 1, 'teal': 1, 'office chair': 1, 'anti itch lotion': 1, 'vermidon tablets': 1, 'lotto ticket': 1, 'code 22': 1, 'airplane': 1, 'napkin': 1, 'mouth guard': 1, 'once upon time in west': 1, 'butch cassidy sundance kid dvd': 1, 'paprika body wash': 1, 'playing card': 1, 'chicken breast meat for fajitas': 1, 'ritz bits': 1, 'turtle salsa dish': 1, 'oct 14 2011': 1, 'dizziness': 1, 'may cause dizziness': 1, 'butter flavored syrup': 1, 'devils gate': 1, 'magic love': 1, 'pot roast seasoning': 1, 'm&m snack mix': 1, 'snickers bar': 1, 'sand dollar': 1, 'lottery ticket': 1, 'chicken stock cube': 1, 'pantene': 1, 'pantene classic 2 in 1': 1, 'powerade': 1, 'country duets': 1, 'seafood spread': 1, 'food spread': 1, '28.8': 1, 'agave': 1, 'clarks agave': 1, 'pie saver': 1, '2103 sale k': 1, 'sewing kit': 1, 'net': 1, 'bra on table': 1, 'j36d': 1, 'pill box': 1, 'combos': 1, 'krusteaz': 1, 'teapot': 1, 'philly cheesesteak hamburger helper': 1, 'aruba coconut': 1, 'soak prewash': 1, 'grapefruit club soda': 1, 'club soda': 1, 'remote black': 1, 'press any key': 1, 'tostitos chips': 1, 'blue black': 1, 'iced tea': 1, 'jordache women': 1, 'jordache': 1, 'cigarette': 1, 'pepsi logo': 1, 'popping corn': 1, 'preparing': 1, 'orange glo cleaner': 1, 'artichoke bottoms': 1, 'radish': 1, 'firefox logo': 1, 'entertainment tonight': 1, 'solid': 1, 'sliced strawberries bananas': 1, 'mothers california gold car wash': 1, 'roast lamb': 1, 'white cheddar cheez': 1, 'hair rinse': 1, 'ninja': 1, 'ground black pepper': 1, 'spoon': 1, 'diet green tea': 1, 'lorax': 1, 'paper shredder': 1, 'shredder': 1, 'fence': 1, 'lime': 1, 'sophie juice': 1, 'plain flour': 1, 'petco': 1, 'petco store': 1, 'pork belly ribs': 1, 'cable box': 1, '70': 1, 'blue lines': 1, 'progresso soup': 1, 'bean extract': 1, 'pall mall': 1, 'lion king': 1, 'trees': 1, 'classic country hits': 1, 'window wipes': 1, 'preparation h': 1, 'preparation h notables': 1, 'cinnamon sugar': 1, 'computer speaker': 1, 'clear men': 1, 'cantaloupe': 1, 'mozzarella': 1, 'windex advanced': 1, 'ginger root': 1, 'scarecrow army thieves 1 10': 1, 'vent': 1, 'god family': 1, '2012': 1, 'roadside kit': 1, 'sherlock': 1, 'indian coriander': 1, 'world spice': 1, 'apple slices': 1, 'white polka dots': 1, 'green giant': 1, '3 petrus': 1, 'den036': 1, 'ant killer': 1, 'bottom shoe': 1, 'milk bone': 1, 'conway': 1, 'conway twitty great man country': 1, 'guava': 1, 'seasoned beef steak bites': 1, 'lamb patties': 1, 'wwwbassprocom': 1, 'garden': 1, 'loading bar': 1, 'guava berry': 1, 'coat rack': 1, 'jan 09 2012': 1, 'tea mix': 1, 'taffy': 1, 'jambalaya mix': 1, 'cool whip': 1, 'kettle': 1, 'tomato juice': 1, 'monkey': 1, 'baboon': 1, 'nabisco grahams': 1, '2 spades': 1, 'vhs tape': 1, 'dark chocolate': 1, 'flip flops': 1, 'chicken fingers': 1, '20 beef meatballs': 1, 'qr code': 1, 'mini ravioli': 1, 'butterfly': 1, 'traditional baked turkey': 1, '$1 singapore': 1, 'charge dietary supplement': 1, 'cleaning product': 1, 'radox': 1, 'apricot chicken rice': 1, 'bob marley': 1, 'coins': 1, 'olivia': 1, 'beloved': 1, 'ground ginger': 1, 'bop': 1, 'recycle bin': 1, 'recycling bin': 1, '116 over 65': 1, 'windows': 1, 'gelatin dessert lime': 1, 'lime gelatin': 1, 'candy bars': 1, 'whirlpool': 1, 'yellow rice': 1, '55195': 1, '55': 1, 'lomani': 1, 'kava powder': 1, 'grilled chicken sausage gumbo': 1, 'jelly': 1, 'chicken carbonara': 1, 'cream mushroom': 1, 'basmati rice': 1, 'amigo enhanced vision': 1, 'hot tamales candy': 1, 'hot chili seasoning mix': 1, 'red green peppers': 1, 'can tomato sauce': 1, 'shave gel': 1, 'centipede': 1, 'telephone cord': 1, 'pioneer': 1, 'baking spice': 1, 'advanced creme rinse': 1, 'cartoon': 1, 'grape': 1, 'purell': 1, 'air wick': 1, '800 631 9554': 1, '8006319554': 1, 'ham cheese croissants': 1, 'salmon burger': 1, 'salmon burgers': 1, 'pollen': 1, 'chicken tenders': 1, 'piggy bank': 1, 'nestea': 1, 'grand canyon': 1, 'merlot': 1, 'key lime cheese ball mix': 1, 'cheese ball mix': 1, 'clorox wipes': 1, 'samsung': 1, 'clorox bleach': 1, 'scooter': 1, 'pink scooter': 1, 'terrance brennan': 1, 'keyboards': 1, 'ritz bits cheese': 1, 'eeeyore': 1, 'cereal bars': 1, 'advance': 1, 'hello kitty': 1, 'curried beans': 1, 'harry potter': 1, 'slinky': 1, 'motorcycle': 1, 'bamboo shoots': 1, 'belly button': 1, 'negrita': 1, 'energy shot': 1, 'hershey nuggets': 1, 'tuna helper tetrazzini': 1, 'chef boyardee beef ravioli': 1, 'cracker': 1, 'cupcakes': 1, 'sweet sour tuna': 1, 'lasagna meat': 1, 'amber lager': 1, 'markers': 1, 'carlsberg': 1, 'trampoline': 1, 'eiffel tower': 1, 'tab': 1, 'smart balance': 1, 'smart balance spread': 1, 'basketball hoop': 1, 'daily clarifying shampoo': 1, 'muesli': 1, 'naked lunch restored text': 1, 'naked lunch': 1, 'softsoap': 1, 'recording pen': 1, 'seed pod': 1, 'chocolate cupcakes': 1, 'frosted flakes': 1, 'kit kat minis': 1, 'kitkat minis': 1, 'mace': 1, 'beef stock': 1, 'campbells real stock beef': 1, 'manwich sauce': 1, 'peeler': 1, 'chivas regal blended scotch whisky': 1, 'saran wrap': 1, 'plastic wrap': 1, 'polly pocket': 1, 'girl scout cookies': 1, 'cream tartar': 1, 'great value original instant oatmeal': 1, 'drawing vase': 1, 'sticker': 1, 'chicken burgers': 1, 'frozen vegetables': 1, 'sports': 1, 'red chile sauce': 1, 'chile sauce': 1, 'cadbury egg': 1, 'vanilla pudding': 1, 'klondike bar': 1, 'klondike ice cream': 1, '5npj': 1, 'french style green beans': 1, 'tylenol pm': 1, 'garlic herb mini fillets': 1, 'grape raisin juice': 1, 'homer simpson': 1, 'baking mix for pork': 1, 'coconut milk shampoo': 1, 'race car': 1, 'gluten free crackers': 1, 'black flashlight': 1, 'v8': 1, 'model cars': 1, 'country cowboy': 1, '5 hearts': 1, 'whipped cream': 1, 'heavy whipping cream': 1, 'smart phone': 1, 'pearl harbor': 1, 'teeth': 1, 'slim fast chocolate peanut bars': 1, 'exercise machine': 1, 'choco taco': 1, 'mountain valley spring water': 1, 'spring water': 1, 'red hot potato chips': 1, 'chicken quesadillas': 1, 'syringe': 1, 'mikes hard lemonade': 1, 'lysol disinfectant spray': 1, 'buns': 1, 'pink white': 1, 'lysol sanitizing wipes': 1, 'at podcasts twitter wha': 1, 'sony remote control': 1, 'cat toy': 1, 'instructions': 1, 'tide bleach': 1, 'puffins': 1, 'plaque': 1, 'lemonade tea': 1, 'mexican rice': 1, 'soft flour cake': 1, '100 hong kong dollars': 1, '100': 1, 'sound 80s': 1, 'victorreader': 1, 'signature vanilla': 1, 'signature vanillas': 1, 'mushroom': 1, 'ramen': 1, 'early learning step by step': 1, 'nivea': 1, 'kitchen counter': 1, 'becks beer': 1, 'chicken tikka masala pilau rice': 1, 'blackberry phone': 1, 'corn meal': 1, 'numbers': 1, 'porcini mushroom risotto': 1, '15 jan 2013': 1, 'gingerbread cookie mix': 1, 'loaded potato sticks': 1, 'sun chips': 1, 'ernest tubb friends': 1, 'cup coffee': 1, 'telephone set': 1, 'porcelain telephone set': 1, '15': 1, 'microsoft corporation loading bar': 1, '1020mg': 1, 'parents guide to special education for children visual impairment': 1, 'antibiotic ointment': 1, 'kindle': 1, 'green wall': 1, 'conditioner lotion shampoo': 1, 'chocolate chip cookies': 1, 'dollar': 1, 'squirt can': 1, 'squirt soda': 1, 'fall giants': 1, 'record': 1, '04': 1, 'chicken pasta': 1, 'cant cook': 1, 'camel cigarettes': 1, 'windows logo': 1, 'hominy': 1, 'shoe horn': 1, 'custard': 1, 'toilet bowl cleaner': 1, 'toilet cleaner': 1, 'vanishing bees': 1, 'wild side': 1, 'corn starch': 1, 'eggplant garlic spread': 1, 'eggplant': 1, 'pursue not things that catch your eye but things that capture your heart': 1, '74.0': 1, 'jul 19 12': 1, 'patch': 1, 'bookends': 1, '0845 7 48 49 50': 1, 'chloraseptic': 1, 'chicken gravy mix': 1, 'gravy mix': 1, 'coffee press': 1, 'vermidon tablet': 1, 'pasta sides stroganoff': 1, 'duster': 1, 'harley davidson shirt': 1, 'almonds': 1, 'oven roasted almonds': 1, 'organic green tea': 1, 'organic green tea bags': 1, 'travel mug': 1, 'blank': 1, 'lanacane': 1, 'cd case': 1, 'deer': 1, 'beefaroni': 1, 'plug': 1, 'elbow': 1, 'womens wellness': 1, '108 68': 1, '108 over 68': 1, 'sirloin': 1, '9 1 2': 1, 'kabob': 1, 'can peas carrots': 1, 'lemon juice': 1, 'ice cream shoppe': 1, 'model motorcycle': 1, 'frozen spinach': 1, 'chile': 1, 'october 19': 1, '$5': 1, 'shutting down': 1, '111 over 87': 1, '111 87': 1, 'gibson': 1, 'georgia peach cookies': 1, 'sucker': 1, 'beer can': 1, 'holiday': 1, 'hamburger helper cheesy enchilada': 1, 'palmolive hygiene plus': 1, 'chocolate cheerios': 1, 'soymilk': 1, 'christmas decorations': 1, 'casserole': 1, 'baby bottle': 1, 'fairy': 1, 'iphone screen': 1, 'pretzel balls': 1, 'small pretzel balls': 1, 'fsyl3': 1, 'can soup': 1, 'laptop on desk': 1, 'science putty': 1, 'another attempt to stop illegal immigration': 1, 'claudia dain': 1, 'identity theft protection': 1, 'internship career center': 1, 'internship career center find your direction': 1, 'attorney retainer agreement': 1, '94': 1, 'parking pass': 1, '37.84': 1, 'log in': 1, 'prescription bottle': 1, 'detergent i pad houseclean brail w': 1, 'authentic thai cuisine': 1, 'smil smilja': 1, 'alarm system': 1, '12.79': 1, 'may cause drowsiness': 1, 'may cause drowsiness alcohol may intensify this effect': 1, 'can collard greens': 1, 'collard greens': 1, 'pickup truck': 1, 'minglyt': 1, '50.00': 1, 'rearview mirror': 1, 'troll': 1, 'street': 1, 'driving': 1, 'navy bean soup ham': 1, '876512': 1, 'cars': 1, 'preparing 16%': 1, 'shoulder': 1, '149.00': 1, 'diet coke bottle': 1, '6bfebr': 1, 'ipseuri new': 1})\n"
          ],
          "name": "stdout"
        }
      ]
    },
    {
      "cell_type": "code",
      "metadata": {
        "id": "B0b_BRCv9puF"
      },
      "source": [
        "import os\n",
        "import json\n",
        "def is_number(s):\n",
        "  if s.isnumeric() or s.isdigit():\n",
        "    return True\n",
        "  try:\n",
        "      float(s)\n",
        "      return True\n",
        "  except ValueError:\n",
        "      return False\n",
        "colors = ['absolute zero', 'acid green', 'aero', 'aero blue', 'african violet', 'air superiority blue', 'alabaster', 'alice blue', 'alizarin', 'alloy orange', 'almond', 'amaranth', 'amaranth deep purple', 'amaranth pink', 'amaranth purple', 'amaranth red', 'amazon', 'amber', 'Amber ', 'SAE/ECE', 'amethyst', 'android green', 'antique brass', 'antique bronze', 'antique fuchsia', 'antique ruby', 'antique white', 'Ao ', 'English', 'apple green', 'apricot', 'aqua', 'aquamarine', 'arctic lime', 'army green', 'artichoke', 'arylide yellow', 'ash grey', 'asparagus', 'atomic tangerine', 'auburn', 'aureolin', 'avocado', 'azure', 'Azure ', 'X11/web color', 'baby blue', 'baby blue eyes', 'baby pink', 'baby powder', 'baker-miller pink', 'banana mania', 'banana yellow', 'barbie pink', 'barn red', 'battleship grey', 'beau blue', 'beaver', 'beige', \"b'dazzled blue\", 'big dip o’ruby', 'big foot feet', 'bisque', 'bistre', 'bistre brown', 'bitter lemon', 'bittersweet', 'bittersweet shimmer', 'black', 'black bean', 'black coral', 'black leather jacket', 'black olive', 'black shadows', 'blanched almond', 'blast-off bronze', 'bleu de france', 'blizzard blue', 'blood red', 'blue', 'Blue ', 'Crayola', 'Blue ', 'Munsell', 'Blue ', 'NCS', 'Blue ', 'Pantone', 'Blue ', 'pigment', 'blue bell', 'blue-gray', 'blue-green', 'blue jeans', 'blue sapphire', 'blue-violet', 'blue yonder', 'blueberry', 'blush', 'bole', 'bone', 'booger buster', 'bottle green', 'brick red', 'bright green', 'bright lilac', 'bright maroon', 'bright navy blue', 'bright pink', 'bright turquoise', 'Bright yellow ', 'Crayola', 'brilliant rose', 'brink pink', 'british racing green', 'bronze', 'brown', 'Brown ', 'web', 'brown sugar', 'brunswick green', 'bud green', 'buff', 'burgundy', 'burlywood', 'burnished brown', 'burnt orange', 'burnt sienna', 'burnt umber', 'byzantine', 'byzantium', 'cadet', 'cadet blue', 'cadet grey', 'cadmium green', 'cadmium orange', 'cadmium red', 'cadmium yellow', 'café au lait', 'café noir', 'calypso', 'cambridge blue', 'camel', 'cameo pink', 'canary yellow', 'candy apple red', 'candy pink', 'caput mortuum', 'cardinal', 'caribbean green', 'carmine', 'carnation pink', 'carnelian', 'carolina blue', 'carrot orange', 'castleton green', 'catawba', 'cedar chest', 'celadon', 'celadon green', 'celeste', 'cerise', 'cerulean', 'cerulean blue', 'cerulean frost', 'Cerulean ', 'Crayola', 'champagne', 'champagne pink', 'charcoal', 'charleston green', 'charm pink', 'Chartreuse ', 'traditional', 'Chartreuse ', 'web', 'cherry blossom pink', 'chestnut', 'china pink', 'china rose', 'chinese red', 'chinese violet', 'Chocolate ', 'traditional', 'Chocolate ', 'web', 'cinereous', 'cinnamon satin', 'citrine', 'citron', 'claret', 'cobalt blue', 'cocoa brown', 'coconut', 'coffee', 'columbia blue', 'congo pink', 'cool grey', 'copper', 'copper penny', 'copper red', 'copper rose', 'coquelicot', 'coral', 'coral pink', 'cordovan', 'cornell red', 'Cornflower blue ', 'web', 'Cornflower blue ', 'Crayola', 'cornsilk', 'cosmic cobalt', 'cosmic latte', 'coyote brown', 'cotton candy', 'cream', 'crimson', 'Crimson ', 'UA', 'cultured', 'cyan', 'cyber grape', 'cyber yellow', 'cyclamen', 'dandelion', 'dark blue', 'dark blue-gray', 'dark brown', 'dark byzantium', 'dark cyan', 'dark electric blue', 'dark fuchsia', 'dark goldenrod', 'Dark gray ', 'X11', 'dark green', 'Dark green ', 'X11', 'dark jungle green', 'dark khaki', 'dark lava', 'dark liver', 'dark magenta', 'dark midnight blue', 'dark moss green', 'dark olive green', 'dark orange', 'dark orchid', 'dark pastel green', 'dark purple', 'dark raspberry', 'dark red', 'dark salmon', 'dark sea green', 'dark sienna', 'dark sky blue', 'dark slate blue', 'dark slate gray', 'dark spring green', 'dark tan', 'dark turquoise', 'dark vanilla', 'dark violet', 'dartmouth green', \"davy's grey\", 'deep cerise', 'deep champagne', 'deep chestnut', 'deep fuchsia', 'deep jungle green', 'deep lemon', 'deep mauve', 'deep pink', 'deep sky blue', 'deep space sparkle', 'deep taupe', 'denim', 'denim blue', 'desert', 'desert sand', 'diamond', 'dim gray', 'dingy dungeon', 'dirt', 'dodger blue', 'dogwood rose', 'duke blue', 'dutch white', 'earth yellow', 'ebony', 'ecru', 'eerie black', 'eggplant', 'eggshell', 'egyptian blue', 'electric blue', 'electric crimson', 'electric indigo', 'electric lime', 'electric purple', 'electric violet', 'emerald', 'eminence', 'english lavender', 'english red', 'english vermillion', 'english violet', 'eton blue', 'eucalyptus', 'fallow', 'falu red', 'fandango', 'fandango pink', 'fashion fuchsia', 'fawn', 'feldgrau', 'fern green', 'field drab', 'fiery rose', 'firebrick', 'fire engine red', 'fire opal', 'flame', 'flax', 'flirt', 'floral white', 'fluorescent blue', 'Forest green ', 'Crayola', 'Forest green ', 'traditional', 'Forest green ', 'web', 'french beige', 'french bistre', 'french blue', 'french fuchsia', 'french lilac', 'french lime', 'french mauve', 'french pink', 'french raspberry', 'french rose', 'french sky blue', 'french violet', 'frostbite', 'fuchsia', 'Fuchsia ', 'Crayola', 'fuchsia purple', 'fuchsia rose', 'fulvous', 'fuzzy wuzzy', 'gainsboro', 'gamboge', 'garnet', 'generic viridian', 'ghost white', 'glaucous', 'glossy grape', 'go green', 'gold', 'Gold ', 'metallic', 'Gold (web) ', 'Golden', 'Gold ', 'Crayola', 'gold fusion', 'golden brown', 'golden poppy', 'golden yellow', 'goldenrod', 'granite gray', 'granny smith apple', 'Gray ', 'web', 'Gray ', 'X11', 'green', 'Green ', 'Crayola', 'Green ', 'HTML/CSS color', 'Green ', 'Munsell', 'Green ', 'NCS', 'Green ', 'Pantone', 'Green ', 'pigment', 'Green ', 'RYB', 'green-blue', 'Green-blue ', 'Crayola', 'green-cyan', 'green lizard', 'green sheen', 'green-yellow', 'Green-yellow ', 'Crayola', 'grullo', 'gunmetal', 'han blue', 'han purple', 'hansa yellow', 'harlequin', 'harvest gold', 'heat wave', 'heliotrope', 'heliotrope gray', 'hollywood cerise', 'honeydew', 'honolulu blue', \"hooker's green\", 'hot fuchsia', 'hot magenta', 'hot pink', 'hunter green', 'iceberg', 'icterine', 'illuminating emerald', 'imperial red', 'inchworm', 'independence', 'india green', 'indian red', 'indian yellow', 'indigo', 'indigo dye', 'International orange ', 'aerospace', 'International orange ', 'engineering', 'International orange ', 'Golden Gate Bridge', 'iris', 'irresistible', 'isabelline', 'italian sky blue', 'ivory', 'jade', 'japanese carmine', 'japanese violet', 'jasmine', 'jazzberry jam', 'jet', 'jonquil', 'june bud', 'jungle green', 'kelly green', 'keppel', 'key lime', 'Khaki (web) ', 'Khaki', 'Khaki (X11) ', 'Light khaki', 'kobe', 'kobi', 'kobicha', 'kombu green', 'ksu purple', 'la salle green', 'languid lavender', 'lanzones', 'lapis lazuli', 'laser lemon', 'laurel green', 'lava', 'Lavender ', 'floral', 'Lavender ', 'web', 'lavender blue', 'lavender blush', 'lavender gray', 'lavender indigo', 'lavender magenta', 'lavender mist', 'lavender pink', 'lavender purple', 'lavender rose', 'lawn green', 'lemon', 'lemon chiffon', 'lemon curry', 'lemon glacier', 'lemon iced tea', 'lemon lime', 'lemon lime', 'lemon meringue', 'lemon yellow', 'Lemon yellow ', 'Crayola', 'lenurple', 'liberty', 'licorice', 'light apricot', 'light blue', 'light brown', 'light carmine pink', 'light chocolate cosmos', 'light cobalt blue', 'light coral', 'light cornflower blue', 'light crimson', 'light cyan', 'light deep pink', 'light french beige', 'light fuchsia pink', 'light gold', 'light goldenrod', 'light goldenrod yellow', 'light gray', 'light grayish magenta', 'light green', 'light hot pink', 'light khaki', 'light medium orchid', 'light moss green', 'light mustard', 'light orange', 'light orchid', 'light pastel purple', 'light periwinkle', 'light pink', 'light red', 'light red ochre', 'light salmon', 'light salmon pink', 'light sea green', 'light silver', 'light sky blue', 'light slate gray', 'light steel blue', 'light taupe', 'light thulian pink', 'light turquoise', 'light violet', 'light yellow', 'lilac', 'lilac luster', 'Lime ', 'color wheel', 'Lime (web) ', 'X11 green', 'lime green', 'limerick', 'lincoln green', 'linen', 'lion', 'liseran purple', 'little boy blue', 'little girl pink', 'liver', 'Liver ', 'dogs', 'Liver ', 'organ', 'liver chestnut', 'livid', 'lotion', 'lotion blue', 'lotion pink', 'lumber', 'lust', 'maastricht blue', 'macaroni and cheese', 'madder lake', 'magenta', 'Magenta ', 'Pantone', 'mahogany', 'maize', 'Maize ', 'Crayola', 'majorelle blue', 'malachite', 'manatee', 'mandarin', 'mango', 'mango green', 'mango tango', 'mantis', 'mardi gras', 'marigold', 'Maroon ', 'Crayola', 'Maroon ', 'HTML/CSS', 'Maroon ', 'X11', 'mauve', 'mauve taupe', 'mauvelous', 'maximum blue', 'maximum blue green', 'maximum blue purple', 'maximum green', 'maximum green yellow', 'maximum orange', 'maximum purple', 'maximum pink', 'maximum red', 'maximum red purple', 'maximum violet', 'maximum yellow', 'maximum yellow red', 'may green', 'maya blue', 'meat brown', 'medium aquamarine', 'medium blue', 'medium candy apple red', 'medium carmine', 'medium champagne', 'medium electric blue', 'medium green', 'medium jungle green', 'medium lavender magenta', 'medium orange', 'medium orchid', 'medium persian blue', 'medium pink', 'medium purple', 'medium red', 'medium red-violet', 'medium ruby', 'medium sea green', 'medium sky blue', 'medium slate blue', 'medium spring bud', 'medium spring green', 'medium taupe', 'medium turquoise', 'medium tuscan red', 'medium vermilion', 'medium violet', 'medium violet-red', 'medium yellow', 'mellow apricot', 'mellow yellow', 'melon', 'Melon ', 'Crayola', 'menthol', 'metallic blue', 'metallic bronze', 'metallic brown', 'metallic gold', 'metallic green', 'metallic orange', 'metallic pink', 'metallic red', 'metallic seaweed', 'metallic silver', 'metallic sunburst', 'metallic violet', 'metallic yellow', 'mexican pink', 'microsoft blue', 'microsoft edge blue', 'microsoft green', 'microsoft red', 'microsoft yellow', 'middle blue', 'middle blue green', 'middle blue purple', 'middle grey', 'middle green', 'middle green yellow', 'middle purple', 'middle red', 'middle red purple', 'middle yellow', 'middle yellow red', 'midnight', 'midnight blue', 'midnight blue', 'Midnight green ', 'eagle green', 'mikado yellow', 'milk', 'milk chocolate', 'mimi pink', 'mindaro', 'ming', 'minion yellow', 'mint', 'mint cream', 'mint green', 'misty moss', 'misty rose', 'moccasin', 'mocha', 'mode beige', 'moonstone', 'moonstone blue', 'mordant red 19', 'morning blue', 'moss green', 'mountain meadow', 'mountbatten pink', 'msu green', 'mud', 'mughal green', 'mulberry', 'Mulberry ', 'Crayola', \"mummy's tomb\", 'mustard', 'mustard brown', 'mustard green', 'mustard yellow', 'myrtle green', 'mystic', 'mystic maroon', 'mystic red', 'nadeshiko pink', 'napier green', 'naples yellow', 'navajo white', 'navy blue', 'Navy blue ', 'Crayola', 'navy purple', 'neon blue', 'neon brown', 'neon carrot', 'neon cyan', 'neon fuchsia', 'neon gold', 'neon gray', 'neon dark green', 'neon green', 'neon green', 'neon pink', 'neon purple', 'neon red', 'neon scarlet', 'neon silver', 'neon tangerine', 'neon yellow', 'new car', 'new york pink', 'nickel', 'nintendo red', 'non-photo blue', 'nyanza', 'ocean blue', 'ocean boat blue', 'ocean green', 'ochre', 'office green', 'ogre odor', 'old burgundy', 'old gold', 'old heliotrope', 'old lace', 'old lavender', 'old mauve', 'old moss green', 'old rose', 'old silver', 'olive', 'Olive drab ', '#3', 'olive drab #7', 'olive green', 'olivine', 'onyx', 'opal', 'opera mauve', 'orange', 'Orange ', 'color wheel', 'Orange ', 'Crayola', 'Orange ', 'Pantone', 'Orange ', 'RYB', 'Orange ', 'web', 'orange iced tea', 'orange peel', 'orange-red', 'Orange-red ', 'Crayola', 'orange soda', 'orange soda', 'orange-yellow', 'Orange-yellow ', 'Crayola', 'orchid', 'orchid pink', 'Orchid ', 'Crayola', 'orioles orange', 'otter brown', 'outer space', 'Outer space ', 'Crayola', 'outrageous orange', 'oxblood', 'oxford blue', 'oxley', 'ou crimson red', 'pacific blue', 'pakistan green', 'palatinate blue', 'palatinate purple', 'pale aqua', 'pale blue', 'pale brown', 'pale carmine', 'pale cerulean', 'pale chestnut', 'pale copper', 'pale cornflower blue', 'pale cyan', 'pale gold', 'pale goldenrod', 'pale green', 'pale lavender', 'pale magenta', 'pale magenta-pink', 'pale pink', 'pale plum', 'pale red-violet', 'pale robin egg blue', 'pale silver', 'pale spring bud', 'pale taupe', 'pale turquoise', 'pale violet', 'pale violet-red', 'palm leaf', 'pansy purple', 'paolo veronese green', 'papaya whip', 'paradise pink', 'parchment', 'paris green', 'parrot pink', 'pastel blue', 'pastel brown', 'pastel gray', 'pastel green', 'pastel magenta', 'pastel orange', 'pastel pink', 'pastel purple', 'pastel red', 'pastel violet', 'pastel yellow', 'patriarch', \"payne's grey\", 'peach', 'Peach ', 'Crayola', 'peach-orange', 'peach puff', 'peach-yellow', 'pear', 'pearl', 'pearl aqua', 'pearly purple', 'peridot', 'periwinkle', 'Periwinkle ', 'Crayola', 'permanent geranium lake', 'persian blue', 'persian green', 'persian indigo', 'persian orange', 'persian pink', 'persian plum', 'persian red', 'persian rose', 'persimmon', 'peru', 'petal', 'pewter blue', 'philippine blue', 'philippine bronze', 'philippine brown', 'philippine gold', 'philippine golden yellow', 'philippine gray', 'philippine green', 'philippine indigo', 'philippine orange', 'philippine pink', 'philippine red', 'philippine silver', 'philippine sky blue', 'philippine violet', 'philippine yellow', 'phlox', 'phthalo blue', 'phthalo green', 'picton blue', 'pictorial carmine', 'piggy pink', 'pine green', 'pine tree', 'pineapple', 'pink', 'Pink ', 'Pantone', 'Pink Diamond ', 'Ace Hardware Color', 'Pink Diamond ', 'Independent Retailers Colors', 'pink flamingo', 'pink lace', 'pink lavender', 'pink-orange', 'pink pearl', 'pink raspberry', 'pink sherbet', 'pistachio', 'pixie powder', 'platinum', 'plum', 'Plum ', 'web', 'plump purple', 'poison purple', 'police blue', 'polished pine', 'pomp and power', 'popstar', 'portland orange', 'powder blue', 'prilly blue', 'prilly pink', 'prilly red', 'princess perfume', 'princeton orange', 'prune', 'prussian blue', 'psychedelic purple', 'puce', 'puce red', 'Pullman Brown ', 'UPS Brown', 'pullman green', 'pumpkin', 'Purple ', 'HTML', 'Purple ', 'Munsell', 'Purple ', 'X11', 'purple heart', 'purple mountain majesty', 'purple navy', 'purple pizzazz', 'purple plum', 'purple taupe', 'purpureus', 'quartz', 'queen blue', 'queen pink', 'quick silver', 'quinacridone magenta', 'quincy', 'rackley', 'radical red', 'raisin black', 'rajah', 'raspberry', 'raspberry glace', 'raspberry pink', 'raspberry rose', 'raw sienna', 'raw umber', 'razzle dazzle rose', 'razzmatazz', 'razzmic berry', 'rebecca purple', 'red', 'Red ', 'Crayola', 'Red ', 'Munsell', 'Red ', 'NCS', 'Red ', 'Pantone', 'Red ', 'pigment', 'Red ', 'RYB', 'red-brown', 'red cola', 'red devil', 'red-orange', 'Red-orange ', 'Crayola', 'Red-orange ', 'Color wheel', 'red-purple', 'red rum', 'red salsa', 'red strawberry', 'red-violet', 'Red-violet ', 'Crayola', 'Red-violet ', 'Color wheel', 'redwood', 'registration black', 'resolution blue', 'rhythm', 'rich brilliant lavender', 'rich carmine', 'rich electric blue', 'rich lavender', 'rich lilac', 'rich maroon', 'rifle green', 'ripe mango', 'roast coffee', 'robin egg blue', 'rocket metallic', 'roman silver', 'root beer', 'rose', 'rose bonbon', 'rose dust', 'rose ebony', 'rose garnet', 'rose gold', 'rose madder', 'rose pink', 'rose quartz', 'rose quartz pink', 'rose red', 'rose taupe', 'rose vale', 'rosewood', 'rosy brown', 'royal azure', 'royal blue', 'royal blue', 'royal brown', 'royal fuchsia', 'royal green', 'royal orange', 'royal pink', 'royal red', 'royal red', 'royal purple', 'royal yellow', 'ruber', 'rubine red', 'ruby', 'ruby red', 'rufous', 'rum', 'russet', 'russian green', 'russian violet', 'rust', 'rusty red', 'sacramento state green', 'saddle brown', 'safety orange', 'Safety orange ', 'blaze orange', 'safety yellow', 'saffron', 'sage', \"st. patrick's blue\", 'salem', 'salmon', 'salmon rose', 'salmon pink', 'samsung blue', 'sand', 'sand dune', 'sandstorm', 'sandy brown', 'sandy tan', 'sandy taupe', 'sap green', 'sapphire', 'sapphire blue', 'sasquatch socks', 'satin sheen gold', 'scarlet', 'Scarlet ', 'Crayola', 'schauss pink', 'school bus yellow', \"screamin' green\", 'sea blue', 'sea foam green', 'sea green', 'Sea green ', 'Crayola', 'sea serpent', 'seal brown', 'seashell', 'selective yellow', 'sepia', 'shadow', 'shadow blue', 'shampoo', 'shamrock green', 'shandy', 'sheen green', 'shimmering blush', 'shiny shamrock', 'shocking pink', 'Shocking pink ', 'Crayola', 'sienna', 'silver', 'Silver ', 'Crayola', 'Silver ', 'Metallic', 'silver chalice', 'silver foil', 'silver lake blue', 'silver pink', 'silver sand', 'sinopia', 'sizzling red', 'sizzling sunrise', 'skobeloff', 'sky blue', 'Sky blue ', 'Crayola', 'sky magenta', 'slate blue', 'slate gray', 'slimy green', 'Smalt ', 'Dark powder blue', 'smashed pumpkin', 'smitten', 'smoke', 'smokey topaz', 'smoky black', 'snow', 'soap', 'solid pink', 'sonic silver', 'spartan crimson', 'space cadet', 'spanish bistre', 'spanish blue', 'spanish carmine', 'spanish crimson', 'spanish gray', 'spanish green', 'spanish orange', 'spanish pink', 'spanish purple', 'spanish red', 'spanish sky blue', 'spanish violet', 'spanish viridian', 'spanish yellow', 'spicy mix', 'spiro disco ball', 'spring bud', 'spring frost', 'spring green', 'Spring green ', 'Crayola', 'star command blue', 'steel blue', 'steel pink', 'steel teal', 'stil de grain yellow', 'straw', 'strawberry', 'stop red', 'strawberry iced tea', 'strawberry red', 'sugar plum', 'sunburnt cyclops', 'sunglow', 'sunny', 'sunray', 'sunset', 'sunset orange', 'super pink', 'sweet brown', 'taffy', 'tan', 'Tan ', 'Crayola', 'tangelo', 'tangerine', 'tangerine yellow', 'tango pink', 'tart orange', 'taupe', 'taupe gray', 'tea green', 'tea rose', 'tea rose', 'teal', 'teal blue', 'teal deer', 'teal green', 'telemagenta', 'temptress', 'Tenné ', 'tawny', 'terra cotta', 'thistle', 'Thistle ', 'Crayola', 'thulian pink', 'tickle me pink', 'tiffany blue', \"tiger's eye\", 'timberwolf', 'titanium', 'titanium yellow', 'tomato', 'tomato sauce', 'toolbox', 'tooth', 'topaz', 'tractor red', 'trolley grey', 'tropical rain forest', 'tropical violet', 'true blue', 'tufts blue', 'tulip', 'tumbleweed', 'turkish rose', 'turquoise', 'turquoise blue', 'turquoise green', 'turquoise surf', 'turtle green', 'tuscan', 'tuscan brown', 'tuscan red', 'tuscan tan', 'tuscany', 'twilight lavender', 'twitter blue', 'tyrian purple', 'ube', 'ultramarine', 'ultramarine blue', 'Ultramarine blue ', \"Caran d'Ache\", 'ultra pink', 'ultra red', 'umber', 'unbleached silk', 'united nations blue', 'unmellow yellow', 'up maroon', 'upsdell red', 'urobilin', 'vampire black', 'van dyke brown', 'vanilla', 'vanilla ice', 'vegas gold', 'venetian red', 'verdigris', 'vermilion', 'vermilion', 'veronica', 'verse green', 'very light azure', 'very light blue', 'very light malachite green', 'very light tangelo', 'very pale orange', 'very pale yellow', 'vine green', 'violet', 'Violet ', \"Caran d'Ache\", 'Violet ', 'color wheel', 'Violet ', 'crayola', 'Violet ', 'RYB', 'Violet ', 'web', 'violet-blue', 'Violet-blue ', 'Crayola', 'violet-red', 'violin brown', 'viridian', 'viridian green', 'vista blue', 'vivid amber', 'vivid auburn', 'vivid burgundy', 'vivid cerise', 'vivid cerulean', 'vivid crimson', 'vivid gamboge', 'vivid lime green', 'vivid malachite', 'vivid mulberry', 'vivid orange', 'vivid orange peel', 'vivid orchid', 'vivid raspberry', 'vivid red', 'vivid red-tangelo', 'vivid sky blue', 'vivid tangelo', 'vivid tangerine', 'vivid vermilion', 'vivid violet', 'vivid yellow', 'water', 'watermelon', 'watermelon red', 'watermelon yellow', 'waterspout', 'weldon blue', 'wenge', 'wheat', 'white', 'white chocolate', 'white coffee', 'white smoke', 'wild orchid', 'wild strawberry', 'wild watermelon', 'willpower orange', 'windsor tan', 'wine', 'wine dregs', 'wine red', 'winter sky', 'winter wizard', 'wintergreen dream', 'wisteria', 'wood brown', 'xanadu', 'yellow', 'Yellow ', 'Crayola', 'Yellow ', 'Munsell', 'Yellow ', 'NCS', 'Yellow ', 'Pantone', 'Yellow ', 'process', 'Yellow ', 'RYB', 'yellow-green', 'Yellow-green ', 'Crayola', 'yellow orange', 'Yellow Orange ', 'Color Wheel', 'yellow rose', 'yellow sunshine', 'yinmn blue', 'zaffre', 'zebra white', 'zinnwaldite', 'zomp']\n"
      ],
      "execution_count": 3,
      "outputs": []
    },
    {
      "cell_type": "code",
      "metadata": {
        "id": "Vjls7vpsPv24",
        "colab": {
          "base_uri": "https://localhost:8080/",
          "height": 232
        },
        "outputId": "eef7c0cb-a8df-4286-9d70-8903eb1a7b58"
      },
      "source": [
        "# !wget https://nlp.cs.unc.edu/data/lxmert_data/vizwiz/vizwiz/valid.json\n",
        "import json\n",
        "\n",
        "pred_result_path = '/content/drive/MyDrive/lxmert/snap/vqa/vizwiz_lstmcnn_lxmert_fuse_before'\n",
        "\n",
        "with open(os.path.join(pred_result_path, 'valid_predict.json')) as f:\n",
        "  predict_result = json.load(f)\n",
        "\n",
        "with open('data/vqa/valid.json') as f1:\n",
        "  val_info = json.load(f1)\n",
        "\n",
        "import collections\n",
        "\n",
        "result = {}\n",
        "for qa in val_info:\n",
        "  result[qa[\"question_id\"]] = qa\n",
        "val_info = result\n",
        "\n",
        "binary_qa = [] #3answers\n",
        "nonanswerable_qa = [] #3answers\n",
        "number_qa = []#3answers\n",
        "color_qa = []#3answers\n",
        "all_qa = []\n",
        "\n",
        "for qa in predict_result:\n",
        "  info = val_info.get(qa[\"question_id\"])\n",
        "  info[\"answer\"] = qa[\"answer\"]\n",
        "  all_qa.append(info)\n",
        "  labels = info[\"label\"].keys()\n",
        "  if (\"yes\" in labels and info[\"label\"][\"yes\"] >= 0.9) or (\"no\" in labels and info[\"label\"][\"no\"] >= 0.9):\n",
        "    binary_qa.append(info)\n",
        "  if (\"unanswerable\" in labels and info[\"label\"][\"unanswerable\"] >= 0.9) or (\"unsuitable\" in labels and info[\"label\"][\"unsuitable\"] >= 0.9) or (\"unsuitable image\" in labels and info[\"label\"][\"unsuitable image\"] >= 0.9):\n",
        "    nonanswerable_qa.append(info)\n",
        "  for label in labels:\n",
        "    if is_number(label) and info[\"label\"][label] >= 0.9:\n",
        "      number_qa.append(info)\n",
        "      break\n",
        "  for label in labels:\n",
        "    if label in colors and info[\"label\"][label] >= 0.9:\n",
        "      color_qa.append(info)\n",
        "      break"
      ],
      "execution_count": 21,
      "outputs": [
        {
          "output_type": "error",
          "ename": "FileNotFoundError",
          "evalue": "ignored",
          "traceback": [
            "\u001b[0;31m---------------------------------------------------------------------------\u001b[0m",
            "\u001b[0;31mFileNotFoundError\u001b[0m                         Traceback (most recent call last)",
            "\u001b[0;32m<ipython-input-21-5034c58c204a>\u001b[0m in \u001b[0;36m<module>\u001b[0;34m()\u001b[0m\n\u001b[1;32m      4\u001b[0m \u001b[0mpred_result_path\u001b[0m \u001b[0;34m=\u001b[0m \u001b[0;34m'/content/drive/MyDrive/lxmert/snap/vqa/vizwiz_lstmcnn_lxmert_fuse_before'\u001b[0m\u001b[0;34m\u001b[0m\u001b[0;34m\u001b[0m\u001b[0m\n\u001b[1;32m      5\u001b[0m \u001b[0;34m\u001b[0m\u001b[0m\n\u001b[0;32m----> 6\u001b[0;31m \u001b[0;32mwith\u001b[0m \u001b[0mopen\u001b[0m\u001b[0;34m(\u001b[0m\u001b[0mos\u001b[0m\u001b[0;34m.\u001b[0m\u001b[0mpath\u001b[0m\u001b[0;34m.\u001b[0m\u001b[0mjoin\u001b[0m\u001b[0;34m(\u001b[0m\u001b[0mpred_result_path\u001b[0m\u001b[0;34m,\u001b[0m \u001b[0;34m'valid_predict.json'\u001b[0m\u001b[0;34m)\u001b[0m\u001b[0;34m)\u001b[0m \u001b[0;32mas\u001b[0m \u001b[0mf\u001b[0m\u001b[0;34m:\u001b[0m\u001b[0;34m\u001b[0m\u001b[0;34m\u001b[0m\u001b[0m\n\u001b[0m\u001b[1;32m      7\u001b[0m   \u001b[0mpredict_result\u001b[0m \u001b[0;34m=\u001b[0m \u001b[0mjson\u001b[0m\u001b[0;34m.\u001b[0m\u001b[0mload\u001b[0m\u001b[0;34m(\u001b[0m\u001b[0mf\u001b[0m\u001b[0;34m)\u001b[0m\u001b[0;34m\u001b[0m\u001b[0;34m\u001b[0m\u001b[0m\n\u001b[1;32m      8\u001b[0m \u001b[0;34m\u001b[0m\u001b[0m\n",
            "\u001b[0;31mFileNotFoundError\u001b[0m: [Errno 2] No such file or directory: '/content/drive/MyDrive/lxmert/snap/vqa/vizwiz_lstmcnn_lxmert_fuse_before/valid_predict.json'"
          ]
        }
      ]
    },
    {
      "cell_type": "code",
      "metadata": {
        "id": "104KlwUnQXrW"
      },
      "source": [
        "binary_qa_pred_wrong = []\n",
        "for qa in binary_qa:\n",
        "  popular_labels = []\n",
        "  max_score = 0\n",
        "  for label,score in qa[\"label\"].items():\n",
        "    if score > max_score:\n",
        "      popular_labels = [label]\n",
        "      max_score = score\n",
        "    elif score == max_score:\n",
        "      popular_labels.append(label)\n",
        "\n",
        "  if qa[\"answer\"] not in popular_labels:\n",
        "    binary_qa_pred_wrong.append(qa)\n",
        "\n",
        "color_qa_pred_wrong = []\n",
        "for qa in color_qa:\n",
        "  popular_labels = []\n",
        "  max_score = 0\n",
        "  for label,score in qa[\"label\"].items():\n",
        "    if score > max_score:\n",
        "      popular_labels = [label]\n",
        "      max_score = score\n",
        "    elif score == max_score:\n",
        "      popular_labels.append(label)\n",
        "\n",
        "  if qa[\"answer\"] not in popular_labels:\n",
        "    color_qa_pred_wrong.append(qa)\n",
        "\n",
        "number_qa_pred_wrong = []\n",
        "for qa in number_qa:\n",
        "  popular_labels = []\n",
        "  max_score = 0\n",
        "  for label,score in qa[\"label\"].items():\n",
        "    if score > max_score:\n",
        "      popular_labels = [label]\n",
        "      max_score = score\n",
        "    elif score == max_score:\n",
        "      popular_labels.append(label)\n",
        "\n",
        "  if qa[\"answer\"] not in popular_labels:\n",
        "    number_qa_pred_wrong.append(qa)\n",
        "\n",
        "nonanswerable_qa_pred_wrong = []\n",
        "for qa in nonanswerable_qa:\n",
        "  popular_labels = []\n",
        "  max_score = 0\n",
        "  for label,score in qa[\"label\"].items():\n",
        "    if score > max_score:\n",
        "      popular_labels = [label]\n",
        "      max_score = score\n",
        "    elif score == max_score:\n",
        "      popular_labels.append(label)\n",
        "\n",
        "  if qa[\"answer\"] not in popular_labels:\n",
        "    nonanswerable_qa_pred_wrong.append(qa)\n",
        "\n",
        "\n",
        "all_qa_pred_wrong = []\n",
        "for qa in all_qa:\n",
        "  popular_labels = []\n",
        "  max_score = 0\n",
        "  for label,score in qa[\"label\"].items():\n",
        "    if score > max_score:\n",
        "      popular_labels = [label]\n",
        "      max_score = score\n",
        "    elif score == max_score:\n",
        "      popular_labels.append(label)\n",
        "\n",
        "  if qa[\"answer\"] not in popular_labels:\n",
        "    all_qa_pred_wrong.append(qa)\n",
        "\n",
        "\n",
        "# with open('snap/vqa/vizwiz_all_results/binary_qa_pred_wrong.json', 'w') as outfile:\n",
        "#     json.dump(binary_qa_pred_wrong, outfile) \n",
        "# with open('snap/vqa/vizwiz_all_results/binary_qa_pred.json', 'w') as outfile:\n",
        "#     json.dump(binary_qa, outfile) \n",
        "# with open('snap/vqa/vizwiz_all_results/color_qa_pred_wrong.json', 'w') as outfile:\n",
        "#     json.dump(color_qa_pred_wrong, outfile) \n",
        "# with open('snap/vqa/vizwiz_all_results/color_qa_pred.json', 'w') as outfile:\n",
        "#     json.dump(color_qa, outfile) \n",
        "# with open('snap/vqa/vizwiz_all_results/number_qa_pred_wrong.json', 'w') as outfile:\n",
        "#     json.dump(number_qa_pred_wrong, outfile) \n",
        "# with open('snap/vqa/vizwiz_all_results/number_qa_pred.json', 'w') as outfile:\n",
        "#     json.dump(number_qa, outfile) \n",
        "# with open('snap/vqa/vizwiz_all_results/nonanswerable_qa_pred_wrong.json', 'w') as outfile:\n",
        "#     json.dump(nonanswerable_qa_pred_wrong, outfile) \n",
        "# with open('snap/vqa/vizwiz_all_results/nonanswerable_qa_pred.json', 'w') as outfile:\n",
        "#     json.dump(nonanswerable_qa, outfile) \n",
        "# with open('snap/vqa/vizwiz_all_results/all_qa_pred_wrong.json', 'w') as outfile:\n",
        "#     json.dump(all_qa_pred_wrong, outfile) \n",
        "# with open('snap/vqa/vizwiz_all_results/all_qa_pred.json', 'w') as outfile:\n",
        "#     json.dump(all_qa, outfile) "
      ],
      "execution_count": 18,
      "outputs": []
    },
    {
      "cell_type": "code",
      "metadata": {
        "colab": {
          "base_uri": "https://localhost:8080/"
        },
        "id": "JnyeApcH3ns4",
        "outputId": "1db6dd49-be5d-41e0-d581-2559fd86d4ba"
      },
      "source": [
        "print(\"all prediction cnt: \" + str(len(all_qa)))\n",
        "print(\"all binary qa cnt: \" + str(len(binary_qa)))\n",
        "print(\"all nonanswerable qa cnt: \" + str(len(nonanswerable_qa)))\n",
        "print(\"all number qa cnt: \" + str(len(number_qa)))\n",
        "print(\"all color qa cnt: \" + str(len(color_qa)))\n",
        "\n",
        "all_qa_pred_result=all_qa\n",
        "binary_qa_pred_result = binary_qa\n",
        "nonanswerable_qa_pred_result = nonanswerable_qa\n",
        "number_qa_pred_result = number_qa\n",
        "color_qa_pred_result = color_qa"
      ],
      "execution_count": 19,
      "outputs": [
        {
          "output_type": "stream",
          "text": [
            "all prediction cnt: 4317\n",
            "all binary qa cnt: 274\n",
            "all nonanswerable qa cnt: 1753\n",
            "all number qa cnt: 71\n",
            "all color qa cnt: 325\n"
          ],
          "name": "stdout"
        }
      ]
    },
    {
      "cell_type": "code",
      "metadata": {
        "colab": {
          "base_uri": "https://localhost:8080/"
        },
        "id": "QCOp7T8fJ_07",
        "outputId": "72dfa2ad-5e30-401a-b577-535e824e1c4d"
      },
      "source": [
        "#accuracy recalculate\n",
        "\n",
        "\n",
        "#binary\n",
        "total_score = 0\n",
        "for qa in binary_qa_pred_result:\n",
        "  if qa[\"answer\"] in qa[\"label\"].keys():\n",
        "    score = qa[\"label\"][qa[\"answer\"]]\n",
        "    if score == 0.3:\n",
        "      total_score += 1.0/3\n",
        "    elif score == 0.6:\n",
        "      total_score += 2.0/3\n",
        "    elif score >= 0.9:\n",
        "      total_score += 1.0\n",
        "print(\"acc for binary is \" + str(round(total_score/len(binary_qa_pred_result) * 100,2)))\n",
        "\n",
        "#number\n",
        "total_score = 0\n",
        "for qa in number_qa_pred_result:\n",
        "  if qa[\"answer\"] in qa[\"label\"].keys():\n",
        "    score = qa[\"label\"][qa[\"answer\"]]\n",
        "    if score == 0.3:\n",
        "      total_score += 1.0/3\n",
        "    elif score == 0.6:\n",
        "      total_score += 2.0/3\n",
        "    elif score >= 0.9:\n",
        "      total_score += 1.0\n",
        "print(\"acc for number is \" + str(round(total_score/len(number_qa_pred_result) * 100,2)))\n",
        "\n",
        "#nonanswerable\n",
        "total_score = 0\n",
        "for qa in nonanswerable_qa_pred_result:\n",
        "  if qa[\"answer\"] in qa[\"label\"].keys():\n",
        "    score = qa[\"label\"][qa[\"answer\"]]\n",
        "    if score == 0.3:\n",
        "      total_score += 1.0/3\n",
        "    elif score == 0.6:\n",
        "      total_score += 2.0/3\n",
        "    elif score >= 0.9:\n",
        "      total_score += 1.0\n",
        "print(\"acc for nonanswerable is \" + str(round(total_score/len(nonanswerable_qa_pred_result) * 100,2)))\n",
        "\n",
        "\n",
        "\n",
        "#color\n",
        "total_score = 0\n",
        "for qa in color_qa_pred_result:\n",
        "  if qa[\"answer\"] in qa[\"label\"].keys():\n",
        "    score = qa[\"label\"][qa[\"answer\"]]\n",
        "    if score == 0.3:\n",
        "      total_score += 1.0/3\n",
        "    elif score == 0.6:\n",
        "      total_score += 2.0/3\n",
        "    elif score >= 0.9:\n",
        "      total_score += 1.0\n",
        "print(\"acc for color is \" + str(round(total_score/len(color_qa_pred_result) * 100,2)))\n",
        "    \n",
        "total_score = 0\n",
        "for qa in all_qa_pred_result:\n",
        "  if qa[\"answer\"] in qa[\"label\"].keys():\n",
        "    score = qa[\"label\"][qa[\"answer\"]]\n",
        "    if score == 0.3:\n",
        "      total_score += 1.0/3\n",
        "    elif score == 0.6:\n",
        "      total_score += 2.0/3\n",
        "    elif score >= 0.9:\n",
        "      total_score += 1.0\n",
        "print(\"acc for all is \" + str(round(total_score/len(all_qa_pred_result) * 100,2)))"
      ],
      "execution_count": 20,
      "outputs": [
        {
          "output_type": "stream",
          "text": [
            "acc for binary is 74.09\n",
            "acc for number is 33.33\n",
            "acc for nonanswerable is 71.95\n",
            "acc for color is 66.05\n",
            "acc for all is 50.08\n"
          ],
          "name": "stdout"
        }
      ]
    },
    {
      "cell_type": "code",
      "metadata": {
        "colab": {
          "base_uri": "https://localhost:8080/"
        },
        "id": "KjEXYqkFTB4m",
        "outputId": "63160f20-b66e-4b44-d97f-0f1341466057"
      },
      "source": [
        "#edit distance\n",
        "!pip install python-Levenshtein\n",
        "from Levenshtein import distance\n",
        "\n",
        "total_dist = 0\n",
        "for qa in all_qa_pred_result:\n",
        "  answer = qa[\"answer\"]\n",
        "  three = []\n",
        "  six = []\n",
        "  nine = []\n",
        "  ones = []\n",
        "  for label,score in qa[\"label\"].items():\n",
        "    dist = distance(answer,label)\n",
        "    if score == 0.3:\n",
        "      three.append(dist)\n",
        "    elif score == 0.6:\n",
        "      six.append(dist)\n",
        "    elif score == 0.9:\n",
        "      nine.append(dist)\n",
        "    else:\n",
        "      ones.append(dist)\n",
        "  dist = sum(three) + sum(six)*2 + sum(nine)*3 +( (10-(len(three) + len(six) + len(nine)))/len(ones)*sum(ones) if len(ones) > 0 else 0)\n",
        "  total_dist += (dist/10)\n",
        "print(\"ave edit dist for all : \" + str(total_dist/len(all_qa_pred_result)))\n",
        "\n",
        "#binary\n",
        "total_dist = 0\n",
        "for qa in binary_qa_pred_result:\n",
        "  answer = qa[\"answer\"]\n",
        "  three = []\n",
        "  six = []\n",
        "  nine = []\n",
        "  ones = []\n",
        "  for label,score in qa[\"label\"].items():\n",
        "    dist = distance(answer,label)\n",
        "    if score == 0.3:\n",
        "      three.append(dist)\n",
        "    elif score == 0.6:\n",
        "      six.append(dist)\n",
        "    elif score == 0.9:\n",
        "      nine.append(dist)\n",
        "    else:\n",
        "      ones.append(dist)\n",
        "  dist = sum(three) + sum(six)*2 + sum(nine)*3 +( (10-(len(three) + len(six) + len(nine)))/len(ones)*sum(ones) if len(ones) > 0 else 0)\n",
        "  total_dist += (dist/10)\n",
        "\n",
        "print(\"ave edit dist for binary : \" + str(total_dist/len(binary_qa_pred_result)))\n",
        "\n",
        "#unanswerable\n",
        "total_dist = 0\n",
        "for qa in nonanswerable_qa_pred_result:\n",
        "  answer = qa[\"answer\"]\n",
        "  three = []\n",
        "  six = []\n",
        "  nine = []\n",
        "  ones = []\n",
        "  for label,score in qa[\"label\"].items():\n",
        "    dist = distance(answer,label)\n",
        "    if score == 0.3:\n",
        "      three.append(dist)\n",
        "    elif score == 0.6:\n",
        "      six.append(dist)\n",
        "    elif score == 0.9:\n",
        "      nine.append(dist)\n",
        "    else:\n",
        "      ones.append(dist)\n",
        "  dist = sum(three) + sum(six)*2 + sum(nine)*3 +( (10-(len(three) + len(six) + len(nine)))/len(ones)*sum(ones) if len(ones) > 0 else 0)\n",
        "  total_dist += (dist/10)\n",
        "print(\"ave edit dist for nonanswerable : \" + str(total_dist/len(nonanswerable_qa_pred_result)))\n",
        "\n",
        "#number\n",
        "total_dist = 0\n",
        "for qa in number_qa_pred_result:\n",
        "  answer = qa[\"answer\"]\n",
        "  three = []\n",
        "  six = []\n",
        "  nine = []\n",
        "  ones = []\n",
        "  for label,score in qa[\"label\"].items():\n",
        "    dist = distance(answer,label)\n",
        "    if score == 0.3:\n",
        "      three.append(dist)\n",
        "    elif score == 0.6:\n",
        "      six.append(dist)\n",
        "    elif score == 0.9:\n",
        "      nine.append(dist)\n",
        "    else:\n",
        "      ones.append(dist)\n",
        "  dist = sum(three) + sum(six)*2 + sum(nine)*3 +( (10-(len(three) + len(six) + len(nine)))/len(ones)*sum(ones) if len(ones) > 0 else 0)\n",
        "  total_dist += (dist/10)\n",
        "\n",
        "print(\"ave edit dist for number : \" + str(total_dist/len(number_qa_pred_result)))\n",
        "\n",
        "#color\n",
        "total_dist = 0\n",
        "for qa in color_qa_pred_result:\n",
        "  answer = qa[\"answer\"]\n",
        "  three = []\n",
        "  six = []\n",
        "  nine = []\n",
        "  ones = []\n",
        "  for label,score in qa[\"label\"].items():\n",
        "    dist = distance(answer,label)\n",
        "    if score == 0.3:\n",
        "      three.append(dist)\n",
        "    elif score == 0.6:\n",
        "      six.append(dist)\n",
        "    elif score == 0.9:\n",
        "      nine.append(dist)\n",
        "    else:\n",
        "      ones.append(dist)\n",
        "  dist = sum(three) + sum(six)*2 + sum(nine)*3 +( (10-(len(three) + len(six) + len(nine)))/len(ones)*sum(ones) if len(ones) > 0 else 0)\n",
        "  total_dist += (dist/10)\n",
        "\n",
        "print(\"ave edit dist for color : \" + str(total_dist/len(color_qa_pred_result)))"
      ],
      "execution_count": null,
      "outputs": [
        {
          "output_type": "stream",
          "text": [
            "Collecting python-Levenshtein\n",
            "\u001b[?25l  Downloading https://files.pythonhosted.org/packages/2a/dc/97f2b63ef0fa1fd78dcb7195aca577804f6b2b51e712516cc0e902a9a201/python-Levenshtein-0.12.2.tar.gz (50kB)\n",
            "\r\u001b[K     |██████▌                         | 10kB 10.8MB/s eta 0:00:01\r\u001b[K     |█████████████                   | 20kB 13.0MB/s eta 0:00:01\r\u001b[K     |███████████████████▌            | 30kB 9.3MB/s eta 0:00:01\r\u001b[K     |██████████████████████████      | 40kB 8.6MB/s eta 0:00:01\r\u001b[K     |████████████████████████████████| 51kB 2.8MB/s \n",
            "\u001b[?25hRequirement already satisfied: setuptools in /usr/local/lib/python3.7/dist-packages (from python-Levenshtein) (54.2.0)\n",
            "Building wheels for collected packages: python-Levenshtein\n",
            "  Building wheel for python-Levenshtein (setup.py) ... \u001b[?25l\u001b[?25hdone\n",
            "  Created wheel for python-Levenshtein: filename=python_Levenshtein-0.12.2-cp37-cp37m-linux_x86_64.whl size=149796 sha256=ff7382da1b8764a2a7f32c2985a5ff0aec3adbfb0e054ba1056aa9abb6be31b4\n",
            "  Stored in directory: /root/.cache/pip/wheels/b3/26/73/4b48503bac73f01cf18e52cd250947049a7f339e940c5df8fc\n",
            "Successfully built python-Levenshtein\n",
            "Installing collected packages: python-Levenshtein\n",
            "Successfully installed python-Levenshtein-0.12.2\n",
            "ave edit dist for all : 8.779522816770879\n",
            "ave edit dist for binary : 6.0647810218978115\n",
            "ave edit dist for nonanswerable : 6.461990950226246\n",
            "ave edit dist for number : 7.014084507042257\n",
            "ave edit dist for color : 4.966307692307689\n"
          ],
          "name": "stdout"
        }
      ]
    },
    {
      "cell_type": "code",
      "metadata": {
        "colab": {
          "base_uri": "https://localhost:8080/",
          "height": 451
        },
        "id": "BEbMsal5Ntp-",
        "outputId": "b1584d67-8c5d-4224-9ca2-b302752d5379"
      },
      "source": [
        "#details for binary qa\n",
        "binary_qa_wrong_cnt = len(binary_qa_pred_wrong)\n",
        "print(\"total number of binary qa predicted wrong is : \" + str(binary_qa_wrong_cnt))\n",
        "\n",
        "\n",
        "#wrong answer vote distribution\n",
        "d = {}\n",
        "cnt = []\n",
        "for qa in binary_qa_pred_wrong:\n",
        "  if qa[\"answer\"] in qa[\"label\"].keys():\n",
        "    score = qa[\"label\"][qa[\"answer\"]]\n",
        "    num_votes = 1 if score == 0.3 else 2 if score == 0.6 else 3 if score == 0.9 else 4\n",
        "    d[num_votes] = d.get(num_votes,0)+1\n",
        "    cnt.append(num_votes)\n",
        "  else:\n",
        "    d[0] = d.get(0,0)+1\n",
        "    cnt.append(0)\n",
        "print(\"number of workers vote for the wrong answer distribution: \" + str(d))\n",
        "\n",
        "import matplotlib.pyplot as plt\n",
        "import numpy as np\n",
        "plt.hist(cnt)\n",
        "bars = ('0','1','2','3')\n",
        "x_pos = np.arange(len(bars))\n",
        "plt.title('Wrong Answer Vote Count Distribution for LXMERT')\n",
        "plt.xlabel('Number of Votes for the Wrong Answer')\n",
        "plt.ylabel('Number of Questions')\n",
        "plt.xticks(x_pos, bars)\n",
        "plt.show()\n",
        "\n",
        "\n",
        "#yes no swap\n",
        "yes_no_swap_cnt = 0\n",
        "ave_score_for_wrong_ans = 0\n",
        "for qa in binary_qa_pred_wrong:\n",
        "  if qa[\"answer\"] in [\"yes\",\"no\"]:\n",
        "    yes_no_swap_cnt += 1\n",
        "    ave_score_for_wrong_ans += qa[\"label\"][qa[\"answer\"]] if qa[\"answer\"] in qa[\"label\"].keys() else 0\n",
        "print(\"yes/no predicted opposite percentage: \" + str(yes_no_swap_cnt/binary_qa_wrong_cnt))\n",
        "\n",
        "#unanswerable_cnt\n",
        "unanswerable_cnt = 0\n",
        "for qa in binary_qa_pred_wrong:\n",
        "  if qa[\"answer\"] in (\"unanswerable\",\"unsuitable\",\"unsuitable image\"):\n",
        "    unanswerable_cnt += 1\n",
        "print(\"percentage of answer equals to unanswerable : \" + str(unanswerable_cnt/binary_qa_wrong_cnt))\n",
        "\n",
        "#question starts with can you see / can you tell\n",
        "can_you_see_cnt = 0\n",
        "for qa in binary_qa_pred_wrong:\n",
        "  if qa[\"sent\"].lower().startswith(\"can you see\"):\n",
        "    can_you_see_cnt += 1\n",
        "can_you_tell_cnt = 0\n",
        "for qa in binary_qa_pred_wrong:\n",
        "  if qa[\"sent\"].lower().startswith(\"can you tell\"):\n",
        "    can_you_tell_cnt += 1\n",
        "can_you_cnt = 0\n",
        "for qa in binary_qa_pred_wrong:\n",
        "  if qa[\"sent\"].lower().startswith(\"can you\"):\n",
        "    can_you_cnt += 1\n",
        "print(\"percentage of questions starts with can you : \" + str(can_you_cnt/binary_qa_wrong_cnt))\n",
        "\n",
        "#question contains but: \"I know this is suntan lotion, but I was wondering which factor it is, if you can see, please.\"\n",
        "but_cnt = 0\n",
        "for qa in binary_qa_pred_wrong:\n",
        "  if \"but\" in qa[\"sent\"].lower():\n",
        "    but_cnt += 1\n",
        "print(\"percentage of questions contains but : \" + str(but_cnt/binary_qa_wrong_cnt))\n",
        "\n",
        "#question length analysis\n",
        "question_length = {}\n",
        "max_len = 0\n",
        "ave_len = 0\n",
        "min_len = 1000000\n",
        "for qa in binary_qa_pred_wrong:\n",
        "  q_len = len(qa[\"sent\"])\n",
        "  question_length[q_len] = question_length.get(q_len,0) + 1\n",
        "  max_len = max(max_len,q_len)\n",
        "  ave_len += q_len\n",
        "  min_len = min(min_len,q_len)\n",
        "print(\"question length distribution: \" + str(question_length))\n",
        "ave_len /=len(binary_qa_pred_wrong)\n",
        "print(\"max len: {}, min len: {}, ave len: {}\".format(max_len,min_len,ave_len))\n"
      ],
      "execution_count": null,
      "outputs": [
        {
          "output_type": "stream",
          "text": [
            "total number of binary qa predicted wrong is : 104\n",
            "number of workers vote for the wrong answer distribution: {3: 24, 0: 41, 2: 16, 1: 23}\n"
          ],
          "name": "stdout"
        },
        {
          "output_type": "display_data",
          "data": {
            "image/png": "[encoded data removed]",
            "text/plain": [
              "<Figure size 432x288 with 1 Axes>"
            ]
          },
          "metadata": {
            "tags": [],
            "needs_background": "light"
          }
        },
        {
          "output_type": "stream",
          "text": [
            "yes/no predicted opposite percentage: 0.5288461538461539\n",
            "percentage of answer equals to unanswerable : 0.46153846153846156\n",
            "percentage of questions starts with can you : 0.27884615384615385\n",
            "percentage of questions contains but : 0.0673076923076923\n",
            "question length distribution: {49: 2, 38: 1, 131: 1, 15: 2, 44: 2, 33: 3, 64: 1, 95: 1, 35: 2, 30: 4, 24: 2, 126: 2, 106: 1, 97: 1, 72: 1, 113: 1, 26: 4, 79: 1, 117: 1, 105: 1, 40: 1, 37: 2, 39: 1, 50: 2, 51: 2, 58: 1, 36: 2, 142: 2, 18: 1, 55: 3, 42: 1, 52: 1, 73: 1, 70: 1, 76: 1, 10: 1, 32: 3, 84: 1, 43: 1, 25: 1, 67: 1, 19: 2, 27: 3, 13: 1, 96: 1, 28: 5, 31: 1, 74: 2, 71: 2, 204: 1, 34: 1, 69: 1, 160: 1, 11: 1, 46: 2, 22: 1, 23: 3, 92: 1, 157: 1, 41: 1, 16: 1, 20: 1, 17: 1, 123: 1, 14: 1, 109: 1, 66: 1, 45: 1, 85: 1}\n",
            "max len: 204, min len: 10, ave len: 54.33653846153846\n"
          ],
          "name": "stdout"
        }
      ]
    },
    {
      "cell_type": "code",
      "metadata": {
        "colab": {
          "base_uri": "https://localhost:8080/",
          "height": 451
        },
        "id": "vHTsUSiNPwLu",
        "outputId": "dd940c2c-3ff9-4463-b3bb-2aa4ba251702"
      },
      "source": [
        "def is_number(s):\n",
        "  if s.isnumeric() or s.isdigit():\n",
        "    return True\n",
        "  try:\n",
        "      float(s)\n",
        "      return True\n",
        "  except ValueError:\n",
        "      return False\n",
        "\n",
        "#details for number_qa\n",
        "number_qa_wrong_cnt = len(number_qa_pred_wrong)\n",
        "print(\"total number of number qa predicted wrong is : \" + str(number_qa_wrong_cnt))\n",
        "\n",
        "\n",
        "d = {}\n",
        "cnt = []\n",
        "for qa in number_qa_pred_wrong:\n",
        "  if qa[\"answer\"] in qa[\"label\"].keys():\n",
        "    score = qa[\"label\"][qa[\"answer\"]]\n",
        "    num_votes = 1 if score == 0.3 else 2 if score == 0.6 else 3 if score == 0.9 else 4\n",
        "    d[num_votes] = d.get(num_votes,0)+1\n",
        "    cnt.append(num_votes)\n",
        "  else:\n",
        "    d[0] = d.get(0,0)+1\n",
        "    cnt.append(0)\n",
        "print(\"number of workers vote for the wrong answer distribution: \" + str(d))\n",
        "\n",
        "plt.hist(cnt)\n",
        "bars = ('0','1','2','3')\n",
        "x_pos = np.arange(len(bars))\n",
        "plt.title('Wrong Answer Vote Count Distribution')\n",
        "plt.xlabel('Number of Votes for the Wrong Answer')\n",
        "plt.ylabel('Number of Questions')\n",
        "plt.xticks(x_pos, bars)\n",
        "plt.show()\n",
        "\n",
        "#answer not number cnt\n",
        "ans_not_num_cnt = 0\n",
        "for qa in number_qa_pred_wrong:\n",
        "  if not is_number(qa[\"answer\"]):\n",
        "    ans_not_num_cnt += 1\n",
        "print(\"percentage of answers not number: \" + str(ans_not_num_cnt/number_qa_wrong_cnt))\n",
        "\n",
        "#unanswerable_cnt\n",
        "unanswerable_cnt = 0\n",
        "for qa in number_qa_pred_wrong:\n",
        "  if qa[\"answer\"]  in (\"unanswerable\",\"unsuitable\",\"unsuitable image\"):\n",
        "    unanswerable_cnt += 1\n",
        "print(\"percentage of answer equals to unanswerable : \" + str(unanswerable_cnt/number_qa_wrong_cnt))\n",
        "\n",
        "max_len = 0\n",
        "ave_len = 0\n",
        "min_len = 1000000\n",
        "#question length analysis\n",
        "question_length = {}\n",
        "for qa in number_qa_pred_wrong:\n",
        "  q_len = len(qa[\"sent\"])\n",
        "  max_len = max(max_len,q_len)\n",
        "  ave_len += q_len\n",
        "  min_len = min(min_len,q_len)\n",
        "  question_length[q_len] = question_length.get(q_len,0) + 1\n",
        "print(\"question length distribution: \" + str(question_length))\n",
        "ave_len /=len(number_qa_pred_wrong)\n",
        "print(\"max len: {}, min len: {}, ave len: {}\".format(max_len,min_len,ave_len))\n",
        "\n",
        "#question contains but: \"I know this is suntan lotion, but I was wondering which factor it is, if you can see, please.\"\n",
        "but_cnt = 0\n",
        "for qa in number_qa_pred_wrong:\n",
        "  if \"but\" in qa[\"sent\"].lower():\n",
        "    but_cnt += 1\n",
        "print(\"percentage of questions contains but : \" + str(but_cnt/number_qa_wrong_cnt))\n",
        "\n",
        "can_you_cnt = 0\n",
        "for qa in number_qa_pred_wrong:\n",
        "  if qa[\"sent\"].lower().startswith(\"can you\"):\n",
        "    can_you_cnt += 1\n",
        "print(\"percentage of questions starts with can you : \" + str(can_you_cnt/number_qa_wrong_cnt))\n"
      ],
      "execution_count": null,
      "outputs": [
        {
          "output_type": "stream",
          "text": [
            "total number of number qa predicted wrong is : 52\n",
            "number of workers vote for the wrong answer distribution: {0: 38, 2: 5, 1: 9}\n"
          ],
          "name": "stdout"
        },
        {
          "output_type": "display_data",
          "data": {
            "image/png": "[encoded data removed]",
            "text/plain": [
              "<Figure size 432x288 with 1 Axes>"
            ]
          },
          "metadata": {
            "tags": [],
            "needs_background": "light"
          }
        },
        {
          "output_type": "stream",
          "text": [
            "percentage of answers not number: 0.5769230769230769\n",
            "percentage of answer equals to unanswerable : 0.5\n",
            "question length distribution: {23: 1, 24: 2, 114: 1, 50: 1, 113: 1, 22: 1, 42: 2, 28: 1, 37: 3, 62: 1, 29: 1, 93: 1, 46: 2, 40: 4, 17: 2, 52: 1, 53: 1, 21: 1, 25: 2, 18: 1, 9: 1, 36: 1, 43: 1, 73: 1, 34: 1, 26: 1, 31: 2, 89: 1, 129: 1, 45: 1, 27: 2, 44: 2, 59: 1, 41: 2, 38: 1, 69: 1, 20: 1, 19: 1}\n",
            "max len: 129, min len: 9, ave len: 42.92307692307692\n",
            "percentage of questions contains but : 0.057692307692307696\n",
            "percentage of questions starts with can you : 0.11538461538461539\n"
          ],
          "name": "stdout"
        }
      ]
    },
    {
      "cell_type": "code",
      "metadata": {
        "colab": {
          "base_uri": "https://localhost:8080/",
          "height": 451
        },
        "id": "MCfn_nOiRcvN",
        "outputId": "e6d20310-f0fa-4f71-9cc8-b7ebb46f8e19"
      },
      "source": [
        "#details for unanswerable\n",
        "nonanswerable_qa_wrong_cnt = len(nonanswerable_qa_pred_wrong)\n",
        "print(\"total number of unanswerable qa predicted wrong is : \" + str(nonanswerable_qa_wrong_cnt))\n",
        "\n",
        "#wrong answer vote distribution\n",
        "d = {}\n",
        "cnt = []\n",
        "for qa in nonanswerable_qa_pred_wrong:\n",
        "  if qa[\"answer\"] in qa[\"label\"].keys():\n",
        "    score = qa[\"label\"][qa[\"answer\"]]\n",
        "    num_votes = 1 if score == 0.3 else 2 if score == 0.6 else 3 if score == 0.9 else 4\n",
        "    d[num_votes] = d.get(num_votes,0)+1\n",
        "    cnt.append(num_votes)\n",
        "  else:\n",
        "    d[0] = d.get(0,0)+1\n",
        "    cnt.append(0)\n",
        "print(\"number of workers vote for the wrong answer distribution: \" + str(d))\n",
        "\n",
        "plt.hist(cnt)\n",
        "bars = ('0','1','2','3')\n",
        "x_pos = np.arange(len(bars))\n",
        "plt.title('Wrong Answer Vote Count Distribution for LXMERT')\n",
        "plt.xlabel('Number of Votes for the Wrong Answer')\n",
        "plt.ylabel('Number of Questions')\n",
        "plt.xticks(x_pos, bars)\n",
        "plt.show()\n",
        "\n",
        "#binary\n",
        "binary_answer_cnt = 0\n",
        "for qa in nonanswerable_qa_pred_wrong:\n",
        "  if qa[\"answer\"] in [\"yes\",\"no\"]:\n",
        "    binary_answer_cnt += 1\n",
        "print(\"output answer is binary percentage: \" + str(binary_answer_cnt/nonanswerable_qa_wrong_cnt))\n",
        "\n",
        "#number\n",
        "number_answer_cnt = 0\n",
        "for qa in nonanswerable_qa_pred_wrong:\n",
        "  if is_number(qa[\"answer\"]):\n",
        "    number_answer_cnt += 1\n",
        "print(\"output answer is number percentage: \" + str(number_answer_cnt/nonanswerable_qa_wrong_cnt))\n",
        "\n",
        "\n",
        "#question length analysis\n",
        "max_len = 0\n",
        "ave_len = 0\n",
        "min_len = 1000000\n",
        "question_length = {}\n",
        "for qa in nonanswerable_qa_pred_wrong:\n",
        "  q_len = len(qa[\"sent\"])\n",
        "  max_len = max(max_len,q_len)\n",
        "  ave_len += q_len\n",
        "  min_len = min(min_len,q_len)\n",
        "  question_length[q_len] = question_length.get(q_len,0) + 1\n",
        "print(\"question length distribution: \" + str(question_length))\n",
        "ave_len /=len(nonanswerable_qa_pred_wrong)\n",
        "print(\"max len: {}, min len: {}, ave len: {}\".format(max_len,min_len,ave_len))\n",
        "\n",
        "#question contains but: \"I know this is suntan lotion, but I was wondering which factor it is, if you can see, please.\"\n",
        "but_cnt = 0\n",
        "for qa in nonanswerable_qa_pred_wrong:\n",
        "  if \"but\" in qa[\"sent\"].lower():\n",
        "    but_cnt += 1\n",
        "print(\"percentage of questions contains but : \" + str(but_cnt/nonanswerable_qa_wrong_cnt))\n",
        "\n",
        "\n",
        "can_you_cnt = 0\n",
        "for qa in nonanswerable_qa_pred_wrong:\n",
        "  if qa[\"sent\"].lower().startswith(\"can you\"):\n",
        "    can_you_cnt += 1\n",
        "print(\"percentage of questions starts with can you : \" + str(can_you_cnt/nonanswerable_qa_wrong_cnt))"
      ],
      "execution_count": null,
      "outputs": [
        {
          "output_type": "stream",
          "text": [
            "total number of unanswerable qa predicted wrong is : 766\n",
            "number of workers vote for the wrong answer distribution: {0: 406, 2: 122, 3: 107, 1: 131}\n"
          ],
          "name": "stdout"
        },
        {
          "output_type": "display_data",
          "data": {
            "image/png": "[encoded data removed]",
            "text/plain": [
              "<Figure size 432x288 with 1 Axes>"
            ]
          },
          "metadata": {
            "tags": [],
            "needs_background": "light"
          }
        },
        {
          "output_type": "stream",
          "text": [
            "output answer is binary percentage: 0.10052219321148825\n",
            "output answer is number percentage: 0.007832898172323759\n",
            "question length distribution: {24: 23, 32: 19, 69: 4, 89: 3, 31: 19, 21: 23, 27: 14, 13: 62, 49: 8, 23: 13, 29: 11, 42: 8, 38: 15, 28: 15, 95: 2, 34: 17, 15: 6, 62: 5, 22: 23, 53: 4, 47: 3, 25: 31, 17: 13, 39: 11, 90: 1, 153: 1, 43: 6, 165: 1, 33: 15, 64: 4, 41: 9, 85: 4, 35: 12, 45: 10, 12: 10, 19: 42, 30: 14, 26: 25, 138: 1, 44: 9, 65: 3, 155: 1, 106: 2, 88: 3, 76: 4, 37: 11, 57: 3, 212: 1, 66: 2, 174: 1, 81: 3, 36: 12, 72: 3, 75: 1, 164: 1, 20: 25, 113: 2, 50: 7, 8: 3, 79: 2, 58: 4, 51: 4, 83: 2, 99: 1, 86: 4, 59: 2, 180: 1, 97: 2, 100: 2, 101: 3, 40: 12, 189: 1, 70: 2, 55: 7, 182: 1, 14: 5, 96: 1, 74: 3, 93: 1, 121: 1, 249: 1, 179: 1, 54: 4, 139: 1, 92: 2, 91: 2, 178: 2, 56: 6, 98: 1, 61: 2, 18: 12, 171: 1, 82: 3, 142: 2, 223: 1, 77: 2, 78: 1, 87: 2, 143: 1, 63: 3, 123: 1, 73: 2, 109: 2, 135: 1, 147: 1, 67: 4, 102: 1, 68: 2, 112: 1, 48: 3, 140: 1, 103: 1, 16: 6, 71: 1, 124: 1, 204: 1, 114: 1, 11: 5, 133: 1, 132: 2, 46: 4, 148: 1, 60: 1, 187: 1, 170: 1, 166: 1, 52: 1, 206: 1, 104: 1, 136: 1}\n",
            "max len: 249, min len: 8, ave len: 41.885117493472585\n",
            "percentage of questions contains but : 0.014360313315926894\n",
            "percentage of questions starts with can you : 0.10182767624020887\n"
          ],
          "name": "stdout"
        }
      ]
    },
    {
      "cell_type": "code",
      "metadata": {
        "colab": {
          "base_uri": "https://localhost:8080/",
          "height": 434
        },
        "id": "GOvlW2ldNLnq",
        "outputId": "afb43bd8-a769-477d-a198-878119566517"
      },
      "source": [
        "import matplotlib.pyplot as plt\n",
        "import numpy as np\n",
        "#details for color_qa\n",
        "color_qa_wrong_cnt = len(color_qa_pred_wrong)\n",
        "print(\"total number of color qa predicted wrong is : \" + str(color_qa_wrong_cnt))\n",
        "\n",
        "\n",
        "d = {}\n",
        "cnt = []\n",
        "for qa in color_qa_pred_wrong:\n",
        "  if qa[\"answer\"] in qa[\"label\"].keys():\n",
        "    score = qa[\"label\"][qa[\"answer\"]]\n",
        "    num_votes = 1 if score == 0.3 else 2 if score == 0.6 else 3 if score == 0.9 else 4\n",
        "    d[num_votes] = d.get(num_votes,0)+1\n",
        "    cnt.append(num_votes)\n",
        "  else:\n",
        "    d[0] = d.get(0,0)+1\n",
        "    cnt.append(0)\n",
        "print(\"number of workers vote for the wrong answer distribution: \" + str(d))\n",
        "\n",
        "plt.hist(cnt)\n",
        "bars = ('0','1','2','3')\n",
        "x_pos = np.arange(len(bars))\n",
        "plt.title('Wrong Answer Vote Count Distribution')\n",
        "plt.xlabel('Number of Votes for the Wrong Answer')\n",
        "plt.ylabel('Number of Questions')\n",
        "plt.xticks(x_pos, bars)\n",
        "plt.show()\n",
        "\n",
        "#answer not color cnt\n",
        "ans_not_color_cnt = 0\n",
        "for qa in color_qa_pred_wrong:\n",
        "  if qa[\"answer\"] not in colors:\n",
        "    ans_not_color_cnt += 1\n",
        "print(\"percentage of answers not color: \" + str(ans_not_color_cnt/color_qa_wrong_cnt))\n",
        "\n",
        "#unanswerable_cnt\n",
        "unanswerable_cnt = 0\n",
        "for qa in color_qa_pred_wrong:\n",
        "  if qa[\"answer\"] in (\"unanswerable\",\"unsuitable\",\"unsuitable image\"):\n",
        "    unanswerable_cnt += 1\n",
        "print(\"percentage of answer equals to unanswerable : \" + str(unanswerable_cnt/color_qa_wrong_cnt))\n",
        "\n",
        "max_len = 0\n",
        "ave_len = 0\n",
        "min_len = 1000000\n",
        "#question length analysis\n",
        "question_length = {}\n",
        "for qa in color_qa_pred_wrong:\n",
        "  q_len = len(qa[\"sent\"])\n",
        "  max_len = max(max_len,q_len)\n",
        "  ave_len += q_len\n",
        "  min_len = min(min_len,q_len)\n",
        "  question_length[q_len] = question_length.get(q_len,0) + 1\n",
        "print(\"question length distribution: \" + str(question_length))\n",
        "ave_len /=len(number_qa_pred_wrong)\n",
        "print(\"max len: {}, min len: {}, ave len: {}\".format(max_len,min_len,ave_len))\n",
        "\n",
        "can_you_cnt = 0\n",
        "for qa in color_qa_pred_wrong:\n",
        "  if qa[\"sent\"].lower().startswith(\"can you\"):\n",
        "    can_you_cnt += 1\n",
        "print(\"percentage of questions starts with can you : \" + str(can_you_cnt/color_qa_wrong_cnt))\n"
      ],
      "execution_count": null,
      "outputs": [
        {
          "output_type": "stream",
          "text": [
            "total number of color qa predicted wrong is : 150\n",
            "number of workers vote for the wrong answer distribution: {1: 33, 0: 88, 3: 16, 2: 13}\n"
          ],
          "name": "stdout"
        },
        {
          "output_type": "display_data",
          "data": {
            "image/png": "[encoded data removed]",
            "text/plain": [
              "<Figure size 432x288 with 1 Axes>"
            ]
          },
          "metadata": {
            "tags": [],
            "needs_background": "light"
          }
        },
        {
          "output_type": "stream",
          "text": [
            "percentage of answers not color: 0.5866666666666667\n",
            "percentage of answer equals to unanswerable : 0.24\n",
            "question length distribution: {19: 19, 24: 9, 18: 3, 27: 14, 13: 18, 79: 1, 34: 1, 17: 4, 30: 4, 20: 8, 44: 4, 50: 1, 26: 10, 25: 14, 21: 4, 22: 3, 43: 1, 28: 5, 23: 5, 32: 3, 49: 2, 55: 1, 45: 1, 11: 1, 33: 1, 52: 1, 72: 1, 60: 1, 48: 1, 31: 1, 38: 1, 29: 2, 39: 2, 40: 1, 118: 1, 65: 1}\n",
            "max len: 118, min len: 11, ave len: 76.65384615384616\n",
            "percentage of questions starts with can you : 0.006666666666666667\n"
          ],
          "name": "stdout"
        }
      ]
    }
  ]
}