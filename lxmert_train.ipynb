{
  "nbformat": 4,
  "nbformat_minor": 0,
  "metadata": {
    "colab": {
      "name": "lxmert_train.ipynb",
      "provenance": [],
      "collapsed_sections": [],
      "machine_shape": "hm"
    },
    "kernelspec": {
      "name": "python3",
      "display_name": "Python 3"
    },
    "language_info": {
      "name": "python"
    },
    "accelerator": "GPU"
  },
  "cells": [
    {
      "cell_type": "code",
      "metadata": {
        "id": "G8bdPGARmDbL",
        "colab": {
          "base_uri": "https://localhost:8080/"
        },
        "outputId": "7ed17080-caf5-463f-9425-9c40bc0eb7e1"
      },
      "source": [
        "!nvidia-smi"
      ],
      "execution_count": null,
      "outputs": [
        {
          "output_type": "stream",
          "text": [
            "Fri May 14 11:17:25 2021       \n",
            "+-----------------------------------------------------------------------------+\n",
            "| NVIDIA-SMI 465.19.01    Driver Version: 460.32.03    CUDA Version: 11.2     |\n",
            "|-------------------------------+----------------------+----------------------+\n",
            "| GPU  Name        Persistence-M| Bus-Id        Disp.A | Volatile Uncorr. ECC |\n",
            "| Fan  Temp  Perf  Pwr:Usage/Cap|         Memory-Usage | GPU-Util  Compute M. |\n",
            "|                               |                      |               MIG M. |\n",
            "|===============================+======================+======================|\n",
            "|   0  Tesla P100-PCIE...  Off  | 00000000:00:04.0 Off |                    0 |\n",
            "| N/A   38C    P0    27W / 250W |      0MiB / 16280MiB |      0%      Default |\n",
            "|                               |                      |                  N/A |\n",
            "+-------------------------------+----------------------+----------------------+\n",
            "                                                                               \n",
            "+-----------------------------------------------------------------------------+\n",
            "| Processes:                                                                  |\n",
            "|  GPU   GI   CI        PID   Type   Process name                  GPU Memory |\n",
            "|        ID   ID                                                   Usage      |\n",
            "|=============================================================================|\n",
            "|  No running processes found                                                 |\n",
            "+-----------------------------------------------------------------------------+\n"
          ],
          "name": "stdout"
        }
      ]
    },
    {
      "cell_type": "code",
      "metadata": {
        "id": "5VjSepcZB44v",
        "colab": {
          "base_uri": "https://localhost:8080/"
        },
        "outputId": "805414bd-1025-482c-8886-01dcbf0ca731"
      },
      "source": [
        "# !git clone https://github.com/airsplay/lxmert.git\n",
        "from google.colab import drive\n",
        "drive.mount(\"/content/drive\")"
      ],
      "execution_count": null,
      "outputs": [
        {
          "output_type": "stream",
          "text": [
            "Mounted at /content/drive\n"
          ],
          "name": "stdout"
        }
      ]
    },
    {
      "cell_type": "code",
      "metadata": {
        "id": "B65W1MGyCRqi"
      },
      "source": [
        "import os\n",
        "os.chdir(\"/content/drive/My Drive/lxmert\")"
      ],
      "execution_count": null,
      "outputs": []
    },
    {
      "cell_type": "code",
      "metadata": {
        "id": "L6mBq7rZ5c1d",
        "colab": {
          "base_uri": "https://localhost:8080/"
        },
        "outputId": "6854a6b1-1caf-4384-e475-d05e6136d468"
      },
      "source": [
        "!pip install -r requirements.txt"
      ],
      "execution_count": null,
      "outputs": [
        {
          "output_type": "stream",
          "text": [
            "Requirement already satisfied: torch>=1.0.0 in /usr/local/lib/python3.7/dist-packages (from -r requirements.txt (line 4)) (1.8.1+cu101)\n",
            "Requirement already satisfied: tqdm in /usr/local/lib/python3.7/dist-packages (from -r requirements.txt (line 6)) (4.41.1)\n",
            "Collecting boto3\n",
            "\u001b[?25l  Downloading https://files.pythonhosted.org/packages/73/6d/47a187ea163c6e1791faae1fc8e45b584ba0076ca51ce93ff2824a1c8b98/boto3-1.17.70-py2.py3-none-any.whl (131kB)\n",
            "\u001b[K     |████████████████████████████████| 133kB 7.0MB/s \n",
            "\u001b[?25hRequirement already satisfied: requests in /usr/local/lib/python3.7/dist-packages (from -r requirements.txt (line 10)) (2.23.0)\n",
            "Requirement already satisfied: numpy in /usr/local/lib/python3.7/dist-packages (from torch>=1.0.0->-r requirements.txt (line 4)) (1.19.5)\n",
            "Requirement already satisfied: typing-extensions in /usr/local/lib/python3.7/dist-packages (from torch>=1.0.0->-r requirements.txt (line 4)) (3.7.4.3)\n",
            "Collecting botocore<1.21.0,>=1.20.70\n",
            "\u001b[?25l  Downloading https://files.pythonhosted.org/packages/54/69/3e71ecaeaeecd78c5e33161690e1c39856258108e9f42a153af56db5a88c/botocore-1.20.70-py2.py3-none-any.whl (7.5MB)\n",
            "\u001b[K     |████████████████████████████████| 7.5MB 11.6MB/s \n",
            "\u001b[?25hCollecting s3transfer<0.5.0,>=0.4.0\n",
            "\u001b[?25l  Downloading https://files.pythonhosted.org/packages/63/d0/693477c688348654ddc21dcdce0817653a294aa43f41771084c25e7ff9c7/s3transfer-0.4.2-py2.py3-none-any.whl (79kB)\n",
            "\u001b[K     |████████████████████████████████| 81kB 11.1MB/s \n",
            "\u001b[?25hCollecting jmespath<1.0.0,>=0.7.1\n",
            "  Downloading https://files.pythonhosted.org/packages/07/cb/5f001272b6faeb23c1c9e0acc04d48eaaf5c862c17709d20e3469c6e0139/jmespath-0.10.0-py2.py3-none-any.whl\n",
            "Requirement already satisfied: chardet<4,>=3.0.2 in /usr/local/lib/python3.7/dist-packages (from requests->-r requirements.txt (line 10)) (3.0.4)\n",
            "Requirement already satisfied: certifi>=2017.4.17 in /usr/local/lib/python3.7/dist-packages (from requests->-r requirements.txt (line 10)) (2020.12.5)\n",
            "Requirement already satisfied: urllib3!=1.25.0,!=1.25.1,<1.26,>=1.21.1 in /usr/local/lib/python3.7/dist-packages (from requests->-r requirements.txt (line 10)) (1.24.3)\n",
            "Requirement already satisfied: idna<3,>=2.5 in /usr/local/lib/python3.7/dist-packages (from requests->-r requirements.txt (line 10)) (2.10)\n",
            "Requirement already satisfied: python-dateutil<3.0.0,>=2.1 in /usr/local/lib/python3.7/dist-packages (from botocore<1.21.0,>=1.20.70->boto3->-r requirements.txt (line 8)) (2.8.1)\n",
            "Requirement already satisfied: six>=1.5 in /usr/local/lib/python3.7/dist-packages (from python-dateutil<3.0.0,>=2.1->botocore<1.21.0,>=1.20.70->boto3->-r requirements.txt (line 8)) (1.15.0)\n",
            "\u001b[31mERROR: botocore 1.20.70 has requirement urllib3<1.27,>=1.25.4, but you'll have urllib3 1.24.3 which is incompatible.\u001b[0m\n",
            "Installing collected packages: jmespath, botocore, s3transfer, boto3\n",
            "Successfully installed boto3-1.17.70 botocore-1.20.70 jmespath-0.10.0 s3transfer-0.4.2\n"
          ],
          "name": "stdout"
        }
      ]
    },
    {
      "cell_type": "code",
      "metadata": {
        "id": "Rxv61Nk55lit"
      },
      "source": [
        "#image features: data/vizwiz_imgfeat\n",
        "#train/validate files: data/vqa"
      ],
      "execution_count": null,
      "outputs": []
    },
    {
      "cell_type": "code",
      "metadata": {
        "id": "WLVxVJMr5sei"
      },
      "source": [
        "#use small data to test, make sure no error\n",
        "!bash run/vqa_finetune.bash 0 vizwiz_classify_tiny --tiny"
      ],
      "execution_count": null,
      "outputs": []
    },
    {
      "cell_type": "code",
      "metadata": {
        "id": "QJ4n2qog5wDl"
      },
      "source": [
        "#finetune, save best model to vizwiz_all\n",
        "!bash run/vqa_finetune.bash 0 vizwiz_classify"
      ],
      "execution_count": null,
      "outputs": []
    },
    {
      "cell_type": "code",
      "metadata": {
        "id": "8rXIOqe0z92T"
      },
      "source": [
        "#classifier finetune with balanced train dataset\n",
        "!bash run/vqa_finetune.bash 0 vizwiz_classify_balanced"
      ],
      "execution_count": null,
      "outputs": []
    },
    {
      "cell_type": "code",
      "metadata": {
        "id": "H9w0GH-82dXi"
      },
      "source": [
        "!bash run/vqa_test.bash 0 vizwiz_classify_balanced_result --test valid --load snap/vqa/vizwiz_classify_balanced/BEST\n",
        "#0.729210099606208 LXMERT unbalanced classify\n",
        "#0.7310632383599722 LXMERT balanced classify"
      ],
      "execution_count": null,
      "outputs": []
    },
    {
      "cell_type": "code",
      "metadata": {
        "id": "r0GlPktjz8Lj",
        "colab": {
          "base_uri": "https://localhost:8080/"
        },
        "outputId": "4c63b11b-961d-48cf-a1f4-e390dc1c96f7"
      },
      "source": [
        "!bash run/vqa_test.bash 0 vizwiz_all_results --test valid --load snap/vqa/vizwiz_all/BEST\n",
        "#0.729210099606208 LXMERT classify"
      ],
      "execution_count": null,
      "outputs": [
        {
          "output_type": "stream",
          "text": [
            "train\n",
            "Load 20523 data from split(s) train.\n",
            "Start to load Faster-RCNN detected objects from data/vizwiz_imgfeat/36_vizwiz_train.pkl\n",
            "Loaded 512 images in file data/vizwiz_imgfeat/36_vizwiz_train.pkl in 82 seconds.\n",
            "Use 444 data in torch dataset\n",
            "100% 231508/231508 [00:00<00:00, 971166.43B/s]\n",
            "100% 407873900/407873900 [00:10<00:00, 39245840.17B/s]\n",
            "LXRT encoder with 9 l_layers, 5 x_layers, and 5 r_layers.\n",
            "BertAdam Total Iters: 52\n",
            "Load model from snap/vqa/vizwiz_all/BEST\n",
            "valid\n",
            "Load 4319 data from split(s) valid.\n",
            "Start to load Faster-RCNN detected objects from data/vizwiz_imgfeat/36_vizwiz_val.pkl\n",
            "Loaded 7748 images in file data/vizwiz_imgfeat/36_vizwiz_val.pkl in 19 seconds.\n",
            "Use 4317 data in torch dataset\n",
            "logits results saved\n",
            "logits results saved\n",
            "logits results saved\n",
            "logits results saved\n",
            "logits results saved\n",
            "0.4982626824183446\n"
          ],
          "name": "stdout"
        }
      ]
    },
    {
      "cell_type": "code",
      "metadata": {
        "id": "DOt05nIH5y6K",
        "colab": {
          "base_uri": "https://localhost:8080/"
        },
        "outputId": "780c0c7b-5fd5-4fc3-857d-4334adbccaad"
      },
      "source": [
        "#validate \n",
        "!bash run/vqa_test.bash 0 vizwiz_with_pred_questype --test valid --load snap/vqa/vizwiz_all/BEST\n",
        "#0.4786889043317073 - without question type\n",
        "#0.4982626824183446 - with true question type\n",
        "\n",
        "#unbalanced training dataset\n",
        "#0.4103544127866542 - with pred question type\n",
        "#0.420060227009494 - with pred question type if unswerable and other\n",
        "\n",
        "#0.41864720870974875 - simply adding logits\n",
        "#0.41568218670372625 - vizwizlogit*1.5 + classify_logits\n",
        "#0.418160759786886 - vizwizlogit + classify_logits if not number else vizwizlogit\n",
        "#0.33 - classify_logits if unanswerable else vizwizlogit ??\n",
        "\n",
        "#simply adding softmax\n",
        "#0.4116284456798673\n"
      ],
      "execution_count": null,
      "outputs": [
        {
          "output_type": "stream",
          "text": [
            "train\n",
            "Load 20523 data from split(s) train.\n",
            "Start to load Faster-RCNN detected objects from data/vizwiz_imgfeat/36_vizwiz_train.pkl\n",
            "Loaded 512 images in file data/vizwiz_imgfeat/36_vizwiz_train.pkl in 98 seconds.\n",
            "Use 444 data in torch dataset\n",
            "LXRT encoder with 9 l_layers, 5 x_layers, and 5 r_layers.\n",
            "BertAdam Total Iters: 52\n",
            "Load model from snap/vqa/vizwiz_all/BEST\n",
            "valid\n",
            "Load 4319 data from split(s) valid.\n",
            "Start to load Faster-RCNN detected objects from data/vizwiz_imgfeat/36_vizwiz_val.pkl\n",
            "Loaded 7748 images in file data/vizwiz_imgfeat/36_vizwiz_val.pkl in 31 seconds.\n",
            "Use 4317 data in torch dataset\n",
            "[]\n",
            "0.420060227009494\n"
          ],
          "name": "stdout"
        }
      ]
    },
    {
      "cell_type": "code",
      "metadata": {
        "id": "m1Ynar0K54_9"
      },
      "source": [
        "######################## CODE TO GENERATE FILES BEBLOW  ####################"
      ],
      "execution_count": null,
      "outputs": []
    },
    {
      "cell_type": "code",
      "metadata": {
        "id": "a3tFDKfmthQf"
      },
      "source": [
        "# custom Dataset class\n",
        "class LogitsDataset(Dataset):\n",
        "    def __init__(self, X, Y = None):\n",
        "        self.X = X\n",
        "        if Y is not None:\n",
        "            self.Y = Y\n",
        "        else:\n",
        "            self.Y = None\n",
        "    \n",
        "    def __len__(self):\n",
        "        return len(self.X)\n",
        "    \n",
        "    def __getitem__(self, idx):\n",
        "        if self.Y is not None:\n",
        "            return self.X[idx], self.Y[idx]\n",
        "        else:\n",
        "            return self.X[idx]"
      ],
      "execution_count": null,
      "outputs": []
    },
    {
      "cell_type": "code",
      "metadata": {
        "colab": {
          "base_uri": "https://localhost:8080/"
        },
        "id": "q7V63d1vuA_3",
        "outputId": "29071da4-6bcd-4777-9fc3-59e2ba7aa46a"
      },
      "source": [
        "#elementwise multiplication of two logits\n",
        "import pickle,json\n",
        "import numpy as np\n",
        "PREDICT_LOGIT_PATH = \"snap/vqa/vizwiz_classify_result/logit_result.pt\"\n",
        "MAIN_LOGITS_PATH = 'snap/vqa/vizwiz_all_results/logit_result.pt'\n",
        "\n",
        "with open(PREDICT_LOGIT_PATH, 'rb') as f:\n",
        "  pred_logits = pickle.load(f)\n",
        "with open(MAIN_LOGITS_PATH, 'rb') as f:\n",
        "  main_logits = pickle.load(f)\n",
        "with open('data/vqa/valid.json') as f1:\n",
        "  val = json.load(f1)\n",
        "\n",
        "CLASSIFIER_LABEL2ANS_PATH = \"data/vqa/classifier_label2ans.json\"\n",
        "classifier_label2ans = json.load(open(CLASSIFIER_LABEL2ANS_PATH))\n",
        "QUESTION_TYPE_LABELS_PATH = \"data/vqa/trainval_questype2labels.json\"\n",
        "questype2labels = json.load(open(QUESTION_TYPE_LABELS_PATH))\n",
        "ans2label = json.load(open(\"data/vqa/trainval_ans2label.json\"))\n",
        "label2ans = json.load(open(\"data/vqa/trainval_label2ans.json\"))\n",
        "\n",
        "qid2label = {}\n",
        "for qa in val:\n",
        "  qid2label[qa[\"question_id\"]] = qa[\"label\"]\n",
        "\n",
        "\n",
        "fusion_logits = np.zeros((len(pred_logits),48730))\n",
        "targets = np.zeros((len(pred_logits),len(ans2label)))\n",
        "ind = 0\n",
        "for qid,main_l in main_logits.items():\n",
        "  pred_l = pred_logits[qid]\n",
        "  classify_map_logit = np.zeros(main_l.size)\n",
        "  for label in range(0,len(classifier_label2ans)):\n",
        "    ques_type = classifier_label2ans[label]\n",
        "    questype_labels = questype2labels[ques_type]\n",
        "    classify_map_logit[questype_labels] = pred_l[label]\n",
        "  \n",
        "  fusion_l = np.multiply(classify_map_logit, main_l)\n",
        "  fusion_logits[ind] = fusion_l\n",
        "\n",
        "  label = qid2label[qid]\n",
        "  target = np.zeros(len(ans2label))\n",
        "  for ans, score in label.items():\n",
        "    if ans in ans2label:\n",
        "      target[ans2label[ans]] = score\n",
        "  targets[ind] = target\n",
        "  \n",
        "  ind += 1\n",
        "print(fusion_logits.shape)\n",
        "print(targets.shape)"
      ],
      "execution_count": null,
      "outputs": [
        {
          "output_type": "stream",
          "text": [
            "(4317, 48730)\n",
            "(4317, 48730)\n"
          ],
          "name": "stdout"
        }
      ]
    },
    {
      "cell_type": "code",
      "metadata": {
        "id": "T-Ym86nSzyyT"
      },
      "source": [
        "train_dataset = LogitsDataset(fusion_logits[:3800], targets[:3800])\n",
        "val_dataset = LogitsDataset(fusion_logits[3800:], targets[3800:])\n",
        "train_loader = DataLoader(train_dataset, shuffle = True, batch_size = 8)\n",
        "val_loader = DataLoader(val_dataset, shuffle = False, batch_size = 8)"
      ],
      "execution_count": null,
      "outputs": []
    },
    {
      "cell_type": "code",
      "metadata": {
        "id": "igw2bpHV0O8N"
      },
      "source": [
        "import numpy as np\n",
        "import torch\n",
        "from torch.utils.data import Dataset, DataLoader\n",
        "import torch.nn as nn\n",
        "import torch.nn.functional as F\n",
        "import torch.optim as optim\n",
        "import time\n",
        "cuda = torch.cuda.is_available()\n",
        "\n",
        "# 3CNN uses three\n",
        "# filter types of sizes 3, 4, and 5, with 100 filters for\n",
        "# each size.\n",
        "\n",
        "class MyModel(nn.Module):\n",
        "    def __init__(self, input_channel, out_channel, kernel_sizes, output_dim):\n",
        "        super().__init__()\n",
        "        self.conv1 = nn.Conv1d(input_channel, out_channel, kernel_size = kernel_sizes[0])\n",
        "        self.conv2 = nn.Conv1d(input_channel, out_channel, kernel_size = kernel_sizes[1])\n",
        "        self.conv3 = nn.Conv1d(input_channel, out_channel, kernel_size = kernel_sizes[2])\n",
        "        \n",
        "        self.cnns = []\n",
        "        self.cnns.append(self.conv1)\n",
        "        self.cnns.append(self.conv2)\n",
        "        self.cnns.append(self.conv3)\n",
        "        \n",
        "        self.linear = nn.Linear(len(self.cnns) * out_channel, output_dim)\n",
        "        self.dropout = nn.Dropout(0.1)\n",
        "        \n",
        "    def forward(self, embedded):     \n",
        "        embedded = embedded.permute(0, 2, 1)\n",
        "\n",
        "        z = [F.relu(conv(embedded)) for conv in self.cnns]\n",
        "        output = [F.max_pool1d(i, kernel_size=i.size(-1)).squeeze(-1) for i in z]\n",
        "\n",
        "        output = torch.cat(output, -1)\n",
        "        output = self.dropout(output)\n",
        "        output = self.linear(output)\n",
        "        return output \n",
        "\n",
        "input_channel = 100\n",
        "out_channel = 100\n",
        "kernel_sizes = [3,4,5]\n",
        "output_dim = 48730\n",
        "model = MyModel(input_channel, out_channel, kernel_sizes, output_dim)\n",
        "device = torch.device(\"cuda\" if cuda else \"cpu\")\n",
        "\n",
        "criterion = nn.CrossEntropyLoss()\n",
        "optimizer = optim.Adam(model.parameters(), lr = 5e-5)\n",
        "model = model.to(device)\n",
        "model.cuda()\n",
        "\n",
        "bce_loss = nn.BCEWithLogitsLoss()"
      ],
      "execution_count": null,
      "outputs": []
    },
    {
      "cell_type": "code",
      "metadata": {
        "id": "7phYhomo0VJz"
      },
      "source": [
        "def train_epoch(model, train_loader, criterion, optimizer):\n",
        "    model.train()\n",
        "\n",
        "    running_loss = 0.0\n",
        "    \n",
        "    start_time = time.time()\n",
        "    for batch_idx, (X, Y) in enumerate(train_loader):   \n",
        "        optimizer.zero_grad()   \n",
        "        X = X.to(device)\n",
        "        Y = Y.to(device) \n",
        "\n",
        "        outputs = model(X)\n",
        "        loss = criterion(outputs, Y)\n",
        "        running_loss += loss.item()\n",
        "\n",
        "        loss.backward()\n",
        "        optimizer.step()\n",
        "\n",
        "    end_time = time.time()\n",
        "    \n",
        "    running_loss /= len(train_loader)\n",
        "    print('Training Loss: ', running_loss, 'Time: ',end_time - start_time)\n",
        "    return running_loss \n",
        "\n",
        "def test_model(model, test_loader, criterion):\n",
        "    with torch.no_grad():\n",
        "        model.eval()\n",
        "\n",
        "\n",
        "        running_loss = 0.0\n",
        "\n",
        "        for batch_idx, (X, Y) in enumerate(test_loader):   \n",
        "            X = X.to(device)\n",
        "            Y = Y.to(device) \n",
        "\n",
        "            outputs = model(X)\n",
        "            # print(outputs)\n",
        "            _, predicted = torch.max(outputs.data, 1)\n",
        "            total_predictions += Y.size(0)\n",
        "            correct_predictions += (predicted == Y).sum().item()\n",
        "            \n",
        "            loss = criterion(outputs, Y)\n",
        "            running_loss += loss.item()\n",
        "\n",
        "\n",
        "        running_loss /= len(test_loader)\n",
        "        acc = (correct_predictions/total_predictions)\n",
        "        print(all_positive_cnt)\n",
        "        print(false_negative_cnt)\n",
        "        precision = true_positive_cnt/all_positive_cnt if all_positive_cnt != 0 else 0\n",
        "        recall = true_positive_cnt/(true_positive_cnt +false_negative_cnt) if (true_positive_cnt +false_negative_cnt) != 0 else 0\n",
        "        \n",
        "        # print('Testing Loss: ', running_loss)\n",
        "        # print('Testing Accuracy: ', acc, '%')\n",
        "        print('Testing Precision: ', precision)\n",
        "        print('Testing Recall: ', recall)\n",
        "        f1 = 2*(precision*recall/(precision+recall)) if (precision+recall) != 0 else 0\n",
        "        print('Testing F1: ', f1)\n",
        "        return running_loss,precision,recall, f1"
      ],
      "execution_count": null,
      "outputs": []
    },
    {
      "cell_type": "code",
      "metadata": {
        "id": "glII17vt30Wo"
      },
      "source": [
        "n_epochs=1\n",
        "for i in range(n_epochs):\n",
        "    print(\"Epoch: \" + str(i+1))\n",
        "    train_epoch(model, train_loader, criterion, optimizer)\n",
        "    test_loss, precision,recall, f1 = test_model(model, val_loader, criterion)"
      ],
      "execution_count": null,
      "outputs": []
    },
    {
      "cell_type": "code",
      "metadata": {
        "id": "8SBcyhsJqTdD"
      },
      "source": [
        "import json\n",
        "with open('data/vqa/train.json') as f1:\n",
        "  train = json.load(f1)\n",
        "\n",
        "for qa in train:\n",
        "  if qa[\"question_type\"] == \"number\":\n",
        "    print(qa[\"label\"])"
      ],
      "execution_count": null,
      "outputs": []
    },
    {
      "cell_type": "code",
      "metadata": {
        "colab": {
          "base_uri": "https://localhost:8080/"
        },
        "id": "auTpiYDA29W2",
        "outputId": "93b2ee5f-24d3-476b-ae77-79eb206e356a"
      },
      "source": [
        "#check the classification acc for each question type\n",
        "import json\n",
        "with open('snap/vqa/vizwiz_classify_balanced_result/valid_predict.json') as f1:\n",
        "  pred_qa = json.load(f1)\n",
        "with open('data/vqa/valid.json')as f1:\n",
        "  valid = json.load(f1)\n",
        "\n",
        "print(len(pred_qa))\n",
        "print(len(valid))\n",
        "qid2predans = {}\n",
        "for qa in pred_qa:\n",
        "  qid2predans[qa[\"question_id\"]] = qa[\"answer\"]\n",
        "\n",
        "number_total = 0\n",
        "number_corr = 0\n",
        "binary_total=0\n",
        "binary_corr=0\n",
        "unanswerable_total=0\n",
        "unanswerable_corr=0\n",
        "color_total=0\n",
        "color_corr=0\n",
        "other_total = 0\n",
        "other_corr = 0\n",
        "\n",
        "for qa in valid:\n",
        "  if qa[\"question_id\"] in qid2predans:\n",
        "    pred_ans = qid2predans[qa[\"question_id\"]]\n",
        "    ans = qa[\"question_type\"]\n",
        "    if pred_ans == \"number\":\n",
        "      number_total+=1\n",
        "      if ans == pred_ans:\n",
        "        number_corr += 1\n",
        "    elif pred_ans == \"binary\":\n",
        "      binary_total += 1\n",
        "      if ans == pred_ans:\n",
        "        binary_corr += 1\n",
        "    elif pred_ans == \"unanswerable\":\n",
        "      unanswerable_total += 1\n",
        "      if pred_ans == pred_ans:\n",
        "        unanswerable_corr += 1\n",
        "    elif pred_ans == \"color\":\n",
        "      color_total += 1\n",
        "      if ans == pred_ans:\n",
        "        color_corr += 1\n",
        "    else:\n",
        "      other_total += 1\n",
        "      if ans == pred_ans:\n",
        "        other_corr += 1\n",
        "print(\"binary acc: {}\".format(binary_corr/binary_total))\n",
        "print(\"number acc: {}\".format(number_corr/number_total))\n",
        "print(\"color acc: {}\".format(color_corr/color_total))\n",
        "print(\"unanswerable acc: {}\".format(unanswerable_corr/unanswerable_total))\n",
        "print(\"other acc: {}\".format(other_corr/other_total))"
      ],
      "execution_count": null,
      "outputs": [
        {
          "output_type": "stream",
          "text": [
            "4317\n",
            "4319\n",
            "binary acc: 0.6888888888888889\n",
            "number acc: 0.4230769230769231\n",
            "color acc: 0.7024221453287197\n",
            "unanswerable acc: 1.0\n",
            "other acc: 0.7402777777777778\n"
          ],
          "name": "stdout"
        }
      ]
    },
    {
      "cell_type": "code",
      "metadata": {
        "colab": {
          "base_uri": "https://localhost:8080/"
        },
        "id": "udExItFAviE0",
        "outputId": "1f5be15b-e44b-461b-de57-729fe302a0bb"
      },
      "source": [
        "#classifier: check question type distribution to generate balanced data\n",
        "import json\n",
        "with open('data/vqa/train.json') as f1:\n",
        "  train = json.load(f1)\n",
        "\n",
        "unanswerable_cnt = 0\n",
        "color_cnt = 0\n",
        "number_cnt = 0\n",
        "binary_cnt = 0\n",
        "other_cnt = 0\n",
        "for qa in train:\n",
        "  question_type = qa[\"question_type\"]\n",
        "  if question_type == \"unanswerable\":\n",
        "    unanswerable_cnt += 1\n",
        "  elif question_type == \"number\":\n",
        "    number_cnt += 1\n",
        "  elif question_type == \"binary\":\n",
        "    binary_cnt += 1\n",
        "  elif question_type == \"other\":\n",
        "    other_cnt += 1\n",
        "  else:\n",
        "    color_cnt += 1\n",
        "print(\"unanswerable_cnt : {}\".format(unanswerable_cnt))\n",
        "print(\"color_cnt : {}\".format(color_cnt))\n",
        "print(\"number_cnt : {}\".format(number_cnt))\n",
        "print(\"binary_cnt : {}\".format(binary_cnt))\n",
        "print(\"other_cnt : {}\".format(other_cnt))\n",
        "\n"
      ],
      "execution_count": null,
      "outputs": [
        {
          "output_type": "stream",
          "text": [
            "unanswerable_cnt : 7069\n",
            "color_cnt : 1731\n",
            "number_cnt : 406\n",
            "binary_cnt : 1078\n",
            "other_cnt : 10239\n"
          ],
          "name": "stdout"
        }
      ]
    },
    {
      "cell_type": "code",
      "metadata": {
        "id": "QE76mRA4zeRQ"
      },
      "source": [
        "#create balanced train\n",
        "#binary * 10\n",
        "#color * 6\n",
        "#number * 25\n",
        "balanced_train = []\n",
        "for qa in train:\n",
        "  question_type = qa[\"question_type\"]\n",
        "  ori_quesid = qa[\"question_id\"]\n",
        "  balanced_train.append(qa)\n",
        " \n",
        "  if question_type == \"number\":  \n",
        "    for i in range(24):      \n",
        "      qa[\"question_id\"] = \"repeat\"+str(i)+\"-\" + ori_quesid\n",
        "      balanced_train.append(qa)\n",
        "  \n",
        "  elif question_type == \"binary\":\n",
        "    for i in range(9):      \n",
        "      qa[\"question_id\"] = \"repeat\"+str(i)+\"-\" + ori_quesid\n",
        "      balanced_train.append(qa)\n",
        "\n",
        "  elif question_type == \"color\":\n",
        "    for i in range(5):      \n",
        "      qa[\"question_id\"] = \"repeat\"+str(i)+\"-\" + ori_quesid\n",
        "      balanced_train.append(qa)\n",
        "\n",
        "with open('data/vqa/train_balanced.json', 'w') as outfile:\n",
        "    json.dump(balanced_train, outfile)"
      ],
      "execution_count": null,
      "outputs": []
    },
    {
      "cell_type": "code",
      "metadata": {
        "id": "PduBDP7vgpBb"
      },
      "source": [
        "#generate classifier's file\n",
        "import json\n",
        "classifier_ans2label = {}\n",
        "classifier_ans2label[\"binary\"] = 0\n",
        "classifier_ans2label[\"number\"] = 1\n",
        "classifier_ans2label[\"unanswerable\"] = 2\n",
        "classifier_ans2label[\"other\"] = 3\n",
        "classifier_ans2label[\"color\"] = 4\n",
        "\n",
        "classifier_label2ans = [\"binary\",\"number\",\"unanswerable\",\"other\",\"color\"]\n",
        "\n",
        "with open('data/vqa/classifier_ans2label.json', 'w') as outfile:\n",
        "    json.dump(classifier_ans2label, outfile)\n",
        "\n",
        "with open('data/vqa/classifier_label2ans.json', 'w') as outfile:\n",
        "    json.dump(classifier_label2ans, outfile)"
      ],
      "execution_count": null,
      "outputs": []
    },
    {
      "cell_type": "code",
      "metadata": {
        "id": "H_9PMAe4p8ZP"
      },
      "source": [
        "#reformat predicted class type\n",
        "import json\n",
        "with open('snap/vqa/vizwiz_classify_result/valid_predict.json') as f1:\n",
        "  ques_type_pred = json.load(f1)\n",
        "\n",
        "qid2questype = {}\n",
        "for qa in ques_type_pred:\n",
        "  qid2questype[qa[\"question_id\"]] = qa[\"answer\"]\n",
        "\n",
        "with open('snap/vqa/vizwiz_classify_result/pred_qid2questype.json', 'w') as outfile:\n",
        "    json.dump(qid2questype, outfile)"
      ],
      "execution_count": null,
      "outputs": []
    },
    {
      "cell_type": "code",
      "metadata": {
        "id": "Tot-hQdzHtb_"
      },
      "source": [
        "colors = ['absolute zero', 'acid green', 'aero', 'aero blue', 'african violet', 'air superiority blue', 'alabaster', 'alice blue', 'alizarin', 'alloy orange', 'almond', 'amaranth', 'amaranth deep purple', 'amaranth pink', 'amaranth purple', 'amaranth red', 'amazon', 'amber', 'Amber ', 'SAE/ECE', 'amethyst', 'android green', 'antique brass', 'antique bronze', 'antique fuchsia', 'antique ruby', 'antique white', 'Ao ', 'English', 'apple green', 'apricot', 'aqua', 'aquamarine', 'arctic lime', 'army green', 'artichoke', 'arylide yellow', 'ash grey', 'asparagus', 'atomic tangerine', 'auburn', 'aureolin', 'avocado', 'azure', 'Azure ', 'X11/web color', 'baby blue', 'baby blue eyes', 'baby pink', 'baby powder', 'baker-miller pink', 'banana mania', 'banana yellow', 'barbie pink', 'barn red', 'battleship grey', 'beau blue', 'beaver', 'beige', \"b'dazzled blue\", 'big dip o’ruby', 'big foot feet', 'bisque', 'bistre', 'bistre brown', 'bitter lemon', 'bittersweet', 'bittersweet shimmer', 'black', 'black bean', 'black coral', 'black leather jacket', 'black olive', 'black shadows', 'blanched almond', 'blast-off bronze', 'bleu de france', 'blizzard blue', 'blood red', 'blue', 'Blue ', 'Crayola', 'Blue ', 'Munsell', 'Blue ', 'NCS', 'Blue ', 'Pantone', 'Blue ', 'pigment', 'blue bell', 'blue-gray', 'blue-green', 'blue jeans', 'blue sapphire', 'blue-violet', 'blue yonder', 'blueberry', 'blush', 'bole', 'bone', 'booger buster', 'bottle green', 'brick red', 'bright green', 'bright lilac', 'bright maroon', 'bright navy blue', 'bright pink', 'bright turquoise', 'Bright yellow ', 'Crayola', 'brilliant rose', 'brink pink', 'british racing green', 'bronze', 'brown', 'Brown ', 'web', 'brown sugar', 'brunswick green', 'bud green', 'buff', 'burgundy', 'burlywood', 'burnished brown', 'burnt orange', 'burnt sienna', 'burnt umber', 'byzantine', 'byzantium', 'cadet', 'cadet blue', 'cadet grey', 'cadmium green', 'cadmium orange', 'cadmium red', 'cadmium yellow', 'café au lait', 'café noir', 'calypso', 'cambridge blue', 'camel', 'cameo pink', 'canary yellow', 'candy apple red', 'candy pink', 'caput mortuum', 'cardinal', 'caribbean green', 'carmine', 'carnation pink', 'carnelian', 'carolina blue', 'carrot orange', 'castleton green', 'catawba', 'cedar chest', 'celadon', 'celadon green', 'celeste', 'cerise', 'cerulean', 'cerulean blue', 'cerulean frost', 'Cerulean ', 'Crayola', 'champagne', 'champagne pink', 'charcoal', 'charleston green', 'charm pink', 'Chartreuse ', 'traditional', 'Chartreuse ', 'web', 'cherry blossom pink', 'chestnut', 'china pink', 'china rose', 'chinese red', 'chinese violet', 'Chocolate ', 'traditional', 'Chocolate ', 'web', 'cinereous', 'cinnamon satin', 'citrine', 'citron', 'claret', 'cobalt blue', 'cocoa brown', 'coconut', 'coffee', 'columbia blue', 'congo pink', 'cool grey', 'copper', 'copper penny', 'copper red', 'copper rose', 'coquelicot', 'coral', 'coral pink', 'cordovan', 'cornell red', 'Cornflower blue ', 'web', 'Cornflower blue ', 'Crayola', 'cornsilk', 'cosmic cobalt', 'cosmic latte', 'coyote brown', 'cotton candy', 'cream', 'crimson', 'Crimson ', 'UA', 'cultured', 'cyan', 'cyber grape', 'cyber yellow', 'cyclamen', 'dandelion', 'dark blue', 'dark blue-gray', 'dark brown', 'dark byzantium', 'dark cyan', 'dark electric blue', 'dark fuchsia', 'dark goldenrod', 'Dark gray ', 'X11', 'dark green', 'Dark green ', 'X11', 'dark jungle green', 'dark khaki', 'dark lava', 'dark liver', 'dark magenta', 'dark midnight blue', 'dark moss green', 'dark olive green', 'dark orange', 'dark orchid', 'dark pastel green', 'dark purple', 'dark raspberry', 'dark red', 'dark salmon', 'dark sea green', 'dark sienna', 'dark sky blue', 'dark slate blue', 'dark slate gray', 'dark spring green', 'dark tan', 'dark turquoise', 'dark vanilla', 'dark violet', 'dartmouth green', \"davy's grey\", 'deep cerise', 'deep champagne', 'deep chestnut', 'deep fuchsia', 'deep jungle green', 'deep lemon', 'deep mauve', 'deep pink', 'deep sky blue', 'deep space sparkle', 'deep taupe', 'denim', 'denim blue', 'desert', 'desert sand', 'diamond', 'dim gray', 'dingy dungeon', 'dirt', 'dodger blue', 'dogwood rose', 'duke blue', 'dutch white', 'earth yellow', 'ebony', 'ecru', 'eerie black', 'eggplant', 'eggshell', 'egyptian blue', 'electric blue', 'electric crimson', 'electric indigo', 'electric lime', 'electric purple', 'electric violet', 'emerald', 'eminence', 'english lavender', 'english red', 'english vermillion', 'english violet', 'eton blue', 'eucalyptus', 'fallow', 'falu red', 'fandango', 'fandango pink', 'fashion fuchsia', 'fawn', 'feldgrau', 'fern green', 'field drab', 'fiery rose', 'firebrick', 'fire engine red', 'fire opal', 'flame', 'flax', 'flirt', 'floral white', 'fluorescent blue', 'Forest green ', 'Crayola', 'Forest green ', 'traditional', 'Forest green ', 'web', 'french beige', 'french bistre', 'french blue', 'french fuchsia', 'french lilac', 'french lime', 'french mauve', 'french pink', 'french raspberry', 'french rose', 'french sky blue', 'french violet', 'frostbite', 'fuchsia', 'Fuchsia ', 'Crayola', 'fuchsia purple', 'fuchsia rose', 'fulvous', 'fuzzy wuzzy', 'gainsboro', 'gamboge', 'garnet', 'generic viridian', 'ghost white', 'glaucous', 'glossy grape', 'go green', 'gold', 'Gold ', 'metallic', 'Gold (web) ', 'Golden', 'Gold ', 'Crayola', 'gold fusion', 'golden brown', 'golden poppy', 'golden yellow', 'goldenrod', 'granite gray', 'granny smith apple', 'Gray ', 'web', 'Gray ', 'X11', 'green', 'Green ', 'Crayola', 'Green ', 'HTML/CSS color', 'Green ', 'Munsell', 'Green ', 'NCS', 'Green ', 'Pantone', 'Green ', 'pigment', 'Green ', 'RYB', 'green-blue', 'Green-blue ', 'Crayola', 'green-cyan', 'green lizard', 'green sheen', 'green-yellow', 'Green-yellow ', 'Crayola', 'grullo', 'gunmetal', 'han blue', 'han purple', 'hansa yellow', 'harlequin', 'harvest gold', 'heat wave', 'heliotrope', 'heliotrope gray', 'hollywood cerise', 'honeydew', 'honolulu blue', \"hooker's green\", 'hot fuchsia', 'hot magenta', 'hot pink', 'hunter green', 'iceberg', 'icterine', 'illuminating emerald', 'imperial red', 'inchworm', 'independence', 'india green', 'indian red', 'indian yellow', 'indigo', 'indigo dye', 'International orange ', 'aerospace', 'International orange ', 'engineering', 'International orange ', 'Golden Gate Bridge', 'iris', 'irresistible', 'isabelline', 'italian sky blue', 'ivory', 'jade', 'japanese carmine', 'japanese violet', 'jasmine', 'jazzberry jam', 'jet', 'jonquil', 'june bud', 'jungle green', 'kelly green', 'keppel', 'key lime', 'Khaki (web) ', 'Khaki', 'Khaki (X11) ', 'Light khaki', 'kobe', 'kobi', 'kobicha', 'kombu green', 'ksu purple', 'la salle green', 'languid lavender', 'lanzones', 'lapis lazuli', 'laser lemon', 'laurel green', 'lava', 'Lavender ', 'floral', 'Lavender ', 'web', 'lavender blue', 'lavender blush', 'lavender gray', 'lavender indigo', 'lavender magenta', 'lavender mist', 'lavender pink', 'lavender purple', 'lavender rose', 'lawn green', 'lemon', 'lemon chiffon', 'lemon curry', 'lemon glacier', 'lemon iced tea', 'lemon lime', 'lemon lime', 'lemon meringue', 'lemon yellow', 'Lemon yellow ', 'Crayola', 'lenurple', 'liberty', 'licorice', 'light apricot', 'light blue', 'light brown', 'light carmine pink', 'light chocolate cosmos', 'light cobalt blue', 'light coral', 'light cornflower blue', 'light crimson', 'light cyan', 'light deep pink', 'light french beige', 'light fuchsia pink', 'light gold', 'light goldenrod', 'light goldenrod yellow', 'light gray', 'light grayish magenta', 'light green', 'light hot pink', 'light khaki', 'light medium orchid', 'light moss green', 'light mustard', 'light orange', 'light orchid', 'light pastel purple', 'light periwinkle', 'light pink', 'light red', 'light red ochre', 'light salmon', 'light salmon pink', 'light sea green', 'light silver', 'light sky blue', 'light slate gray', 'light steel blue', 'light taupe', 'light thulian pink', 'light turquoise', 'light violet', 'light yellow', 'lilac', 'lilac luster', 'Lime ', 'color wheel', 'Lime (web) ', 'X11 green', 'lime green', 'limerick', 'lincoln green', 'linen', 'lion', 'liseran purple', 'little boy blue', 'little girl pink', 'liver', 'Liver ', 'dogs', 'Liver ', 'organ', 'liver chestnut', 'livid', 'lotion', 'lotion blue', 'lotion pink', 'lumber', 'lust', 'maastricht blue', 'macaroni and cheese', 'madder lake', 'magenta', 'Magenta ', 'Pantone', 'mahogany', 'maize', 'Maize ', 'Crayola', 'majorelle blue', 'malachite', 'manatee', 'mandarin', 'mango', 'mango green', 'mango tango', 'mantis', 'mardi gras', 'marigold', 'Maroon ', 'Crayola', 'Maroon ', 'HTML/CSS', 'Maroon ', 'X11', 'mauve', 'mauve taupe', 'mauvelous', 'maximum blue', 'maximum blue green', 'maximum blue purple', 'maximum green', 'maximum green yellow', 'maximum orange', 'maximum purple', 'maximum pink', 'maximum red', 'maximum red purple', 'maximum violet', 'maximum yellow', 'maximum yellow red', 'may green', 'maya blue', 'meat brown', 'medium aquamarine', 'medium blue', 'medium candy apple red', 'medium carmine', 'medium champagne', 'medium electric blue', 'medium green', 'medium jungle green', 'medium lavender magenta', 'medium orange', 'medium orchid', 'medium persian blue', 'medium pink', 'medium purple', 'medium red', 'medium red-violet', 'medium ruby', 'medium sea green', 'medium sky blue', 'medium slate blue', 'medium spring bud', 'medium spring green', 'medium taupe', 'medium turquoise', 'medium tuscan red', 'medium vermilion', 'medium violet', 'medium violet-red', 'medium yellow', 'mellow apricot', 'mellow yellow', 'melon', 'Melon ', 'Crayola', 'menthol', 'metallic blue', 'metallic bronze', 'metallic brown', 'metallic gold', 'metallic green', 'metallic orange', 'metallic pink', 'metallic red', 'metallic seaweed', 'metallic silver', 'metallic sunburst', 'metallic violet', 'metallic yellow', 'mexican pink', 'microsoft blue', 'microsoft edge blue', 'microsoft green', 'microsoft red', 'microsoft yellow', 'middle blue', 'middle blue green', 'middle blue purple', 'middle grey', 'middle green', 'middle green yellow', 'middle purple', 'middle red', 'middle red purple', 'middle yellow', 'middle yellow red', 'midnight', 'midnight blue', 'midnight blue', 'Midnight green ', 'eagle green', 'mikado yellow', 'milk', 'milk chocolate', 'mimi pink', 'mindaro', 'ming', 'minion yellow', 'mint', 'mint cream', 'mint green', 'misty moss', 'misty rose', 'moccasin', 'mocha', 'mode beige', 'moonstone', 'moonstone blue', 'mordant red 19', 'morning blue', 'moss green', 'mountain meadow', 'mountbatten pink', 'msu green', 'mud', 'mughal green', 'mulberry', 'Mulberry ', 'Crayola', \"mummy's tomb\", 'mustard', 'mustard brown', 'mustard green', 'mustard yellow', 'myrtle green', 'mystic', 'mystic maroon', 'mystic red', 'nadeshiko pink', 'napier green', 'naples yellow', 'navajo white', 'navy blue', 'Navy blue ', 'Crayola', 'navy purple', 'neon blue', 'neon brown', 'neon carrot', 'neon cyan', 'neon fuchsia', 'neon gold', 'neon gray', 'neon dark green', 'neon green', 'neon green', 'neon pink', 'neon purple', 'neon red', 'neon scarlet', 'neon silver', 'neon tangerine', 'neon yellow', 'new car', 'new york pink', 'nickel', 'nintendo red', 'non-photo blue', 'nyanza', 'ocean blue', 'ocean boat blue', 'ocean green', 'ochre', 'office green', 'ogre odor', 'old burgundy', 'old gold', 'old heliotrope', 'old lace', 'old lavender', 'old mauve', 'old moss green', 'old rose', 'old silver', 'olive', 'Olive drab ', '#3', 'olive drab #7', 'olive green', 'olivine', 'onyx', 'opal', 'opera mauve', 'orange', 'Orange ', 'color wheel', 'Orange ', 'Crayola', 'Orange ', 'Pantone', 'Orange ', 'RYB', 'Orange ', 'web', 'orange iced tea', 'orange peel', 'orange-red', 'Orange-red ', 'Crayola', 'orange soda', 'orange soda', 'orange-yellow', 'Orange-yellow ', 'Crayola', 'orchid', 'orchid pink', 'Orchid ', 'Crayola', 'orioles orange', 'otter brown', 'outer space', 'Outer space ', 'Crayola', 'outrageous orange', 'oxblood', 'oxford blue', 'oxley', 'ou crimson red', 'pacific blue', 'pakistan green', 'palatinate blue', 'palatinate purple', 'pale aqua', 'pale blue', 'pale brown', 'pale carmine', 'pale cerulean', 'pale chestnut', 'pale copper', 'pale cornflower blue', 'pale cyan', 'pale gold', 'pale goldenrod', 'pale green', 'pale lavender', 'pale magenta', 'pale magenta-pink', 'pale pink', 'pale plum', 'pale red-violet', 'pale robin egg blue', 'pale silver', 'pale spring bud', 'pale taupe', 'pale turquoise', 'pale violet', 'pale violet-red', 'palm leaf', 'pansy purple', 'paolo veronese green', 'papaya whip', 'paradise pink', 'parchment', 'paris green', 'parrot pink', 'pastel blue', 'pastel brown', 'pastel gray', 'pastel green', 'pastel magenta', 'pastel orange', 'pastel pink', 'pastel purple', 'pastel red', 'pastel violet', 'pastel yellow', 'patriarch', \"payne's grey\", 'peach', 'Peach ', 'Crayola', 'peach-orange', 'peach puff', 'peach-yellow', 'pear', 'pearl', 'pearl aqua', 'pearly purple', 'peridot', 'periwinkle', 'Periwinkle ', 'Crayola', 'permanent geranium lake', 'persian blue', 'persian green', 'persian indigo', 'persian orange', 'persian pink', 'persian plum', 'persian red', 'persian rose', 'persimmon', 'peru', 'petal', 'pewter blue', 'philippine blue', 'philippine bronze', 'philippine brown', 'philippine gold', 'philippine golden yellow', 'philippine gray', 'philippine green', 'philippine indigo', 'philippine orange', 'philippine pink', 'philippine red', 'philippine silver', 'philippine sky blue', 'philippine violet', 'philippine yellow', 'phlox', 'phthalo blue', 'phthalo green', 'picton blue', 'pictorial carmine', 'piggy pink', 'pine green', 'pine tree', 'pineapple', 'pink', 'Pink ', 'Pantone', 'Pink Diamond ', 'Ace Hardware Color', 'Pink Diamond ', 'Independent Retailers Colors', 'pink flamingo', 'pink lace', 'pink lavender', 'pink-orange', 'pink pearl', 'pink raspberry', 'pink sherbet', 'pistachio', 'pixie powder', 'platinum', 'plum', 'Plum ', 'web', 'plump purple', 'poison purple', 'police blue', 'polished pine', 'pomp and power', 'popstar', 'portland orange', 'powder blue', 'prilly blue', 'prilly pink', 'prilly red', 'princess perfume', 'princeton orange', 'prune', 'prussian blue', 'psychedelic purple', 'puce', 'puce red', 'Pullman Brown ', 'UPS Brown', 'pullman green', 'pumpkin', 'Purple ', 'HTML', 'Purple ', 'Munsell', 'Purple ', 'X11', 'purple heart', 'purple mountain majesty', 'purple navy', 'purple pizzazz', 'purple plum', 'purple taupe', 'purpureus', 'quartz', 'queen blue', 'queen pink', 'quick silver', 'quinacridone magenta', 'quincy', 'rackley', 'radical red', 'raisin black', 'rajah', 'raspberry', 'raspberry glace', 'raspberry pink', 'raspberry rose', 'raw sienna', 'raw umber', 'razzle dazzle rose', 'razzmatazz', 'razzmic berry', 'rebecca purple', 'red', 'Red ', 'Crayola', 'Red ', 'Munsell', 'Red ', 'NCS', 'Red ', 'Pantone', 'Red ', 'pigment', 'Red ', 'RYB', 'red-brown', 'red cola', 'red devil', 'red-orange', 'Red-orange ', 'Crayola', 'Red-orange ', 'Color wheel', 'red-purple', 'red rum', 'red salsa', 'red strawberry', 'red-violet', 'Red-violet ', 'Crayola', 'Red-violet ', 'Color wheel', 'redwood', 'registration black', 'resolution blue', 'rhythm', 'rich brilliant lavender', 'rich carmine', 'rich electric blue', 'rich lavender', 'rich lilac', 'rich maroon', 'rifle green', 'ripe mango', 'roast coffee', 'robin egg blue', 'rocket metallic', 'roman silver', 'root beer', 'rose', 'rose bonbon', 'rose dust', 'rose ebony', 'rose garnet', 'rose gold', 'rose madder', 'rose pink', 'rose quartz', 'rose quartz pink', 'rose red', 'rose taupe', 'rose vale', 'rosewood', 'rosy brown', 'royal azure', 'royal blue', 'royal blue', 'royal brown', 'royal fuchsia', 'royal green', 'royal orange', 'royal pink', 'royal red', 'royal red', 'royal purple', 'royal yellow', 'ruber', 'rubine red', 'ruby', 'ruby red', 'rufous', 'rum', 'russet', 'russian green', 'russian violet', 'rust', 'rusty red', 'sacramento state green', 'saddle brown', 'safety orange', 'Safety orange ', 'blaze orange', 'safety yellow', 'saffron', 'sage', \"st. patrick's blue\", 'salem', 'salmon', 'salmon rose', 'salmon pink', 'samsung blue', 'sand', 'sand dune', 'sandstorm', 'sandy brown', 'sandy tan', 'sandy taupe', 'sap green', 'sapphire', 'sapphire blue', 'sasquatch socks', 'satin sheen gold', 'scarlet', 'Scarlet ', 'Crayola', 'schauss pink', 'school bus yellow', \"screamin' green\", 'sea blue', 'sea foam green', 'sea green', 'Sea green ', 'Crayola', 'sea serpent', 'seal brown', 'seashell', 'selective yellow', 'sepia', 'shadow', 'shadow blue', 'shampoo', 'shamrock green', 'shandy', 'sheen green', 'shimmering blush', 'shiny shamrock', 'shocking pink', 'Shocking pink ', 'Crayola', 'sienna', 'silver', 'Silver ', 'Crayola', 'Silver ', 'Metallic', 'silver chalice', 'silver foil', 'silver lake blue', 'silver pink', 'silver sand', 'sinopia', 'sizzling red', 'sizzling sunrise', 'skobeloff', 'sky blue', 'Sky blue ', 'Crayola', 'sky magenta', 'slate blue', 'slate gray', 'slimy green', 'Smalt ', 'Dark powder blue', 'smashed pumpkin', 'smitten', 'smoke', 'smokey topaz', 'smoky black', 'snow', 'soap', 'solid pink', 'sonic silver', 'spartan crimson', 'space cadet', 'spanish bistre', 'spanish blue', 'spanish carmine', 'spanish crimson', 'spanish gray', 'spanish green', 'spanish orange', 'spanish pink', 'spanish purple', 'spanish red', 'spanish sky blue', 'spanish violet', 'spanish viridian', 'spanish yellow', 'spicy mix', 'spiro disco ball', 'spring bud', 'spring frost', 'spring green', 'Spring green ', 'Crayola', 'star command blue', 'steel blue', 'steel pink', 'steel teal', 'stil de grain yellow', 'straw', 'strawberry', 'stop red', 'strawberry iced tea', 'strawberry red', 'sugar plum', 'sunburnt cyclops', 'sunglow', 'sunny', 'sunray', 'sunset', 'sunset orange', 'super pink', 'sweet brown', 'taffy', 'tan', 'Tan ', 'Crayola', 'tangelo', 'tangerine', 'tangerine yellow', 'tango pink', 'tart orange', 'taupe', 'taupe gray', 'tea green', 'tea rose', 'tea rose', 'teal', 'teal blue', 'teal deer', 'teal green', 'telemagenta', 'temptress', 'Tenné ', 'tawny', 'terra cotta', 'thistle', 'Thistle ', 'Crayola', 'thulian pink', 'tickle me pink', 'tiffany blue', \"tiger's eye\", 'timberwolf', 'titanium', 'titanium yellow', 'tomato', 'tomato sauce', 'toolbox', 'tooth', 'topaz', 'tractor red', 'trolley grey', 'tropical rain forest', 'tropical violet', 'true blue', 'tufts blue', 'tulip', 'tumbleweed', 'turkish rose', 'turquoise', 'turquoise blue', 'turquoise green', 'turquoise surf', 'turtle green', 'tuscan', 'tuscan brown', 'tuscan red', 'tuscan tan', 'tuscany', 'twilight lavender', 'twitter blue', 'tyrian purple', 'ube', 'ultramarine', 'ultramarine blue', 'Ultramarine blue ', \"Caran d'Ache\", 'ultra pink', 'ultra red', 'umber', 'unbleached silk', 'united nations blue', 'unmellow yellow', 'up maroon', 'upsdell red', 'urobilin', 'vampire black', 'van dyke brown', 'vanilla', 'vanilla ice', 'vegas gold', 'venetian red', 'verdigris', 'vermilion', 'vermilion', 'veronica', 'verse green', 'very light azure', 'very light blue', 'very light malachite green', 'very light tangelo', 'very pale orange', 'very pale yellow', 'vine green', 'violet', 'Violet ', \"Caran d'Ache\", 'Violet ', 'color wheel', 'Violet ', 'crayola', 'Violet ', 'RYB', 'Violet ', 'web', 'violet-blue', 'Violet-blue ', 'Crayola', 'violet-red', 'violin brown', 'viridian', 'viridian green', 'vista blue', 'vivid amber', 'vivid auburn', 'vivid burgundy', 'vivid cerise', 'vivid cerulean', 'vivid crimson', 'vivid gamboge', 'vivid lime green', 'vivid malachite', 'vivid mulberry', 'vivid orange', 'vivid orange peel', 'vivid orchid', 'vivid raspberry', 'vivid red', 'vivid red-tangelo', 'vivid sky blue', 'vivid tangelo', 'vivid tangerine', 'vivid vermilion', 'vivid violet', 'vivid yellow', 'water', 'watermelon', 'watermelon red', 'watermelon yellow', 'waterspout', 'weldon blue', 'wenge', 'wheat', 'white', 'white chocolate', 'white coffee', 'white smoke', 'wild orchid', 'wild strawberry', 'wild watermelon', 'willpower orange', 'windsor tan', 'wine', 'wine dregs', 'wine red', 'winter sky', 'winter wizard', 'wintergreen dream', 'wisteria', 'wood brown', 'xanadu', 'yellow', 'Yellow ', 'Crayola', 'Yellow ', 'Munsell', 'Yellow ', 'NCS', 'Yellow ', 'Pantone', 'Yellow ', 'process', 'Yellow ', 'RYB', 'yellow-green', 'Yellow-green ', 'Crayola', 'yellow orange', 'Yellow Orange ', 'Color Wheel', 'yellow rose', 'yellow sunshine', 'yinmn blue', 'zaffre', 'zebra white', 'zinnwaldite', 'zomp']\n",
        "#binary: yes/no\n",
        "#numbers\n",
        "def is_number(s):\n",
        "  if s.isnumeric() or s.isdigit():\n",
        "    return True\n",
        "  try:\n",
        "      float(s)\n",
        "      return True\n",
        "  except ValueError:\n",
        "      return False\n",
        "#unanswerable: [\"unanswerable\",'unsuitable','unsuitable image']\n",
        "# label2questype = []\n",
        "binary_labels = []\n",
        "unanswerable_labels = []\n",
        "number_labels = []\n",
        "color_labels = []\n",
        "other_labels = []\n",
        "\n",
        "import json\n",
        "with open('data/vqa/trainval_label2ans.json') as f1:\n",
        "  label2ans = json.load(f1)\n",
        "\n",
        "for label,ans in enumerate(label2ans):\n",
        "  if ans in ['yes','no']:\n",
        "    binary_labels.append(label)\n",
        "    # label2questype.append(\"binary\")\n",
        "    continue\n",
        "  if ans in [\"unanswerable\",'unsuitable','unsuitable image']:\n",
        "    unanswerable_labels.append(label)\n",
        "    # label2questype.append(\"unanswerable\")\n",
        "    continue\n",
        "  if is_number(ans):\n",
        "    number_labels.append(label)\n",
        "    # label2questype.append(\"number\")\n",
        "    continue\n",
        "  if ans in colors:\n",
        "    color_labels.append(label)\n",
        "    # label2questype.append(\"color\")\n",
        "    continue\n",
        "  other_labels.append(label)\n",
        "  # label2questype.append(\"other\")\n",
        "\n",
        "\n",
        "quesType2labels = {}\n",
        "quesType2labels[\"binary\"] = binary_labels\n",
        "quesType2labels[\"unanswerable\"] = unanswerable_labels\n",
        "quesType2labels[\"number\"] = number_labels\n",
        "quesType2labels[\"color\"] = color_labels\n",
        "quesType2labels[\"other\"] = other_labels\n",
        "\n",
        "\n",
        "with open('data/vqa/trainval_questype2labels.json', 'w') as outfile:\n",
        "    json.dump(quesType2labels, outfile)"
      ],
      "execution_count": null,
      "outputs": []
    },
    {
      "cell_type": "code",
      "metadata": {
        "id": "KMOxTCUczw0t"
      },
      "source": [
        "with open('data/vqa/valid.json') as f1:\n",
        "  val_info = json.load(f1)\n",
        "\n",
        "with open('data/vqa/train.json') as f1:\n",
        "  train_info = json.load(f1)\n",
        "\n",
        "def label2questype(label):\n",
        "  if label in ['yes','no']:\n",
        "    return \"binary\"\n",
        "  if label in [\"unanswerable\",'unsuitable','unsuitable image']:\n",
        "    return \"unanswerable\"\n",
        "  if is_number(label):\n",
        "    return \"number\"\n",
        "  if label in colors:\n",
        "    return \"color\"\n",
        "  return \"other\"\n",
        "\n",
        "colors = ['absolute zero', 'acid green', 'aero', 'aero blue', 'african violet', 'air superiority blue', 'alabaster', 'alice blue', 'alizarin', 'alloy orange', 'almond', 'amaranth', 'amaranth deep purple', 'amaranth pink', 'amaranth purple', 'amaranth red', 'amazon', 'amber', 'Amber ', 'SAE/ECE', 'amethyst', 'android green', 'antique brass', 'antique bronze', 'antique fuchsia', 'antique ruby', 'antique white', 'Ao ', 'English', 'apple green', 'apricot', 'aqua', 'aquamarine', 'arctic lime', 'army green', 'artichoke', 'arylide yellow', 'ash grey', 'asparagus', 'atomic tangerine', 'auburn', 'aureolin', 'avocado', 'azure', 'Azure ', 'X11/web color', 'baby blue', 'baby blue eyes', 'baby pink', 'baby powder', 'baker-miller pink', 'banana mania', 'banana yellow', 'barbie pink', 'barn red', 'battleship grey', 'beau blue', 'beaver', 'beige', \"b'dazzled blue\", 'big dip o’ruby', 'big foot feet', 'bisque', 'bistre', 'bistre brown', 'bitter lemon', 'bittersweet', 'bittersweet shimmer', 'black', 'black bean', 'black coral', 'black leather jacket', 'black olive', 'black shadows', 'blanched almond', 'blast-off bronze', 'bleu de france', 'blizzard blue', 'blood red', 'blue', 'Blue ', 'Crayola', 'Blue ', 'Munsell', 'Blue ', 'NCS', 'Blue ', 'Pantone', 'Blue ', 'pigment', 'blue bell', 'blue-gray', 'blue-green', 'blue jeans', 'blue sapphire', 'blue-violet', 'blue yonder', 'blueberry', 'blush', 'bole', 'bone', 'booger buster', 'bottle green', 'brick red', 'bright green', 'bright lilac', 'bright maroon', 'bright navy blue', 'bright pink', 'bright turquoise', 'Bright yellow ', 'Crayola', 'brilliant rose', 'brink pink', 'british racing green', 'bronze', 'brown', 'Brown ', 'web', 'brown sugar', 'brunswick green', 'bud green', 'buff', 'burgundy', 'burlywood', 'burnished brown', 'burnt orange', 'burnt sienna', 'burnt umber', 'byzantine', 'byzantium', 'cadet', 'cadet blue', 'cadet grey', 'cadmium green', 'cadmium orange', 'cadmium red', 'cadmium yellow', 'café au lait', 'café noir', 'calypso', 'cambridge blue', 'camel', 'cameo pink', 'canary yellow', 'candy apple red', 'candy pink', 'caput mortuum', 'cardinal', 'caribbean green', 'carmine', 'carnation pink', 'carnelian', 'carolina blue', 'carrot orange', 'castleton green', 'catawba', 'cedar chest', 'celadon', 'celadon green', 'celeste', 'cerise', 'cerulean', 'cerulean blue', 'cerulean frost', 'Cerulean ', 'Crayola', 'champagne', 'champagne pink', 'charcoal', 'charleston green', 'charm pink', 'Chartreuse ', 'traditional', 'Chartreuse ', 'web', 'cherry blossom pink', 'chestnut', 'china pink', 'china rose', 'chinese red', 'chinese violet', 'Chocolate ', 'traditional', 'Chocolate ', 'web', 'cinereous', 'cinnamon satin', 'citrine', 'citron', 'claret', 'cobalt blue', 'cocoa brown', 'coconut', 'coffee', 'columbia blue', 'congo pink', 'cool grey', 'copper', 'copper penny', 'copper red', 'copper rose', 'coquelicot', 'coral', 'coral pink', 'cordovan', 'cornell red', 'Cornflower blue ', 'web', 'Cornflower blue ', 'Crayola', 'cornsilk', 'cosmic cobalt', 'cosmic latte', 'coyote brown', 'cotton candy', 'cream', 'crimson', 'Crimson ', 'UA', 'cultured', 'cyan', 'cyber grape', 'cyber yellow', 'cyclamen', 'dandelion', 'dark blue', 'dark blue-gray', 'dark brown', 'dark byzantium', 'dark cyan', 'dark electric blue', 'dark fuchsia', 'dark goldenrod', 'Dark gray ', 'X11', 'dark green', 'Dark green ', 'X11', 'dark jungle green', 'dark khaki', 'dark lava', 'dark liver', 'dark magenta', 'dark midnight blue', 'dark moss green', 'dark olive green', 'dark orange', 'dark orchid', 'dark pastel green', 'dark purple', 'dark raspberry', 'dark red', 'dark salmon', 'dark sea green', 'dark sienna', 'dark sky blue', 'dark slate blue', 'dark slate gray', 'dark spring green', 'dark tan', 'dark turquoise', 'dark vanilla', 'dark violet', 'dartmouth green', \"davy's grey\", 'deep cerise', 'deep champagne', 'deep chestnut', 'deep fuchsia', 'deep jungle green', 'deep lemon', 'deep mauve', 'deep pink', 'deep sky blue', 'deep space sparkle', 'deep taupe', 'denim', 'denim blue', 'desert', 'desert sand', 'diamond', 'dim gray', 'dingy dungeon', 'dirt', 'dodger blue', 'dogwood rose', 'duke blue', 'dutch white', 'earth yellow', 'ebony', 'ecru', 'eerie black', 'eggplant', 'eggshell', 'egyptian blue', 'electric blue', 'electric crimson', 'electric indigo', 'electric lime', 'electric purple', 'electric violet', 'emerald', 'eminence', 'english lavender', 'english red', 'english vermillion', 'english violet', 'eton blue', 'eucalyptus', 'fallow', 'falu red', 'fandango', 'fandango pink', 'fashion fuchsia', 'fawn', 'feldgrau', 'fern green', 'field drab', 'fiery rose', 'firebrick', 'fire engine red', 'fire opal', 'flame', 'flax', 'flirt', 'floral white', 'fluorescent blue', 'Forest green ', 'Crayola', 'Forest green ', 'traditional', 'Forest green ', 'web', 'french beige', 'french bistre', 'french blue', 'french fuchsia', 'french lilac', 'french lime', 'french mauve', 'french pink', 'french raspberry', 'french rose', 'french sky blue', 'french violet', 'frostbite', 'fuchsia', 'Fuchsia ', 'Crayola', 'fuchsia purple', 'fuchsia rose', 'fulvous', 'fuzzy wuzzy', 'gainsboro', 'gamboge', 'garnet', 'generic viridian', 'ghost white', 'glaucous', 'glossy grape', 'go green', 'gold', 'Gold ', 'metallic', 'Gold (web) ', 'Golden', 'Gold ', 'Crayola', 'gold fusion', 'golden brown', 'golden poppy', 'golden yellow', 'goldenrod', 'granite gray', 'granny smith apple', 'Gray ', 'web', 'Gray ', 'X11', 'green', 'Green ', 'Crayola', 'Green ', 'HTML/CSS color', 'Green ', 'Munsell', 'Green ', 'NCS', 'Green ', 'Pantone', 'Green ', 'pigment', 'Green ', 'RYB', 'green-blue', 'Green-blue ', 'Crayola', 'green-cyan', 'green lizard', 'green sheen', 'green-yellow', 'Green-yellow ', 'Crayola', 'grullo', 'gunmetal', 'han blue', 'han purple', 'hansa yellow', 'harlequin', 'harvest gold', 'heat wave', 'heliotrope', 'heliotrope gray', 'hollywood cerise', 'honeydew', 'honolulu blue', \"hooker's green\", 'hot fuchsia', 'hot magenta', 'hot pink', 'hunter green', 'iceberg', 'icterine', 'illuminating emerald', 'imperial red', 'inchworm', 'independence', 'india green', 'indian red', 'indian yellow', 'indigo', 'indigo dye', 'International orange ', 'aerospace', 'International orange ', 'engineering', 'International orange ', 'Golden Gate Bridge', 'iris', 'irresistible', 'isabelline', 'italian sky blue', 'ivory', 'jade', 'japanese carmine', 'japanese violet', 'jasmine', 'jazzberry jam', 'jet', 'jonquil', 'june bud', 'jungle green', 'kelly green', 'keppel', 'key lime', 'Khaki (web) ', 'Khaki', 'Khaki (X11) ', 'Light khaki', 'kobe', 'kobi', 'kobicha', 'kombu green', 'ksu purple', 'la salle green', 'languid lavender', 'lanzones', 'lapis lazuli', 'laser lemon', 'laurel green', 'lava', 'Lavender ', 'floral', 'Lavender ', 'web', 'lavender blue', 'lavender blush', 'lavender gray', 'lavender indigo', 'lavender magenta', 'lavender mist', 'lavender pink', 'lavender purple', 'lavender rose', 'lawn green', 'lemon', 'lemon chiffon', 'lemon curry', 'lemon glacier', 'lemon iced tea', 'lemon lime', 'lemon lime', 'lemon meringue', 'lemon yellow', 'Lemon yellow ', 'Crayola', 'lenurple', 'liberty', 'licorice', 'light apricot', 'light blue', 'light brown', 'light carmine pink', 'light chocolate cosmos', 'light cobalt blue', 'light coral', 'light cornflower blue', 'light crimson', 'light cyan', 'light deep pink', 'light french beige', 'light fuchsia pink', 'light gold', 'light goldenrod', 'light goldenrod yellow', 'light gray', 'light grayish magenta', 'light green', 'light hot pink', 'light khaki', 'light medium orchid', 'light moss green', 'light mustard', 'light orange', 'light orchid', 'light pastel purple', 'light periwinkle', 'light pink', 'light red', 'light red ochre', 'light salmon', 'light salmon pink', 'light sea green', 'light silver', 'light sky blue', 'light slate gray', 'light steel blue', 'light taupe', 'light thulian pink', 'light turquoise', 'light violet', 'light yellow', 'lilac', 'lilac luster', 'Lime ', 'color wheel', 'Lime (web) ', 'X11 green', 'lime green', 'limerick', 'lincoln green', 'linen', 'lion', 'liseran purple', 'little boy blue', 'little girl pink', 'liver', 'Liver ', 'dogs', 'Liver ', 'organ', 'liver chestnut', 'livid', 'lotion', 'lotion blue', 'lotion pink', 'lumber', 'lust', 'maastricht blue', 'macaroni and cheese', 'madder lake', 'magenta', 'Magenta ', 'Pantone', 'mahogany', 'maize', 'Maize ', 'Crayola', 'majorelle blue', 'malachite', 'manatee', 'mandarin', 'mango', 'mango green', 'mango tango', 'mantis', 'mardi gras', 'marigold', 'Maroon ', 'Crayola', 'Maroon ', 'HTML/CSS', 'Maroon ', 'X11', 'mauve', 'mauve taupe', 'mauvelous', 'maximum blue', 'maximum blue green', 'maximum blue purple', 'maximum green', 'maximum green yellow', 'maximum orange', 'maximum purple', 'maximum pink', 'maximum red', 'maximum red purple', 'maximum violet', 'maximum yellow', 'maximum yellow red', 'may green', 'maya blue', 'meat brown', 'medium aquamarine', 'medium blue', 'medium candy apple red', 'medium carmine', 'medium champagne', 'medium electric blue', 'medium green', 'medium jungle green', 'medium lavender magenta', 'medium orange', 'medium orchid', 'medium persian blue', 'medium pink', 'medium purple', 'medium red', 'medium red-violet', 'medium ruby', 'medium sea green', 'medium sky blue', 'medium slate blue', 'medium spring bud', 'medium spring green', 'medium taupe', 'medium turquoise', 'medium tuscan red', 'medium vermilion', 'medium violet', 'medium violet-red', 'medium yellow', 'mellow apricot', 'mellow yellow', 'melon', 'Melon ', 'Crayola', 'menthol', 'metallic blue', 'metallic bronze', 'metallic brown', 'metallic gold', 'metallic green', 'metallic orange', 'metallic pink', 'metallic red', 'metallic seaweed', 'metallic silver', 'metallic sunburst', 'metallic violet', 'metallic yellow', 'mexican pink', 'microsoft blue', 'microsoft edge blue', 'microsoft green', 'microsoft red', 'microsoft yellow', 'middle blue', 'middle blue green', 'middle blue purple', 'middle grey', 'middle green', 'middle green yellow', 'middle purple', 'middle red', 'middle red purple', 'middle yellow', 'middle yellow red', 'midnight', 'midnight blue', 'midnight blue', 'Midnight green ', 'eagle green', 'mikado yellow', 'milk', 'milk chocolate', 'mimi pink', 'mindaro', 'ming', 'minion yellow', 'mint', 'mint cream', 'mint green', 'misty moss', 'misty rose', 'moccasin', 'mocha', 'mode beige', 'moonstone', 'moonstone blue', 'mordant red 19', 'morning blue', 'moss green', 'mountain meadow', 'mountbatten pink', 'msu green', 'mud', 'mughal green', 'mulberry', 'Mulberry ', 'Crayola', \"mummy's tomb\", 'mustard', 'mustard brown', 'mustard green', 'mustard yellow', 'myrtle green', 'mystic', 'mystic maroon', 'mystic red', 'nadeshiko pink', 'napier green', 'naples yellow', 'navajo white', 'navy blue', 'Navy blue ', 'Crayola', 'navy purple', 'neon blue', 'neon brown', 'neon carrot', 'neon cyan', 'neon fuchsia', 'neon gold', 'neon gray', 'neon dark green', 'neon green', 'neon green', 'neon pink', 'neon purple', 'neon red', 'neon scarlet', 'neon silver', 'neon tangerine', 'neon yellow', 'new car', 'new york pink', 'nickel', 'nintendo red', 'non-photo blue', 'nyanza', 'ocean blue', 'ocean boat blue', 'ocean green', 'ochre', 'office green', 'ogre odor', 'old burgundy', 'old gold', 'old heliotrope', 'old lace', 'old lavender', 'old mauve', 'old moss green', 'old rose', 'old silver', 'olive', 'Olive drab ', '#3', 'olive drab #7', 'olive green', 'olivine', 'onyx', 'opal', 'opera mauve', 'orange', 'Orange ', 'color wheel', 'Orange ', 'Crayola', 'Orange ', 'Pantone', 'Orange ', 'RYB', 'Orange ', 'web', 'orange iced tea', 'orange peel', 'orange-red', 'Orange-red ', 'Crayola', 'orange soda', 'orange soda', 'orange-yellow', 'Orange-yellow ', 'Crayola', 'orchid', 'orchid pink', 'Orchid ', 'Crayola', 'orioles orange', 'otter brown', 'outer space', 'Outer space ', 'Crayola', 'outrageous orange', 'oxblood', 'oxford blue', 'oxley', 'ou crimson red', 'pacific blue', 'pakistan green', 'palatinate blue', 'palatinate purple', 'pale aqua', 'pale blue', 'pale brown', 'pale carmine', 'pale cerulean', 'pale chestnut', 'pale copper', 'pale cornflower blue', 'pale cyan', 'pale gold', 'pale goldenrod', 'pale green', 'pale lavender', 'pale magenta', 'pale magenta-pink', 'pale pink', 'pale plum', 'pale red-violet', 'pale robin egg blue', 'pale silver', 'pale spring bud', 'pale taupe', 'pale turquoise', 'pale violet', 'pale violet-red', 'palm leaf', 'pansy purple', 'paolo veronese green', 'papaya whip', 'paradise pink', 'parchment', 'paris green', 'parrot pink', 'pastel blue', 'pastel brown', 'pastel gray', 'pastel green', 'pastel magenta', 'pastel orange', 'pastel pink', 'pastel purple', 'pastel red', 'pastel violet', 'pastel yellow', 'patriarch', \"payne's grey\", 'peach', 'Peach ', 'Crayola', 'peach-orange', 'peach puff', 'peach-yellow', 'pear', 'pearl', 'pearl aqua', 'pearly purple', 'peridot', 'periwinkle', 'Periwinkle ', 'Crayola', 'permanent geranium lake', 'persian blue', 'persian green', 'persian indigo', 'persian orange', 'persian pink', 'persian plum', 'persian red', 'persian rose', 'persimmon', 'peru', 'petal', 'pewter blue', 'philippine blue', 'philippine bronze', 'philippine brown', 'philippine gold', 'philippine golden yellow', 'philippine gray', 'philippine green', 'philippine indigo', 'philippine orange', 'philippine pink', 'philippine red', 'philippine silver', 'philippine sky blue', 'philippine violet', 'philippine yellow', 'phlox', 'phthalo blue', 'phthalo green', 'picton blue', 'pictorial carmine', 'piggy pink', 'pine green', 'pine tree', 'pineapple', 'pink', 'Pink ', 'Pantone', 'Pink Diamond ', 'Ace Hardware Color', 'Pink Diamond ', 'Independent Retailers Colors', 'pink flamingo', 'pink lace', 'pink lavender', 'pink-orange', 'pink pearl', 'pink raspberry', 'pink sherbet', 'pistachio', 'pixie powder', 'platinum', 'plum', 'Plum ', 'web', 'plump purple', 'poison purple', 'police blue', 'polished pine', 'pomp and power', 'popstar', 'portland orange', 'powder blue', 'prilly blue', 'prilly pink', 'prilly red', 'princess perfume', 'princeton orange', 'prune', 'prussian blue', 'psychedelic purple', 'puce', 'puce red', 'Pullman Brown ', 'UPS Brown', 'pullman green', 'pumpkin', 'Purple ', 'HTML', 'Purple ', 'Munsell', 'Purple ', 'X11', 'purple heart', 'purple mountain majesty', 'purple navy', 'purple pizzazz', 'purple plum', 'purple taupe', 'purpureus', 'quartz', 'queen blue', 'queen pink', 'quick silver', 'quinacridone magenta', 'quincy', 'rackley', 'radical red', 'raisin black', 'rajah', 'raspberry', 'raspberry glace', 'raspberry pink', 'raspberry rose', 'raw sienna', 'raw umber', 'razzle dazzle rose', 'razzmatazz', 'razzmic berry', 'rebecca purple', 'red', 'Red ', 'Crayola', 'Red ', 'Munsell', 'Red ', 'NCS', 'Red ', 'Pantone', 'Red ', 'pigment', 'Red ', 'RYB', 'red-brown', 'red cola', 'red devil', 'red-orange', 'Red-orange ', 'Crayola', 'Red-orange ', 'Color wheel', 'red-purple', 'red rum', 'red salsa', 'red strawberry', 'red-violet', 'Red-violet ', 'Crayola', 'Red-violet ', 'Color wheel', 'redwood', 'registration black', 'resolution blue', 'rhythm', 'rich brilliant lavender', 'rich carmine', 'rich electric blue', 'rich lavender', 'rich lilac', 'rich maroon', 'rifle green', 'ripe mango', 'roast coffee', 'robin egg blue', 'rocket metallic', 'roman silver', 'root beer', 'rose', 'rose bonbon', 'rose dust', 'rose ebony', 'rose garnet', 'rose gold', 'rose madder', 'rose pink', 'rose quartz', 'rose quartz pink', 'rose red', 'rose taupe', 'rose vale', 'rosewood', 'rosy brown', 'royal azure', 'royal blue', 'royal blue', 'royal brown', 'royal fuchsia', 'royal green', 'royal orange', 'royal pink', 'royal red', 'royal red', 'royal purple', 'royal yellow', 'ruber', 'rubine red', 'ruby', 'ruby red', 'rufous', 'rum', 'russet', 'russian green', 'russian violet', 'rust', 'rusty red', 'sacramento state green', 'saddle brown', 'safety orange', 'Safety orange ', 'blaze orange', 'safety yellow', 'saffron', 'sage', \"st. patrick's blue\", 'salem', 'salmon', 'salmon rose', 'salmon pink', 'samsung blue', 'sand', 'sand dune', 'sandstorm', 'sandy brown', 'sandy tan', 'sandy taupe', 'sap green', 'sapphire', 'sapphire blue', 'sasquatch socks', 'satin sheen gold', 'scarlet', 'Scarlet ', 'Crayola', 'schauss pink', 'school bus yellow', \"screamin' green\", 'sea blue', 'sea foam green', 'sea green', 'Sea green ', 'Crayola', 'sea serpent', 'seal brown', 'seashell', 'selective yellow', 'sepia', 'shadow', 'shadow blue', 'shampoo', 'shamrock green', 'shandy', 'sheen green', 'shimmering blush', 'shiny shamrock', 'shocking pink', 'Shocking pink ', 'Crayola', 'sienna', 'silver', 'Silver ', 'Crayola', 'Silver ', 'Metallic', 'silver chalice', 'silver foil', 'silver lake blue', 'silver pink', 'silver sand', 'sinopia', 'sizzling red', 'sizzling sunrise', 'skobeloff', 'sky blue', 'Sky blue ', 'Crayola', 'sky magenta', 'slate blue', 'slate gray', 'slimy green', 'Smalt ', 'Dark powder blue', 'smashed pumpkin', 'smitten', 'smoke', 'smokey topaz', 'smoky black', 'snow', 'soap', 'solid pink', 'sonic silver', 'spartan crimson', 'space cadet', 'spanish bistre', 'spanish blue', 'spanish carmine', 'spanish crimson', 'spanish gray', 'spanish green', 'spanish orange', 'spanish pink', 'spanish purple', 'spanish red', 'spanish sky blue', 'spanish violet', 'spanish viridian', 'spanish yellow', 'spicy mix', 'spiro disco ball', 'spring bud', 'spring frost', 'spring green', 'Spring green ', 'Crayola', 'star command blue', 'steel blue', 'steel pink', 'steel teal', 'stil de grain yellow', 'straw', 'strawberry', 'stop red', 'strawberry iced tea', 'strawberry red', 'sugar plum', 'sunburnt cyclops', 'sunglow', 'sunny', 'sunray', 'sunset', 'sunset orange', 'super pink', 'sweet brown', 'taffy', 'tan', 'Tan ', 'Crayola', 'tangelo', 'tangerine', 'tangerine yellow', 'tango pink', 'tart orange', 'taupe', 'taupe gray', 'tea green', 'tea rose', 'tea rose', 'teal', 'teal blue', 'teal deer', 'teal green', 'telemagenta', 'temptress', 'Tenné ', 'tawny', 'terra cotta', 'thistle', 'Thistle ', 'Crayola', 'thulian pink', 'tickle me pink', 'tiffany blue', \"tiger's eye\", 'timberwolf', 'titanium', 'titanium yellow', 'tomato', 'tomato sauce', 'toolbox', 'tooth', 'topaz', 'tractor red', 'trolley grey', 'tropical rain forest', 'tropical violet', 'true blue', 'tufts blue', 'tulip', 'tumbleweed', 'turkish rose', 'turquoise', 'turquoise blue', 'turquoise green', 'turquoise surf', 'turtle green', 'tuscan', 'tuscan brown', 'tuscan red', 'tuscan tan', 'tuscany', 'twilight lavender', 'twitter blue', 'tyrian purple', 'ube', 'ultramarine', 'ultramarine blue', 'Ultramarine blue ', \"Caran d'Ache\", 'ultra pink', 'ultra red', 'umber', 'unbleached silk', 'united nations blue', 'unmellow yellow', 'up maroon', 'upsdell red', 'urobilin', 'vampire black', 'van dyke brown', 'vanilla', 'vanilla ice', 'vegas gold', 'venetian red', 'verdigris', 'vermilion', 'vermilion', 'veronica', 'verse green', 'very light azure', 'very light blue', 'very light malachite green', 'very light tangelo', 'very pale orange', 'very pale yellow', 'vine green', 'violet', 'Violet ', \"Caran d'Ache\", 'Violet ', 'color wheel', 'Violet ', 'crayola', 'Violet ', 'RYB', 'Violet ', 'web', 'violet-blue', 'Violet-blue ', 'Crayola', 'violet-red', 'violin brown', 'viridian', 'viridian green', 'vista blue', 'vivid amber', 'vivid auburn', 'vivid burgundy', 'vivid cerise', 'vivid cerulean', 'vivid crimson', 'vivid gamboge', 'vivid lime green', 'vivid malachite', 'vivid mulberry', 'vivid orange', 'vivid orange peel', 'vivid orchid', 'vivid raspberry', 'vivid red', 'vivid red-tangelo', 'vivid sky blue', 'vivid tangelo', 'vivid tangerine', 'vivid vermilion', 'vivid violet', 'vivid yellow', 'water', 'watermelon', 'watermelon red', 'watermelon yellow', 'waterspout', 'weldon blue', 'wenge', 'wheat', 'white', 'white chocolate', 'white coffee', 'white smoke', 'wild orchid', 'wild strawberry', 'wild watermelon', 'willpower orange', 'windsor tan', 'wine', 'wine dregs', 'wine red', 'winter sky', 'winter wizard', 'wintergreen dream', 'wisteria', 'wood brown', 'xanadu', 'yellow', 'Yellow ', 'Crayola', 'Yellow ', 'Munsell', 'Yellow ', 'NCS', 'Yellow ', 'Pantone', 'Yellow ', 'process', 'Yellow ', 'RYB', 'yellow-green', 'Yellow-green ', 'Crayola', 'yellow orange', 'Yellow Orange ', 'Color Wheel', 'yellow rose', 'yellow sunshine', 'yinmn blue', 'zaffre', 'zebra white', 'zinnwaldite', 'zomp']\n",
        "\n",
        "new_val_info = []\n",
        "for qa in val_info:\n",
        "  max_label, max_score = None,None\n",
        "  for label,score in qa[\"label\"].items():\n",
        "    if not max_score or score > max_score:\n",
        "      max_label = label\n",
        "      max_score = score\n",
        "  quesType = label2questype(max_label)\n",
        "  qa[\"question_type\"] = quesType\n",
        "  new_val_info.append(qa)\n",
        "\n",
        "\n",
        "new_train_info = []\n",
        "for qa in train_info:\n",
        "  max_label, max_score = None,None\n",
        "  for label,score in qa[\"label\"].items():\n",
        "    if not max_score or score > max_score:\n",
        "      max_label = label\n",
        "      max_score = score\n",
        "  quesType = label2questype(max_label)\n",
        "  qa[\"question_type\"] = quesType\n",
        "  new_train_info.append(qa)\n",
        "\n",
        "with open('data/vqa/valid.json', 'w') as outfile:\n",
        "    json.dump(new_val_info, outfile)\n",
        "with open('data/vqa/train.json', 'w') as outfile:\n",
        "    json.dump(new_train_info, outfile)\n",
        "\n",
        "\n"
      ],
      "execution_count": null,
      "outputs": []
    },
    {
      "cell_type": "code",
      "metadata": {
        "colab": {
          "base_uri": "https://localhost:8080/"
        },
        "id": "7U0YSIOPPABN",
        "outputId": "6a3011fc-488e-4746-8418-1cd46f6cd43e"
      },
      "source": [
        "#1. reformat train.json, val.json \n",
        "# !wget https://ivc.ischool.utexas.edu/VizWiz_final/vqa_data/Annotations.zip\n",
        "# !unzip Annotations.zip\n",
        "import json\n",
        "with open('Annotations/train.json') as f1:\n",
        "  train_json = json.load(f1)\n",
        "with open('Annotations/val.json') as f2:\n",
        "  val_json = json.load(f2)\n",
        "\n",
        "answer_vocabs = set()\n",
        "\n",
        "new_trains = []\n",
        "for train in train_json:\n",
        "  new_train = {}\n",
        "  new_train[\"img_id\"] = train[\"image\"]\n",
        "  new_train[\"question_id\"] = train[\"image\"]\n",
        "  new_train[\"sent\"] = train[\"question\"]\n",
        "  label_dict = {}\n",
        "  for ans in train[\"answers\"]:\n",
        "    answer = ans[\"answer\"]\n",
        "    answer_vocabs.add(answer)\n",
        "    label_dict[answer] = min(round(label_dict.get(answer,0) + 0.3, 1), 1.0)\n",
        "  new_train[\"label\"] = label_dict\n",
        "  new_trains.append(new_train)\n",
        "with open('data/vqa/train.json', 'w') as outfile:\n",
        "    json.dump(new_trains, outfile)\n",
        "\n",
        "\n",
        "new_vals = []\n",
        "for val in val_json:\n",
        "  new_val = {}\n",
        "  new_val[\"img_id\"] = val[\"image\"]\n",
        "  new_val[\"question_id\"] = val[\"image\"]\n",
        "  new_val[\"sent\"] = val[\"question\"]\n",
        "  label_dict = {}\n",
        "  for ans in val[\"answers\"]:\n",
        "    answer = ans[\"answer\"]\n",
        "    answer_vocabs.add(answer)\n",
        "    label_dict[answer] = min(round(label_dict.get(answer,0) + 0.3, 1), 1.0)\n",
        "  new_val[\"label\"] = label_dict\n",
        "  new_vals.append(new_val)\n",
        "with open('data/vqa/minival.json', 'w') as outfile:\n",
        "    json.dump(new_vals, outfile)\n",
        "\n",
        "print(len(new_trains))\n",
        "print(len(new_vals))\n",
        "print(len(answer_vocabs))"
      ],
      "execution_count": null,
      "outputs": [
        {
          "output_type": "stream",
          "text": [
            "20523\n",
            "4319\n",
            "48730\n"
          ],
          "name": "stdout"
        }
      ]
    },
    {
      "cell_type": "code",
      "metadata": {
        "id": "TztCKNcxUHi7"
      },
      "source": [
        "#2. generate ans2label and label2ans file\n",
        "label2ans = list(answer_vocabs)\n",
        "with open('data/vqa/trainval_label2ans.json', 'w') as outfile:\n",
        "    json.dump(label2ans, outfile)\n",
        "ans2label = {}\n",
        "for i,ans in enumerate(label2ans):\n",
        "  ans2label[ans] = i\n",
        "with open('data/vqa/trainval_ans2label.json', 'w') as outfile:\n",
        "    json.dump(ans2label, outfile)\n",
        "\n",
        "!mkdir -p snap/pretrained \n",
        "!wget https://nlp.cs.unc.edu/data/model_LXRT.pth -P snap/pretrained"
      ],
      "execution_count": null,
      "outputs": []
    },
    {
      "cell_type": "code",
      "metadata": {
        "id": "9NrhuJXDCROu",
        "colab": {
          "base_uri": "https://localhost:8080/"
        },
        "outputId": "dddee78c-e766-46f3-c86c-578067e07ab7"
      },
      "source": [
        "!mkdir -p data/vizwiz_imgfeat\n",
        "# !wget https://nlp.cs.unc.edu/data/lxmert_data/vizwiz/vizwiz/valid_obj36.tsv -P data/mscoco_imgfeat\n",
        "# !wget 'https://s3.us-east-2.amazonaws.com/cmumonkey/36_vizwiz_val.pkl' -P data/vizwiz_imgfeat\n",
        "!wget 'https://s3.us-east-2.amazonaws.com/cmumonkey/36_vizwiz_train.pkl' -P data/vizwiz_imgfeat"
      ],
      "execution_count": null,
      "outputs": [
        {
          "output_type": "stream",
          "text": [
            "--2021-04-16 02:32:16--  https://s3.us-east-2.amazonaws.com/cmumonkey/36_vizwiz_train.pkl\n",
            "Resolving s3.us-east-2.amazonaws.com (s3.us-east-2.amazonaws.com)... 52.219.96.106\n",
            "Connecting to s3.us-east-2.amazonaws.com (s3.us-east-2.amazonaws.com)|52.219.96.106|:443... connected.\n",
            "HTTP request sent, awaiting response... 200 OK\n",
            "Length: 7122021558 (6.6G) [binary/octet-stream]\n",
            "Saving to: ‘data/vizwiz_imgfeat/36_vizwiz_train.pkl’\n",
            "\n",
            "36_vizwiz_train.pkl 100%[===================>]   6.63G  75.8MB/s    in 1m 53s  \n",
            "\n",
            "2021-04-16 02:34:09 (60.2 MB/s) - ‘data/vizwiz_imgfeat/36_vizwiz_train.pkl’ saved [7122021558/7122021558]\n",
            "\n"
          ],
          "name": "stdout"
        }
      ]
    },
    {
      "cell_type": "code",
      "metadata": {
        "id": "UNDM8LpYfB8K"
      },
      "source": [
        "import pickle\n",
        "with open('data/vizwiz_imgfeat/36_vizwiz_train.pkl', 'rb') as f:\n",
        "    train_img_feat = pickle.load(f)\n",
        "with open('data/vizwiz_imgfeat/36_vizwiz_val.pkl', 'rb') as f:\n",
        "    val_img_feat = pickle.load(f)"
      ],
      "execution_count": null,
      "outputs": []
    },
    {
      "cell_type": "code",
      "metadata": {
        "id": "W8pcHHwuFPX_"
      },
      "source": [
        "!bash run/vqa_finetune.bash 0 vizwiz_tiny --tiny"
      ],
      "execution_count": null,
      "outputs": []
    },
    {
      "cell_type": "code",
      "metadata": {
        "id": "dWeCsUH7XkYT"
      },
      "source": [
        "!bash run/vqa_finetune.bash 0 vizwiz_all"
      ],
      "execution_count": null,
      "outputs": []
    },
    {
      "cell_type": "code",
      "metadata": {
        "id": "FElI7gqjdsLo",
        "colab": {
          "base_uri": "https://localhost:8080/"
        },
        "outputId": "18e1a15d-2c80-42f2-b28d-a391841600b8"
      },
      "source": [
        "!bash run/vqa_test.bash 0 vizwiz_all_results --test valid --load snap/vqa/vizwiz_all/BEST"
      ],
      "execution_count": null,
      "outputs": [
        {
          "output_type": "stream",
          "text": [
            "train\n",
            "Load 20523 data from split(s) train.\n",
            "Start to load Faster-RCNN detected objects from data/vizwiz_imgfeat/36_vizwiz_train.pkl\n",
            "Loaded 512 images in file data/vizwiz_imgfeat/36_vizwiz_train.pkl in 98 seconds.\n",
            "Use 444 data in torch dataset\n",
            "\n",
            "LXRT encoder with 9 l_layers, 5 x_layers, and 5 r_layers.\n",
            "BertAdam Total Iters: 52\n",
            "Load model from snap/vqa/vizwiz_all/BEST\n",
            "valid\n",
            "Load 4319 data from split(s) valid.\n",
            "Start to load Faster-RCNN detected objects from data/vizwiz_imgfeat/36_vizwiz_val.pkl\n",
            "Loaded 7748 images in file data/vizwiz_imgfeat/36_vizwiz_val.pkl in 44 seconds.\n",
            "Use 4317 data in torch dataset\n",
            "\n",
            "0.4786889043317073\n"
          ],
          "name": "stdout"
        }
      ]
    }
  ]
}